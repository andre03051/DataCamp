{
 "cells": [
  {
   "cell_type": "code",
   "execution_count": 22,
   "metadata": {},
   "outputs": [],
   "source": [
    "import numpy as np\n",
    "import numpy_financial as nf\n",
    "import pandas as pd\n",
    "import matplotlib.pyplot as plt"
   ]
  },
  {
   "cell_type": "markdown",
   "metadata": {},
   "source": [
    "<h2>Taking out a mortgage loan</h2>\n",
    "You're expecting a child soon, and its time to start looking for a home.\n",
    "\n",
    "You're currently living out of an apartment in New York City, but your blossoming career as a Data Scientist has allowed you to save up a sizable sum and purchase a home in neighboring Hoboken, New Jersey.\n",
    "\n",
    "You have decided to purchase a beautiful brownstone home in the $800,000 range. While you do have a considerable amount of cash on hand, you don't have enough to purchase the entire home outright, which means you will have to take the remaining balance out as a **mortgage loan**. From the sound of it, you'll have to put about 20% down up-front to a mortgage loan of that size.\n",
    "\n",
    "This up-front payment is known as a **down payment**."
   ]
  },
  {
   "cell_type": "code",
   "execution_count": 2,
   "metadata": {},
   "outputs": [
    {
     "name": "stdout",
     "output_type": "stream",
     "text": [
      "Initial Down Payment: 160000.0\n",
      "Mortgage Loan: 640000.0\n"
     ]
    }
   ],
   "source": [
    "# Set the value of the home you are looking to buy\n",
    "home_value = 800000\n",
    "\n",
    "# What percentage are you paying up-front?\n",
    "down_payment_percent = .2\n",
    "\n",
    "# Calculate the dollar value of the down payment\n",
    "down_payment = home_value*down_payment_percent\n",
    "print(\"Initial Down Payment: \" + str(down_payment))\n",
    "\n",
    "# Calculate the value of the mortgage loan required after the down payment\n",
    "mortgage_loan = home_value-down_payment\n",
    "print(\"Mortgage Loan: \" + str(mortgage_loan))"
   ]
  },
  {
   "cell_type": "markdown",
   "metadata": {},
   "source": [
    "<h2>Calculating the monthly mortgage payment</h2>\n",
    "In order to make sure you can afford the home, you will have to calculate the monthly mortgage payment you will have to make on a loan that size.\n",
    "\n",
    "Now, since you will be paying a monthly mortgage, you will have to convert each of the parameters into their monthly equivalents. Be careful when adjusting the interest rate, which is compounding!\n",
    "\n",
    "In order to calculate the monthly mortgage payment, you will use the numpy function .pmt(rate, nper, pv) where:\n",
    "\n",
    "- rate = The periodic (monthly) interest rate\n",
    "- nper = The number of payment periods (months) in the lifespan of the mortgage loan\n",
    "- pv = The total value of the mortgage loan\n",
    "You have been given a 30-year mortgage loan quote for your desired amount at 3.75%. The value of the mortgage loan is available as mortgage_loan.\n",
    "\n",
    "The annual mortgage rate is available as mortgage_rate"
   ]
  },
  {
   "cell_type": "code",
   "execution_count": 4,
   "metadata": {},
   "outputs": [
    {
     "name": "stdout",
     "output_type": "stream",
     "text": [
      "Monthly Mortgage Payment: 2941.13\n"
     ]
    }
   ],
   "source": [
    "mortgage_rate = 0.0375\n",
    "\n",
    "# Derive the equivalent monthly mortgage rate from the annual rate\n",
    "mortgage_rate_periodic = (1 + mortgage_rate)**(1/12) - 1\n",
    "\n",
    "# How many monthly payment periods will there be over 30 years?\n",
    "mortgage_payment_periods = 30*12\n",
    "\n",
    "# Calculate the monthly mortgage payment (multiply by -1 to keep it positive)\n",
    "periodic_mortgage_payment = -1*nf.pmt(\n",
    "    rate = mortgage_rate_periodic, \n",
    "    nper = mortgage_payment_periods, \n",
    "    pv = mortgage_loan\n",
    ")\n",
    "\n",
    "print(\"Monthly Mortgage Payment: \" + str(round(periodic_mortgage_payment, 2)))"
   ]
  },
  {
   "cell_type": "markdown",
   "metadata": {},
   "source": [
    "<h2>Calculating interest and principal payments</h2>\n",
    "Due to the size of the mortgage loan, you begin the mortgage in the initial period by paying mostly interest and retaining very little principal or equity that goes towards the ownership of your home.\n",
    "\n",
    "This means that if you were to stop paying your mortgage and sell your home after only a few years, the bank would actually own most of the home because what you paid was mostly interest, and very little principal.\n",
    "\n",
    "mortgage_loan, mortgage_rate_periodic, and periodic_mortgage_payment from the third exercise are available for use."
   ]
  },
  {
   "cell_type": "code",
   "execution_count": 5,
   "metadata": {},
   "outputs": [
    {
     "name": "stdout",
     "output_type": "stream",
     "text": [
      "Initial Interest Payment: 1966.43\n",
      "Initial Principal Payment: 974.7\n"
     ]
    }
   ],
   "source": [
    "mortgage_loan = 640000.0\n",
    "mortgage_rate_periodic = 0.003072541703255549\n",
    "periodic_mortgage_payment = 2941.125363188976\n",
    "\n",
    "# Calculate the amount of the first loan payment that will go towards interest\n",
    "initial_interest_payment = mortgage_loan * mortgage_rate_periodic\n",
    "print(\"Initial Interest Payment: \" + str(round(initial_interest_payment, 2)))\n",
    "\n",
    "# Calculate the amount of the first loan payment that will go towards principal\n",
    "initial_principal_payment = periodic_mortgage_payment - initial_interest_payment\n",
    "print(\"Initial Principal Payment: \" + str(round(initial_principal_payment, 2)))"
   ]
  },
  {
   "cell_type": "markdown",
   "metadata": {},
   "source": [
    "<h2>Simulating periodic payments (I)</h2>\n",
    "You have all the tools you'll need to simulate the mortgage payments over time.\n",
    "\n",
    "Every time a mortgage payment is made, the following payment will have a slightly lower percentage, which is used to pay off interest. This means that more of the remainder will go towards the portion of the home that you own instead of the bank. This is important to determine how much you will gain from selling the home before paying off your mortgage, or to determine when your mortgage is underwater. But more on that later.\n",
    "\n",
    "You will now write a simple program to calculate the interest and mortgage portions of each payment over time.\n",
    "\n",
    "The mortgage_loan, mortgage_rate_periodic, and periodic_mortgage_payment variables from the third exercise are available for use.\n",
    "\n",
    "The principal_remaining variable is initialized as an array of 0's with length equal to the number of payment periods."
   ]
  },
  {
   "cell_type": "code",
   "execution_count": 19,
   "metadata": {},
   "outputs": [
    {
     "data": {
      "text/html": [
       "<div>\n",
       "<style scoped>\n",
       "    .dataframe tbody tr th:only-of-type {\n",
       "        vertical-align: middle;\n",
       "    }\n",
       "\n",
       "    .dataframe tbody tr th {\n",
       "        vertical-align: top;\n",
       "    }\n",
       "\n",
       "    .dataframe thead th {\n",
       "        text-align: right;\n",
       "    }\n",
       "</style>\n",
       "<table border=\"1\" class=\"dataframe\">\n",
       "  <thead>\n",
       "    <tr style=\"text-align: right;\">\n",
       "      <th></th>\n",
       "      <th>Interest</th>\n",
       "      <th>Principal</th>\n",
       "      <th>Principal Remaining</th>\n",
       "    </tr>\n",
       "    <tr>\n",
       "      <th>Month</th>\n",
       "      <th></th>\n",
       "      <th></th>\n",
       "      <th></th>\n",
       "    </tr>\n",
       "  </thead>\n",
       "  <tbody>\n",
       "    <tr>\n",
       "      <th>0</th>\n",
       "      <td>1966.43</td>\n",
       "      <td>974.70</td>\n",
       "      <td>639025.30</td>\n",
       "    </tr>\n",
       "    <tr>\n",
       "      <th>1</th>\n",
       "      <td>1963.43</td>\n",
       "      <td>977.70</td>\n",
       "      <td>638047.60</td>\n",
       "    </tr>\n",
       "    <tr>\n",
       "      <th>2</th>\n",
       "      <td>1960.43</td>\n",
       "      <td>980.70</td>\n",
       "      <td>637066.90</td>\n",
       "    </tr>\n",
       "    <tr>\n",
       "      <th>3</th>\n",
       "      <td>1957.41</td>\n",
       "      <td>983.72</td>\n",
       "      <td>636083.18</td>\n",
       "    </tr>\n",
       "    <tr>\n",
       "      <th>4</th>\n",
       "      <td>1954.39</td>\n",
       "      <td>986.74</td>\n",
       "      <td>635096.44</td>\n",
       "    </tr>\n",
       "  </tbody>\n",
       "</table>\n",
       "</div>"
      ],
      "text/plain": [
       "       Interest  Principal  Principal Remaining\n",
       "Month                                          \n",
       "0       1966.43     974.70            639025.30\n",
       "1       1963.43     977.70            638047.60\n",
       "2       1960.43     980.70            637066.90\n",
       "3       1957.41     983.72            636083.18\n",
       "4       1954.39     986.74            635096.44"
      ]
     },
     "execution_count": 19,
     "metadata": {},
     "output_type": "execute_result"
    }
   ],
   "source": [
    "principal_remaining = np.zeros(mortgage_payment_periods)\n",
    "interest_payment = []\n",
    "principal_payment = []\n",
    "# Loop through each mortgage payment period\n",
    "for i in range(0, mortgage_payment_periods):\n",
    "    \n",
    "    # Handle the case for the first iteration\n",
    "    if i == 0:\n",
    "        previous_principal_remaining = mortgage_loan\n",
    "    else:\n",
    "        previous_principal_remaining = principal_remaining[i - 1]\n",
    "        \n",
    "    # Calculate the interest and principal payments\n",
    "    interest_payment.append(round(previous_principal_remaining * mortgage_rate_periodic, 2))\n",
    "    principal_payment.append(round(periodic_mortgage_payment-interest_payment[i], 2))\n",
    "    \n",
    "    # Catch the case where all principal is paid off in the final period\n",
    "    if previous_principal_remaining - principal_payment[i] < 0:\n",
    "        principal_payment[i] = previous_principal_remaining\n",
    "        \n",
    "    # Collect the principal remaining values in an array\n",
    "    principal_remaining[i] = previous_principal_remaining - principal_payment[i]\n",
    "    \n",
    "# Print the payments for the first few periods\n",
    "temp = pd.DataFrame(\n",
    "    {\n",
    "        'Month': range(0, mortgage_payment_periods),\n",
    "        'Interest':interest_payment,\n",
    "        'Principal': principal_payment,\n",
    "        'Principal Remaining': principal_remaining\n",
    "    }\n",
    ")\n",
    "temp.set_index('Month', inplace=True)\n",
    "temp.head()"
   ]
  },
  {
   "cell_type": "code",
   "execution_count": 29,
   "metadata": {},
   "outputs": [
    {
     "data": {
      "image/png": "[encoded data removed]",
      "text/plain": [
       "<Figure size 432x288 with 1 Axes>"
      ]
     },
     "metadata": {
      "needs_background": "light"
     },
     "output_type": "display_data"
    }
   ],
   "source": [
    "interest_paid = np.zeros(mortgage_payment_periods)\n",
    "principal_paid = np.zeros(mortgage_payment_periods)\n",
    "\n",
    "# Loop through each mortgage payment period\n",
    "for i in range(0, mortgage_payment_periods):\n",
    "    \n",
    "    # Handle the case for the first iteration\n",
    "    if i == 0:\n",
    "        previous_principal_remaining = mortgage_loan\n",
    "    else:\n",
    "        previous_principal_remaining = principal_remaining[i-1]\n",
    "        \n",
    "    # Calculate the interest based on the previous principal\n",
    "    interest_payment = round(previous_principal_remaining*mortgage_rate_periodic, 2)\n",
    "    principal_payment = round(periodic_mortgage_payment - interest_payment, 2)\n",
    "    \n",
    "    # Catch the case where all principal is paid off in the final period\n",
    "    if previous_principal_remaining - principal_payment < 0:\n",
    "        principal_payment = previous_principal_remaining\n",
    "        \n",
    "    # Collect the historical values\n",
    "    interest_paid[i] = interest_payment\n",
    "    principal_paid[i] = principal_payment\n",
    "    principal_remaining[i] = previous_principal_remaining - principal_payment\n",
    "    \n",
    "# Plot the interest vs principal\n",
    "plt.plot(interest_paid, color=\"red\")\n",
    "plt.plot(principal_paid, color=\"blue\")\n",
    "plt.show()"
   ]
  },
  {
   "cell_type": "markdown",
   "metadata": {},
   "source": [
    "<h2>Cumulative payments and home equity</h2>\n",
    "You are faithfully paying your mortgage each month, but it's difficult to tell how much of the house you actually own and how much interest you have paid in total over the years.\n",
    "\n",
    "Use np.cumsum() to add up all the interest payments and also to add up all the principal payments over time to see how your ownership changes over time.\n",
    "\n",
    "Recall that np.cumsum() performs a cumulative sum over time. Return a series of iterative sums instead of just a single number.\n",
    "\n",
    "principal_paid, interest_paid, home_value and down_payment_percent from the previous exercise are available."
   ]
  },
  {
   "cell_type": "code",
   "execution_count": 28,
   "metadata": {},
   "outputs": [
    {
     "data": {
      "image/png": "[encoded data removed]",
      "text/plain": [
       "<Figure size 432x288 with 1 Axes>"
      ]
     },
     "metadata": {
      "needs_background": "light"
     },
     "output_type": "display_data"
    }
   ],
   "source": [
    "# Calculate the cumulative home equity (principal) over time\n",
    "cumulative_home_equity = np.cumsum(principal_paid)\n",
    "\n",
    "# Calculate the cumulative interest paid over time\n",
    "cumulative_interest_paid = np.cumsum(interest_paid)\n",
    "\n",
    "# Calculate your percentage home equity over time\n",
    "cumulative_percent_owned = down_payment_percent + (cumulative_home_equity/home_value)\n",
    "# print(cumulative_percent_owned)\n",
    "\n",
    "# Plot the cumulative interest paid vs equity accumulated\n",
    "plt.plot(cumulative_interest_paid, color='red')\n",
    "plt.plot(cumulative_home_equity, color='blue')\n",
    "plt.legend(['interest_plot', 'principal_plot'], loc=2)\n",
    "plt.show()"
   ]
  },
  {
   "cell_type": "markdown",
   "metadata": {},
   "source": [
    "<h2>Rising housing prices</h2>\n",
    "Home values have been rising steadily each year, and this is a rather large investment for you.\n",
    "\n",
    "Calculate your home equity value over time given a steady growth rate of 0.25% per month. A repeated array of this growth rate (with a length equal to the number of mortgage payment periods) is already stored for you in an object called growth_array.\n",
    "\n",
    "The home_value and cumulative_percent_owned variables from the previous exercise are available."
   ]
  },
  {
   "cell_type": "code",
   "execution_count": 30,
   "metadata": {},
   "outputs": [
    {
     "data": {
      "image/png": "[encoded data removed]",
      "text/plain": [
       "<Figure size 432x288 with 1 Axes>"
      ]
     },
     "metadata": {
      "needs_background": "light"
     },
     "output_type": "display_data"
    }
   ],
   "source": [
    "growth_array = np.array([0.0025, 0.0025, 0.0025, 0.0025, 0.0025, 0.0025, 0.0025, 0.0025,\n",
    "       0.0025, 0.0025, 0.0025, 0.0025, 0.0025, 0.0025, 0.0025, 0.0025,\n",
    "       0.0025, 0.0025, 0.0025, 0.0025, 0.0025, 0.0025, 0.0025, 0.0025,\n",
    "       0.0025, 0.0025, 0.0025, 0.0025, 0.0025, 0.0025, 0.0025, 0.0025,\n",
    "       0.0025, 0.0025, 0.0025, 0.0025, 0.0025, 0.0025, 0.0025, 0.0025,\n",
    "       0.0025, 0.0025, 0.0025, 0.0025, 0.0025, 0.0025, 0.0025, 0.0025,\n",
    "       0.0025, 0.0025, 0.0025, 0.0025, 0.0025, 0.0025, 0.0025, 0.0025,\n",
    "       0.0025, 0.0025, 0.0025, 0.0025, 0.0025, 0.0025, 0.0025, 0.0025,\n",
    "       0.0025, 0.0025, 0.0025, 0.0025, 0.0025, 0.0025, 0.0025, 0.0025,\n",
    "       0.0025, 0.0025, 0.0025, 0.0025, 0.0025, 0.0025, 0.0025, 0.0025,\n",
    "       0.0025, 0.0025, 0.0025, 0.0025, 0.0025, 0.0025, 0.0025, 0.0025,\n",
    "       0.0025, 0.0025, 0.0025, 0.0025, 0.0025, 0.0025, 0.0025, 0.0025,\n",
    "       0.0025, 0.0025, 0.0025, 0.0025, 0.0025, 0.0025, 0.0025, 0.0025,\n",
    "       0.0025, 0.0025, 0.0025, 0.0025, 0.0025, 0.0025, 0.0025, 0.0025,\n",
    "       0.0025, 0.0025, 0.0025, 0.0025, 0.0025, 0.0025, 0.0025, 0.0025,\n",
    "       0.0025, 0.0025, 0.0025, 0.0025, 0.0025, 0.0025, 0.0025, 0.0025,\n",
    "       0.0025, 0.0025, 0.0025, 0.0025, 0.0025, 0.0025, 0.0025, 0.0025,\n",
    "       0.0025, 0.0025, 0.0025, 0.0025, 0.0025, 0.0025, 0.0025, 0.0025,\n",
    "       0.0025, 0.0025, 0.0025, 0.0025, 0.0025, 0.0025, 0.0025, 0.0025,\n",
    "       0.0025, 0.0025, 0.0025, 0.0025, 0.0025, 0.0025, 0.0025, 0.0025,\n",
    "       0.0025, 0.0025, 0.0025, 0.0025, 0.0025, 0.0025, 0.0025, 0.0025,\n",
    "       0.0025, 0.0025, 0.0025, 0.0025, 0.0025, 0.0025, 0.0025, 0.0025,\n",
    "       0.0025, 0.0025, 0.0025, 0.0025, 0.0025, 0.0025, 0.0025, 0.0025,\n",
    "       0.0025, 0.0025, 0.0025, 0.0025, 0.0025, 0.0025, 0.0025, 0.0025,\n",
    "       0.0025, 0.0025, 0.0025, 0.0025, 0.0025, 0.0025, 0.0025, 0.0025,\n",
    "       0.0025, 0.0025, 0.0025, 0.0025, 0.0025, 0.0025, 0.0025, 0.0025,\n",
    "       0.0025, 0.0025, 0.0025, 0.0025, 0.0025, 0.0025, 0.0025, 0.0025,\n",
    "       0.0025, 0.0025, 0.0025, 0.0025, 0.0025, 0.0025, 0.0025, 0.0025,\n",
    "       0.0025, 0.0025, 0.0025, 0.0025, 0.0025, 0.0025, 0.0025, 0.0025,\n",
    "       0.0025, 0.0025, 0.0025, 0.0025, 0.0025, 0.0025, 0.0025, 0.0025,\n",
    "       0.0025, 0.0025, 0.0025, 0.0025, 0.0025, 0.0025, 0.0025, 0.0025,\n",
    "       0.0025, 0.0025, 0.0025, 0.0025, 0.0025, 0.0025, 0.0025, 0.0025,\n",
    "       0.0025, 0.0025, 0.0025, 0.0025, 0.0025, 0.0025, 0.0025, 0.0025,\n",
    "       0.0025, 0.0025, 0.0025, 0.0025, 0.0025, 0.0025, 0.0025, 0.0025,\n",
    "       0.0025, 0.0025, 0.0025, 0.0025, 0.0025, 0.0025, 0.0025, 0.0025,\n",
    "       0.0025, 0.0025, 0.0025, 0.0025, 0.0025, 0.0025, 0.0025, 0.0025,\n",
    "       0.0025, 0.0025, 0.0025, 0.0025, 0.0025, 0.0025, 0.0025, 0.0025,\n",
    "       0.0025, 0.0025, 0.0025, 0.0025, 0.0025, 0.0025, 0.0025, 0.0025,\n",
    "       0.0025, 0.0025, 0.0025, 0.0025, 0.0025, 0.0025, 0.0025, 0.0025,\n",
    "       0.0025, 0.0025, 0.0025, 0.0025, 0.0025, 0.0025, 0.0025, 0.0025,\n",
    "       0.0025, 0.0025, 0.0025, 0.0025, 0.0025, 0.0025, 0.0025, 0.0025,\n",
    "       0.0025, 0.0025, 0.0025, 0.0025, 0.0025, 0.0025, 0.0025, 0.0025,\n",
    "       0.0025, 0.0025, 0.0025, 0.0025, 0.0025, 0.0025, 0.0025, 0.0025,\n",
    "       0.0025, 0.0025, 0.0025, 0.0025, 0.0025, 0.0025, 0.0025, 0.0025,\n",
    "       0.0025, 0.0025, 0.0025, 0.0025, 0.0025, 0.0025, 0.0025, 0.0025])\n",
    "\n",
    "# Calculate the cumulative growth over time\n",
    "cumulative_growth_forecast = np.cumprod(1 + growth_array)\n",
    "\n",
    "# Forecast the home value over time\n",
    "home_value_forecast = home_value * cumulative_growth_forecast\n",
    "\n",
    "# Forecast the home equity value owned over time\n",
    "cumulative_home_value_owned = cumulative_percent_owned * home_value_forecast\n",
    "\n",
    "# Plot the home value vs equity accumulated\n",
    "plt.plot(home_value_forecast, color='red')\n",
    "plt.plot(cumulative_home_value_owned, color='blue')\n",
    "plt.legend(['homevalue_plot', 'homeequity_plot'], loc=2)\n",
    "plt.show()"
   ]
  },
  {
   "cell_type": "markdown",
   "metadata": {},
   "source": [
    "<h2>Falling housing prices and underwater mortgages</h2>\n",
    "Unfortunately, you are also well aware that home prices don't always rise.\n",
    "\n",
    "An **underwater** mortgage is when the remaining amount you owe on your mortgage is actually higher than the value of the house itself.\n",
    "\n",
    "In this exercise, you will calculate the worst case scenario where home prices drop steadily at the rate of 0.45% per month. To speed things up, the cumulative drop in home prices has already been forecasted and stored for you in a variable called cumulative_decline_forecast, which is an array of multiplicative discount factors compared to today's price - no need to add 1 to the rate array.\n",
    "\n",
    "The outstanding principal on the mortgage is available as principal_remaining."
   ]
  },
  {
   "cell_type": "code",
   "execution_count": 31,
   "metadata": {},
   "outputs": [
    {
     "data": {
      "image/png": "[encoded data removed]",
      "text/plain": [
       "<Figure size 432x288 with 1 Axes>"
      ]
     },
     "metadata": {
      "needs_background": "light"
     },
     "output_type": "display_data"
    }
   ],
   "source": [
    "decline_array = np.array([-0.0045, -0.0045, -0.0045, -0.0045, -0.0045, -0.0045, -0.0045,\n",
    "       -0.0045, -0.0045, -0.0045, -0.0045, -0.0045, -0.0045, -0.0045,\n",
    "       -0.0045, -0.0045, -0.0045, -0.0045, -0.0045, -0.0045, -0.0045,\n",
    "       -0.0045, -0.0045, -0.0045, -0.0045, -0.0045, -0.0045, -0.0045,\n",
    "       -0.0045, -0.0045, -0.0045, -0.0045, -0.0045, -0.0045, -0.0045,\n",
    "       -0.0045, -0.0045, -0.0045, -0.0045, -0.0045, -0.0045, -0.0045,\n",
    "       -0.0045, -0.0045, -0.0045, -0.0045, -0.0045, -0.0045, -0.0045,\n",
    "       -0.0045, -0.0045, -0.0045, -0.0045, -0.0045, -0.0045, -0.0045,\n",
    "       -0.0045, -0.0045, -0.0045, -0.0045, -0.0045, -0.0045, -0.0045,\n",
    "       -0.0045, -0.0045, -0.0045, -0.0045, -0.0045, -0.0045, -0.0045,\n",
    "       -0.0045, -0.0045, -0.0045, -0.0045, -0.0045, -0.0045, -0.0045,\n",
    "       -0.0045, -0.0045, -0.0045, -0.0045, -0.0045, -0.0045, -0.0045,\n",
    "       -0.0045, -0.0045, -0.0045, -0.0045, -0.0045, -0.0045, -0.0045,\n",
    "       -0.0045, -0.0045, -0.0045, -0.0045, -0.0045, -0.0045, -0.0045,\n",
    "       -0.0045, -0.0045, -0.0045, -0.0045, -0.0045, -0.0045, -0.0045,\n",
    "       -0.0045, -0.0045, -0.0045, -0.0045, -0.0045, -0.0045, -0.0045,\n",
    "       -0.0045, -0.0045, -0.0045, -0.0045, -0.0045, -0.0045, -0.0045,\n",
    "       -0.0045, -0.0045, -0.0045, -0.0045, -0.0045, -0.0045, -0.0045,\n",
    "       -0.0045, -0.0045, -0.0045, -0.0045, -0.0045, -0.0045, -0.0045,\n",
    "       -0.0045, -0.0045, -0.0045, -0.0045, -0.0045, -0.0045, -0.0045,\n",
    "       -0.0045, -0.0045, -0.0045, -0.0045, -0.0045, -0.0045, -0.0045,\n",
    "       -0.0045, -0.0045, -0.0045, -0.0045, -0.0045, -0.0045, -0.0045,\n",
    "       -0.0045, -0.0045, -0.0045, -0.0045, -0.0045, -0.0045, -0.0045,\n",
    "       -0.0045, -0.0045, -0.0045, -0.0045, -0.0045, -0.0045, -0.0045,\n",
    "       -0.0045, -0.0045, -0.0045, -0.0045, -0.0045, -0.0045, -0.0045,\n",
    "       -0.0045, -0.0045, -0.0045, -0.0045, -0.0045, -0.0045, -0.0045,\n",
    "       -0.0045, -0.0045, -0.0045, -0.0045, -0.0045, -0.0045, -0.0045,\n",
    "       -0.0045, -0.0045, -0.0045, -0.0045, -0.0045, -0.0045, -0.0045,\n",
    "       -0.0045, -0.0045, -0.0045, -0.0045, -0.0045, -0.0045, -0.0045,\n",
    "       -0.0045, -0.0045, -0.0045, -0.0045, -0.0045, -0.0045, -0.0045,\n",
    "       -0.0045, -0.0045, -0.0045, -0.0045, -0.0045, -0.0045, -0.0045,\n",
    "       -0.0045, -0.0045, -0.0045, -0.0045, -0.0045, -0.0045, -0.0045,\n",
    "       -0.0045, -0.0045, -0.0045, -0.0045, -0.0045, -0.0045, -0.0045,\n",
    "       -0.0045, -0.0045, -0.0045, -0.0045, -0.0045, -0.0045, -0.0045,\n",
    "       -0.0045, -0.0045, -0.0045, -0.0045, -0.0045, -0.0045, -0.0045,\n",
    "       -0.0045, -0.0045, -0.0045, -0.0045, -0.0045, -0.0045, -0.0045,\n",
    "       -0.0045, -0.0045, -0.0045, -0.0045, -0.0045, -0.0045, -0.0045,\n",
    "       -0.0045, -0.0045, -0.0045, -0.0045, -0.0045, -0.0045, -0.0045,\n",
    "       -0.0045, -0.0045, -0.0045, -0.0045, -0.0045, -0.0045, -0.0045,\n",
    "       -0.0045, -0.0045, -0.0045, -0.0045, -0.0045, -0.0045, -0.0045,\n",
    "       -0.0045, -0.0045, -0.0045, -0.0045, -0.0045, -0.0045, -0.0045,\n",
    "       -0.0045, -0.0045, -0.0045, -0.0045, -0.0045, -0.0045, -0.0045,\n",
    "       -0.0045, -0.0045, -0.0045, -0.0045, -0.0045, -0.0045, -0.0045,\n",
    "       -0.0045, -0.0045, -0.0045, -0.0045, -0.0045, -0.0045, -0.0045,\n",
    "       -0.0045, -0.0045, -0.0045, -0.0045, -0.0045, -0.0045, -0.0045,\n",
    "       -0.0045, -0.0045, -0.0045, -0.0045, -0.0045, -0.0045, -0.0045,\n",
    "       -0.0045, -0.0045, -0.0045, -0.0045, -0.0045, -0.0045, -0.0045,\n",
    "       -0.0045, -0.0045, -0.0045, -0.0045, -0.0045, -0.0045, -0.0045,\n",
    "       -0.0045, -0.0045, -0.0045, -0.0045, -0.0045, -0.0045, -0.0045,\n",
    "       -0.0045, -0.0045, -0.0045, -0.0045, -0.0045, -0.0045, -0.0045,\n",
    "       -0.0045, -0.0045, -0.0045, -0.0045, -0.0045, -0.0045, -0.0045,\n",
    "       -0.0045, -0.0045, -0.0045])\n",
    "\n",
    "# Cumulative drop in home value over time as a ratio\n",
    "cumulative_decline_forecast = np.cumprod(1+decline_array)\n",
    "\n",
    "# Forecast the home value over time\n",
    "home_value_forecast = home_value * cumulative_decline_forecast\n",
    "\n",
    "# Find all periods where your mortgage is underwater\n",
    "underwater = principal_remaining > home_value_forecast\n",
    "pd.value_counts(underwater)\n",
    "\n",
    "# Plot the home value vs principal remaining\n",
    "plt.plot(home_value_forecast, color='red')\n",
    "plt.plot(principal_remaining, color='blue')\n",
    "plt.legend(['homevalue_plot', 'principal_plot'], loc=2)\n",
    "plt.show()"
   ]
  }
 ],
 "metadata": {
  "interpreter": {
   "hash": "468f25ad0239460415b7e6b7483d5c8f7213894121f6fb96c4cb6ef93fffe534"
  },
  "kernelspec": {
   "display_name": "Python 3.9.7 64-bit",
   "language": "python",
   "name": "python3"
  },
  "language_info": {
   "codemirror_mode": {
    "name": "ipython",
    "version": 3
   },
   "file_extension": ".py",
   "mimetype": "text/x-python",
   "name": "python",
   "nbconvert_exporter": "python",
   "pygments_lexer": "ipython3",
   "version": "3.9.7"
  },
  "orig_nbformat": 4
 },
 "nbformat": 4,
 "nbformat_minor": 2
}
