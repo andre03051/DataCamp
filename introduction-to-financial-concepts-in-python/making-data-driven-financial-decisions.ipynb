{
 "cells": [
  {
   "cell_type": "code",
   "execution_count": 6,
   "metadata": {},
   "outputs": [],
   "source": [
    "import numpy as np\n",
    "import numpy_financial as nf"
   ]
  },
  {
   "cell_type": "markdown",
   "metadata": {},
   "source": [
    "<h2>Project proposals and cash flows projections</h2>\n",
    "Your project managers have projected the cash flows for each of the proposals.\n",
    "\n",
    "Project 1 provides higher short term cash flows, but Project 2 becomes more profitable over time.\n",
    "\n",
    "The cash flow projections for both projects are as follows:\n",
    "\n",
    "Year|Project 1|Project 2\n",
    ":--:|:-------:|:-------:\n",
    "1|-$1,000 (initial investment)|-$1,000 (initial investment)\n",
    "2|$200(cash flow)|$150 (cash flow)\n",
    "3|$250|$225\n",
    "4|$300|$300\n",
    "5|$350|$375\n",
    "6|$400|$425\n",
    "7|$450|$500\n",
    "8|$500|$575\n",
    "9|$550|$600\n",
    "10|$600|$625\n",
    "\n",
    "Note: The projections are provided in thousands. For example, $1,000 = $1,000,000. We will use the smaller denominations to make everything easier to read. This is also commonly done in financial statements with thousands or even millions in order to represent millions or billions."
   ]
  },
  {
   "cell_type": "code",
   "execution_count": 7,
   "metadata": {},
   "outputs": [],
   "source": [
    "# Create a numpy array of cash flows for Project 1\n",
    "cf_project_1 = np.array([-1000,200,250,300,350,400,450,500,550,600])\n",
    "\n",
    "# Create a numpy array of cash flows for Project 2\n",
    "cf_project_2 = np.array([-1000,150,225,300,375,425,500,575,600,625])\n",
    "\n",
    "# Scale the original objects by 1000x\n",
    "cf_project1 = cf_project_1 * 1000\n",
    "cf_project2 = cf_project_2 * 1000"
   ]
  },
  {
   "cell_type": "markdown",
   "metadata": {},
   "source": [
    "<h2>Internal Rate of Return</h2>\n",
    "Now that you have the cash flow projections ready to go for each project, you want to compare the internal rate of return (IRR) of each project to help you decide which project would be most beneficial for your company in terms of yield (rate of return). In this exercise, you will calculate the internal rate of return for each project using np.irr(values).\n",
    "\n",
    "The cash flows for projects 1 and 2 are available as cf_project1 and cf_project2."
   ]
  },
  {
   "cell_type": "code",
   "execution_count": 8,
   "metadata": {},
   "outputs": [
    {
     "name": "stdout",
     "output_type": "stream",
     "text": [
      "Project 1 IRR: 28.92%\n",
      "Project 2 IRR: 28.78%\n"
     ]
    }
   ],
   "source": [
    "# Calculate the internal rate of return for Project 1\n",
    "irr_project1 = nf.irr(cf_project1)\n",
    "print(\"Project 1 IRR: \" + str(round(100*irr_project1, 2)) + \"%\")\n",
    "\n",
    "# Calculate the internal rate of return for Project 2\n",
    "irr_project2 = nf.irr(cf_project2)\n",
    "print(\"Project 2 IRR: \" + str(round(100*irr_project2, 2)) + \"%\")"
   ]
  },
  {
   "cell_type": "markdown",
   "metadata": {},
   "source": [
    "<h2>Debt and equity financing</h2>\n",
    "In the previous chapter, you were able to assume that your discount rate for the NPV calculation was solely based on a measure such as inflation.\n",
    "\n",
    "However, in this chapter, you are the CEO of a new company that has outstanding debt and financing costs, which you will have to adjust for.\n",
    "\n",
    "You will use the WACC as your discount rate in upcoming exercises.\n",
    "\n",
    "For this exercise, assume you take out a $1,000,000 loan to finance the project, which will be your company's only outstanding debt. This loan will represent 50% of your company's total financing of $2,000,000. The remaining funding comes from the market value of equity."
   ]
  },
  {
   "cell_type": "code",
   "execution_count": 9,
   "metadata": {},
   "outputs": [
    {
     "name": "stdout",
     "output_type": "stream",
     "text": [
      "Debt Financing: 50.0%\n",
      "Equity Financing: 50.0%\n"
     ]
    }
   ],
   "source": [
    "# Set the market value of debt\n",
    "mval_debt = 1000000\n",
    "\n",
    "# Set the market value of equity\n",
    "mval_equity = 1000000\n",
    "\n",
    "# Compute the total market value of your company's financing\n",
    "mval_total = mval_debt+mval_equity\n",
    "\n",
    "# Compute the proportion of your company's financing via debt\n",
    "percent_debt = mval_debt/mval_total\n",
    "print(\"Debt Financing: \" + str(round(100*percent_debt, 2)) + \"%\")\n",
    "\n",
    "# Compute the proportion of your company's financing via equity\n",
    "percent_equity = mval_equity/mval_total\n",
    "print(\"Equity Financing: \" + str(round(100*percent_equity, 2)) + \"%\")"
   ]
  },
  {
   "cell_type": "markdown",
   "metadata": {},
   "source": [
    "<h2>Calculating WACC</h2>\n",
    "In addition to determining the proportion of both equity and debt financing, you will need to estimate the cost of financing via both debt and equity in order to estimate your WACC.\n",
    "\n",
    "The cost of debt financing can be estimated as the amount you will have to pay on a new loan. This can be estimated by looking at the interest rates of loans of similar sizes to similar companies, or could be based on previous loans your company may already have been issued.\n",
    "\n",
    "The cost of equity financing can be estimated as the return on equity of similar companies. Calculating the return on equity is a simple accounting exercise, but all you need to know is that essentially, investors will require a rate of return that is close to what could be earned by a similar investment."
   ]
  },
  {
   "cell_type": "code",
   "execution_count": 10,
   "metadata": {},
   "outputs": [
    {
     "name": "stdout",
     "output_type": "stream",
     "text": [
      "WACC: 12.9%\n"
     ]
    }
   ],
   "source": [
    "# The proportion of debt vs equity financing is predefined\n",
    "percent_debt = 0.50\n",
    "percent_equity = 0.50\n",
    "\n",
    "# Set the cost of equity\n",
    "cost_equity = .18\n",
    "\n",
    "# Set the cost of debt\n",
    "cost_debt = .12\n",
    "\n",
    "# Set the corporate tax rate\n",
    "tax_rate = .35\n",
    "\n",
    "# Calculate the WACC\n",
    "wacc = percent_equity*cost_equity + percent_debt * cost_debt * (1 - tax_rate)\n",
    "print(\"WACC: \" + str(round(100*wacc, 2)) + \"%\")"
   ]
  },
  {
   "cell_type": "markdown",
   "metadata": {},
   "source": [
    "<h2>Comparing project NPV with IRR</h2>\n",
    "Companies use their WACC as the discount rate when calculating the net present value of potential projects.\n",
    "\n",
    "In the same way that you discounted values by inflation in the previous chapter to account for costs over time, companies adjust the cash flows of potential projects by their cost of financing (the WACC) to account for their investor's required rate of return based on market conditions.\n",
    "\n",
    "Now that you calculated the WACC, you can determine the net present value (NPV) of each project's cash flows. The cash flows for projects 1 and 2 are available as cf_project1 and cf_project2."
   ]
  },
  {
   "cell_type": "code",
   "execution_count": 11,
   "metadata": {},
   "outputs": [
    {
     "name": "stdout",
     "output_type": "stream",
     "text": [
      "Project 1 NPV: 856073.18\n",
      "Project 2 NPV: 904741.35\n"
     ]
    }
   ],
   "source": [
    "# Set your weighted average cost of capital equal to 12.9%\n",
    "wacc = .129\n",
    "\n",
    "# Calculate the net present value for Project 1\n",
    "npv_project1 = nf.npv(rate=wacc, values=cf_project1)\n",
    "print(\"Project 1 NPV: \" + str(round(npv_project1, 2)))\n",
    "\n",
    "# Calculate the net present value for Project 2\n",
    "npv_project2 = nf.npv(rate=wacc, values=cf_project2)\n",
    "print(\"Project 2 NPV: \" + str(round(npv_project2, 2)))"
   ]
  },
  {
   "cell_type": "markdown",
   "metadata": {},
   "source": [
    "<h2>Two project with different lifespans</h2>\n",
    "The board of the company has decided to go a different direction, involving slightly shorter term projects and lower initial investments.\n",
    "\n",
    "Your project managers have come up with two new ideas, and projected the cash flows for each of the proposals.\n",
    "\n",
    "Project 1 has a lifespan of 8 years, but Project 2 only has a lifespan of 7 years. Project 1 requires an initial investment of $700,000, but Project 2 only requires $400,000.\n",
    "\n",
    "The cash flow projections for both projects are as follows:\n",
    "\n",
    "Year|Project 1|Project 2\n",
    ":--:|:-------:|:-------:\n",
    "1|-$700 (initial investment)|-$400 (initial investment)\n",
    "2|$100 (cash flow)|$50 (cash flow)\n",
    "3|$150|$100\n",
    "4|$200|$150\n",
    "5|$250|$200\n",
    "6|$300|$250\n",
    "7|$350|$300\n",
    "8|$400|N / A"
   ]
  },
  {
   "cell_type": "code",
   "execution_count": 12,
   "metadata": {},
   "outputs": [],
   "source": [
    "import numpy as np\n",
    "\n",
    "# Create a numpy array of cash flows for Project 1\n",
    "cf_project_1 = np.array([-700, 100, 150, 200,250,300,350,400])\n",
    "\n",
    "# Create a numpy array of cash flows for Project 2\n",
    "cf_project_2 = np.array([-400, 50, 100, 150,200,250,300])\n",
    "\n",
    "# Scale the original objects by 1000x\n",
    "cf_project1 = cf_project_1*1000\n",
    "cf_project2 = cf_project_2*1000"
   ]
  },
  {
   "cell_type": "markdown",
   "metadata": {},
   "source": [
    "<h2>Calculating IRR and NPV with different project lifespans</h2>\n",
    "Now that you calculated the WACC, you can calculate and compare the IRRs and NPVs of each project.\n",
    "\n",
    "While the IRR remains relatively comparable across projects, the NPV, on the other hand, will be much more difficult to compare given the additional year required for project 1.\n",
    "\n",
    "Luckily, in the next exercise, we will introduce another method to compare the NPVs of the projects, but we will first need to compute the NPVs as before.\n",
    "\n",
    "The cash flows for projects 1 and 2 are available as cf_project1 and cf_project2."
   ]
  },
  {
   "cell_type": "code",
   "execution_count": 13,
   "metadata": {},
   "outputs": [
    {
     "name": "stdout",
     "output_type": "stream",
     "text": [
      "Project 1 IRR: 22.94%\n",
      "Project 2 IRR: 26.89%\n",
      "Project 1 NPV: 302744.98\n",
      "Project 2 NPV: 231228.39\n"
     ]
    }
   ],
   "source": [
    "# Calculate the IRR for Project 1\n",
    "irr_project1 = nf.irr(cf_project1)\n",
    "print(\"Project 1 IRR: \" + str(round(100*irr_project1, 2)) + \"%\")\n",
    "\n",
    "# Calculate the IRR for Project 2\n",
    "irr_project2 = nf.irr(cf_project2)\n",
    "print(\"Project 2 IRR: \" + str(round(100*irr_project2, 2)) + \"%\")\n",
    "\n",
    "# Set the wacc equal to 12.9%\n",
    "wacc = .129\n",
    "\n",
    "# Calculate the NPV for Project 1\n",
    "npv_project1 = nf.npv(rate=wacc, values=cf_project1)\n",
    "print(\"Project 1 NPV: \" + str(round(npv_project1, 2)))\n",
    "\n",
    "# Calculate the NPV for Project 2\n",
    "npv_project2 = nf.npv(rate=wacc, values=cf_project2)\n",
    "print(\"Project 2 NPV: \" + str(round(npv_project2, 2)))"
   ]
  },
  {
   "cell_type": "markdown",
   "metadata": {},
   "source": [
    "<h2>Using the equivalent annual annuity approach</h2>\n",
    "Since the net present values of each project are not directly comparable given the different lifespans of each project, you will have to consider a different approach.\n",
    "\n",
    "The **equivalent annual annuity** (EAA) approach allows us to compare two projects by essentially assuming that each project is an investment generating a flat interest rate each year (an annuity), and calculating the annual payment you would receive from each project, discounted to present value.\n",
    "\n",
    "You can compute the EAA of each project using the pmt(rate, nper, pv, fv) function in numpy.\n",
    "\n",
    "The weighted average cost is available as wacc, and the net present values for projects 1 and 2 are available as npv_project1 and npv_project2."
   ]
  },
  {
   "cell_type": "code",
   "execution_count": 15,
   "metadata": {},
   "outputs": [
    {
     "name": "stdout",
     "output_type": "stream",
     "text": [
      "Project 1 EAA: 62872.2\n",
      "Project 2 EAA: 52120.61\n",
      "Higher EAA means higher annual returns.\n"
     ]
    }
   ],
   "source": [
    "# Calculate the EAA for Project 1\n",
    "eaa_project1 = nf.pmt(rate=wacc, nper=8, pv=-1*npv_project1, fv=0)\n",
    "print(\"Project 1 EAA: \" + str(round(eaa_project1, 2)))\n",
    "\n",
    "# Calculate the EAA for Project 2\n",
    "eaa_project2 = nf.pmt(rate=wacc, nper=7, pv=-1*npv_project2, fv=0)\n",
    "print(\"Project 2 EAA: \" + str(round(eaa_project2, 2)))\n",
    "\n",
    "print('Higher EAA means higher annual returns.')"
   ]
  }
 ],
 "metadata": {
  "interpreter": {
   "hash": "468f25ad0239460415b7e6b7483d5c8f7213894121f6fb96c4cb6ef93fffe534"
  },
  "kernelspec": {
   "display_name": "Python 3.9.7 64-bit",
   "language": "python",
   "name": "python3"
  },
  "language_info": {
   "codemirror_mode": {
    "name": "ipython",
    "version": 3
   },
   "file_extension": ".py",
   "mimetype": "text/x-python",
   "name": "python",
   "nbconvert_exporter": "python",
   "pygments_lexer": "ipython3",
   "version": "3.9.7"
  },
  "orig_nbformat": 4
 },
 "nbformat": 4,
 "nbformat_minor": 2
}
