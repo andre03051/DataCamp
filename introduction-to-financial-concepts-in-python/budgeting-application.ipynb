{
 "cells": [
  {
   "cell_type": "code",
   "execution_count": 1,
   "metadata": {},
   "outputs": [],
   "source": [
    "import numpy as np\n",
    "import numpy_financial as nf\n",
    "import pandas as pd\n",
    "import matplotlib.pyplot as plt"
   ]
  },
  {
   "cell_type": "markdown",
   "metadata": {},
   "source": [
    "<h2> Salary and taxes </h2>\n",
    "You just got a new job as an entry-level Data Scientist at a technology company in New York City with a decent starting salary of $85,000 per year.\n",
    "\n",
    "Unfortunately, after state and local taxes, you can expect to be sending roughly 30% back to the government each year.\n",
    "\n",
    "You will need to calculate your monthly take home pay after taxes in order to begin budgeting."
   ]
  },
  {
   "cell_type": "code",
   "execution_count": 3,
   "metadata": {},
   "outputs": [
    {
     "name": "stdout",
     "output_type": "stream",
     "text": [
      "Salary after taxes: 59500.0\n",
      "Monthly takehome salary: 4958.33\n"
     ]
    }
   ],
   "source": [
    "# Enter your annual salary\n",
    "salary = 85000\n",
    "\n",
    "# Assume a tax rate of 30%\n",
    "tax_rate = .3\n",
    "\n",
    "# Calculate your salary after taxes\n",
    "salary_after_taxes = salary * (1 - tax_rate)\n",
    "print(\"Salary after taxes: \" + str(round(salary_after_taxes, 2)))\n",
    "\n",
    "# Calculate your monthly salary after taxes\n",
    "monthly_takehome_salary = salary_after_taxes / 12\n",
    "print(\"Monthly takehome salary: \" + str(round(monthly_takehome_salary, 2)))"
   ]
  },
  {
   "cell_type": "markdown",
   "metadata": {},
   "source": [
    "<h2>Monthly expenses and savings</h2>\n",
    "In order to make it in New York City, you have decided to split a two-bedroom apartment with a friend. You will have to budget for rent, food and entertainment, but it's also a good idea to allocate an amount for unforeseen expenses each month. This unforeseen expenses budget could be used for anything ranging from new clothes or electronics to doctor appointments.\n",
    "\n",
    "Set up your monthly budget as follows:\n",
    "\n",
    "- Rent: $1200 / month (Includes utilities)\n",
    "- Food: $30 / day (On average. Includes groceries and eating out.)\n",
    "- Entertainment: $200 / month (Movies, drinks, museums, parties…)\n",
    "- Unforeseen Expenses: 250 / month (Stay safe, and don't drop your phone!)\n",
    "For this application, assume an average of 30 days per month. Whatever is left after your paying your monthly expenses will go into your savings account each month.\n",
    "\n",
    "monthly_takehome_salary from the previous exercise is available."
   ]
  },
  {
   "cell_type": "code",
   "execution_count": 4,
   "metadata": {},
   "outputs": [
    {
     "name": "stdout",
     "output_type": "stream",
     "text": [
      "Monthly expenses: 2550\n",
      "Monthly savings: 2408.33\n"
     ]
    }
   ],
   "source": [
    "# Enter your monthly rent\n",
    "monthly_rent = 1200\n",
    "\n",
    "# Enter your daily food budget\n",
    "daily_food_budget = 30\n",
    "\n",
    "# Calculate your monthly food budget assuming 30 days per month\n",
    "monthly_food_budget = daily_food_budget * 30\n",
    "\n",
    "# Set your monthly entertainment budget\n",
    "monthly_entertainment_budget = 200\n",
    "\n",
    "# Allocate funds for unforeseen expenses, just in case\n",
    "monthly_unforeseen_expenses = 250\n",
    "\n",
    "# Next, calculate your total monthly expenses\n",
    "monthly_expenses = monthly_rent + monthly_food_budget + monthly_entertainment_budget + monthly_unforeseen_expenses\n",
    "print(\"Monthly expenses: \" + str(round(monthly_expenses, 2)))\n",
    "\n",
    "# Finally, calculate your monthly take-home savings\n",
    "monthly_savings = monthly_takehome_salary - monthly_expenses\n",
    "print(\"Monthly savings: \" + str(round(monthly_savings, 2)))"
   ]
  },
  {
   "cell_type": "markdown",
   "metadata": {},
   "source": [
    "<h2> Forecast salary growth and cost of living </h2>\n",
    "Due to both inflation and increased productivity from experience, you can expect your salary to grow at different rates depending on your job. Now, since you are working in a growing and in-demand career field as a Data Scientist, you can assume a steady growth in your annual salary every year based on performance.\n",
    "\n",
    "You can assume an annual salary growth rate of 5%, which means if you start at $85,000 per year, you can expect to earn over $176,000 per year after 15 years. After taxes, assuming your tax rate hasn't changed, that works out to roughly $125,000 per year, which is not unreasonable for a Data Scientist. In fact, you might even make it to that level in a few years! But just to be safe, you should be conservative with your projections.\n",
    "\n",
    "For this application, assume all inflation and salary growth happens in smaller increments on a monthly basis instead of just one large increase at the end of each year.\n",
    "\n",
    "monthly_takehome_salary from the previous exercise is available."
   ]
  },
  {
   "cell_type": "code",
   "execution_count": 5,
   "metadata": {},
   "outputs": [
    {
     "data": {
      "image/png": "[encoded data removed]",
      "text/plain": [
       "<Figure size 432x288 with 1 Axes>"
      ]
     },
     "metadata": {
      "needs_background": "light"
     },
     "output_type": "display_data"
    }
   ],
   "source": [
    "import numpy as np\n",
    "\n",
    "# Create monthly forecasts up to 15 years from now\n",
    "forecast_months = 12*15\n",
    "\n",
    "# Set your annual salary growth rate\n",
    "annual_salary_growth = 0.05\n",
    "\n",
    "# Calculate your equivalent monthly salary growth rate\n",
    "monthly_salary_growth = (1 + annual_salary_growth)**(1/12) - 1\n",
    "\n",
    "# Forecast the cumulative growth of your salary\n",
    "cumulative_salary_growth_forecast = np.cumprod(np.repeat(1 + monthly_salary_growth, forecast_months))\n",
    "\n",
    "# Calculate the actual salary forecast\n",
    "salary_forecast = monthly_takehome_salary * cumulative_salary_growth_forecast\n",
    "\n",
    "# Plot the forecasted salary\n",
    "plt.plot(salary_forecast, color='blue')\n",
    "plt.show()"
   ]
  },
  {
   "cell_type": "markdown",
   "metadata": {},
   "source": [
    "<h2>Forecast growing expenses due to inflation</h2>  \n",
    "You will also assume your monthly expenses will rise by an average of 2.5% per year due to **inflation**. This will lead to higher **cost of living** over time, paying for the same expenses each year but at a higher price. Luckily, your salary is growing faster than inflation, which means you should have more money going into savings each month.\n",
    "\n",
    "The monthly_expenses and forecast_months variables from the previous exercise are available."
   ]
  },
  {
   "cell_type": "code",
   "execution_count": 6,
   "metadata": {},
   "outputs": [
    {
     "data": {
      "image/png": "[encoded data removed]",
      "text/plain": [
       "<Figure size 432x288 with 1 Axes>"
      ]
     },
     "metadata": {
      "needs_background": "light"
     },
     "output_type": "display_data"
    }
   ],
   "source": [
    "import numpy as np\n",
    "\n",
    "# Set the annual inflation rate\n",
    "annual_inflation = .025\n",
    "\n",
    "# Calculate the equivalent monthly inflation rate\n",
    "monthly_inflation = (1 + annual_inflation)**(1/12) - 1\n",
    "\n",
    "# Forecast cumulative inflation over time\n",
    "cumulative_inflation_forecast = np.cumprod(np.repeat(1 + monthly_inflation, forecast_months))\n",
    "\n",
    "# Calculate your forecasted expenses\n",
    "expenses_forecast = monthly_expenses * cumulative_inflation_forecast\n",
    "\n",
    "# Plot the forecasted expenses\n",
    "plt.plot(expenses_forecast, color='red')\n",
    "plt.show()"
   ]
  },
  {
   "cell_type": "markdown",
   "metadata": {},
   "source": [
    "<h2>Calculate your net worth</h2>\n",
    "Now that you have forecasted your savings and salary over time while taking career progression and inflation into account, you have constructed a time-series which you can use to calculate your cash flows, just like in Chapter 1.\n",
    "\n",
    "For this example, all you need to do is subtract your forecasted monthly expenses from your forecasted monthly salary. The remaining cash flow will go straight into your savings account for each month.\n",
    "\n",
    "You want to project your cumulative savings over time to see how effective your budgeting process will be given your projections.\n",
    "\n",
    "salary_forecast and expenses_forecast from the previous exercises are available."
   ]
  },
  {
   "cell_type": "code",
   "execution_count": 10,
   "metadata": {},
   "outputs": [
    {
     "name": "stdout",
     "output_type": "stream",
     "text": [
      "Your final net worth: 762318.83\n"
     ]
    },
    {
     "data": {
      "image/png": "[encoded data removed]",
      "text/plain": [
       "<Figure size 432x288 with 1 Axes>"
      ]
     },
     "metadata": {
      "needs_background": "light"
     },
     "output_type": "display_data"
    }
   ],
   "source": [
    "# Calculate your savings for each month\n",
    "savings_forecast = salary_forecast - expenses_forecast\n",
    "\n",
    "# Calculate your cumulative savings over time\n",
    "cumulative_savings = np.cumsum(savings_forecast)\n",
    "\n",
    "# Print the final cumulative savings after 15 years\n",
    "final_net_worth = cumulative_savings[-1]\n",
    "print(\"Your final net worth: \" + str(round(final_net_worth, 2)))\n",
    "\n",
    "# Plot the forecasted savings\n",
    "plt.plot(cumulative_savings, color='blue')\n",
    "plt.show()"
   ]
  },
  {
   "cell_type": "markdown",
   "metadata": {},
   "source": [
    "<h2>So you want to be a millionaire?</h2>\n",
    "Your projections show that you can accumulate over $700,000 in just 15 years by following a strict budget and growing your salary steadily over time.\n",
    "\n",
    "But you want to be a millionaire in 15 years, retire young, sip margaritas and travel for the rest of your life. In order to do that, you're going to need to invest.\n",
    "\n",
    "Remember the .pmt() function from numpy? You can use this function to calculate how much you need to save each month in order to accumulate your desired wealth over time.\n",
    "\n",
    "You still have a lot to learn about the stock market, but your financial advisor told you that you can earn anywhere from 5-10% per year on your capital on average by investing in a low cost index fund.\n",
    "\n",
    "You know that the stock market doesn't always go up, but you will assume a modest 7% return per year, which has been the average annual return in the US stock market from 1950-2009.\n",
    "\n",
    "The forecast_months variable from the previous exercise is available."
   ]
  },
  {
   "cell_type": "code",
   "execution_count": 12,
   "metadata": {},
   "outputs": [
    {
     "name": "stdout",
     "output_type": "stream",
     "text": [
      "You will have to invest $3214.35 per month to amass $1M over 15 years\n"
     ]
    }
   ],
   "source": [
    "# Set the annual investment return to 7%\n",
    "investment_rate_annual = .07\n",
    "\n",
    "# Calculate the monthly investment return\n",
    "investment_rate_monthly = (1 + investment_rate_annual)**(1/12) - 1\n",
    "\n",
    "# Calculate your required monthly investment to amass $1M\n",
    "required_investment_monthly = nf.pmt(rate=investment_rate_monthly, nper=15*12, pv=0, fv=-1000000)\n",
    "print(\"You will have to invest $\" + str(round(required_investment_monthly, 2)) + \" per month to amass $1M over 15 years\")"
   ]
  },
  {
   "cell_type": "markdown",
   "metadata": {},
   "source": [
    "<h2>Investing a percentage of your income (I)</h2>\n",
    "Unfortunately, you really can't afford to save $3,000 per month in order to amass $1,000,000 after only 15 years.\n",
    "\n",
    "But what you can do is start slowly, investing a small percentage of your take-home income each month, which should grow over time as your income grows as well.\n",
    "\n",
    "In this exercise, you will lay the foundations to simulate this investing process over time.\n",
    "\n",
    "The salary_forecast and expenses_forecast variables are available from the previous exercise.\n",
    "\n",
    "The cash_flow_forecast is also available, and is an array of your forecasted salary minus your forecasted expenses. The monthly_investment_percentage variable is already set to 0.30."
   ]
  }
 ],
 "metadata": {
  "interpreter": {
   "hash": "468f25ad0239460415b7e6b7483d5c8f7213894121f6fb96c4cb6ef93fffe534"
  },
  "kernelspec": {
   "display_name": "Python 3.9.7 64-bit",
   "language": "python",
   "name": "python3"
  },
  "language_info": {
   "codemirror_mode": {
    "name": "ipython",
    "version": 3
   },
   "file_extension": ".py",
   "mimetype": "text/x-python",
   "name": "python",
   "nbconvert_exporter": "python",
   "pygments_lexer": "ipython3",
   "version": "3.9.7"
  },
  "orig_nbformat": 4
 },
 "nbformat": 4,
 "nbformat_minor": 2
}
