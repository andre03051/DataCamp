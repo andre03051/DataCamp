{
 "cells": [
  {
   "cell_type": "code",
   "execution_count": null,
   "metadata": {},
   "outputs": [],
   "source": [
    "import pandas as pd\n",
    "import numpy as np\n",
    "import matplotlib.pyplot as plt\n",
    "\n",
    "from sklearn.model_selection import train_test_split, GridSearchCV\n",
    "from sklearn.linear_model import LogisticRegression, LinearRegression, RidgeCV\n",
    "from sklearn.ensemble import RandomForestClassifier, GradientBoostingClassifier\n",
    "from sklearn.neighbors import KNeighborsClassifier\n",
    "from sklearn.metrics import confusion_matrix, accuracy_score, roc_auc_score, precision_score, mean_absolute_error"
   ]
  },
  {
   "cell_type": "code",
   "execution_count": null,
   "metadata": {},
   "outputs": [],
   "source": [
    "df = pd.read_csv('data/chocolate_bars.csv')\n",
    "df = df.loc[~df['ingredients'].isnull()]\n",
    "df = pd.get_dummies(df)\n",
    "\n",
    "# df['rate_cat'] = '3-Low'\n",
    "# df.loc[(df['rating'] >= 3.00) & (df['rating'] <= 3.25), 'rate_cat'] = '2-Medium'\n",
    "# df.loc[df['rating'] >= 3.5, 'rate_cat'] = '1-High'\n",
    "# df.drop('rating', inplace=True, axis=1)\n",
    "\n",
    "df['rate_cat'] = df['rating'].astype(str) + '_cat'\n",
    "df.drop('rating', inplace=True, axis=1)\n",
    "df.head()"
   ]
  },
  {
   "cell_type": "code",
   "execution_count": 169,
   "metadata": {},
   "outputs": [
    {
     "name": "stdout",
     "output_type": "stream",
     "text": [
      "Confusion Matrix \n",
      " [[  0   0   0   0   0   0   1   0   0   0   0   0]\n",
      " [  0   0   0   0   0   2   1   0   1   0   0   0]\n",
      " [  0   0   0   0   0   0   0   0   0   0   1   0]\n",
      " [  0   0   0   0   0   3   3   8   3   4   3   0]\n",
      " [  0   0   0   0   0   0   1   3   4   5   1   0]\n",
      " [  0   0   0   0   0   6  16  32  22  41   8   2]\n",
      " [  0   0   0   0   0   3  19  63  64  95   9   3]\n",
      " [  0   1   0   0   0   5  25 113 103 130  28   3]\n",
      " [  0   0   0   0   0   0  22  65  87 149  30   6]\n",
      " [  0   0   0   0   0   3  24  70 111 185  43   7]\n",
      " [  0   0   0   0   0   1  13  38  54  89  22  10]\n",
      " [  0   0   0   0   0   0   4  16  11  42   8   9]]\n",
      "Accuracy Score: \n",
      " 0.22569089048106447\n"
     ]
    }
   ],
   "source": [
    "X = df.drop(['rate_cat'], axis = 1)\n",
    "y = df['rate_cat']\n",
    "\n",
    "X_test, X_train, y_test, y_train = train_test_split(X, y, test_size = .2)\n",
    "\n",
    "# Create a Random Forest Classifier with specified criterion\n",
    "clf = RandomForestClassifier()\n",
    "\n",
    "predictions = clf.fit(X_train, y_train).predict(X_test)\n",
    "\n",
    "# Now create a confusion matrix \n",
    "print(\"Confusion Matrix \\n\", confusion_matrix(y_test, predictions))\n",
    "\n",
    "# Get the Accuracy score\n",
    "print(\"Accuracy Score: \\n\", accuracy_score(y_test, predictions))\n",
    "\n",
    "# mean_absolute_error(y_test, predictions)"
   ]
  },
  {
   "cell_type": "code",
   "execution_count": 171,
   "metadata": {},
   "outputs": [
    {
     "data": {
      "image/png": "[encoded data removed]",
      "text/plain": [
       "<Figure size 432x288 with 1 Axes>"
      ]
     },
     "metadata": {
      "needs_background": "light"
     },
     "output_type": "display_data"
    }
   ],
   "source": [
    "# Create a pd.Series of features importances\n",
    "importances = pd.Series(data=clf.feature_importances_,\n",
    "                        index= X_train.columns)\n",
    "\n",
    "# Sort importances\n",
    "importances_sorted = importances.sort_values()\n",
    "\n",
    "# Draw a horizontal barplot of importances_sorted\n",
    "importances_sorted.plot(kind='barh', color='lightgreen')\n",
    "plt.title('Features Importances')\n",
    "plt.show()"
   ]
  },
  {
   "cell_type": "code",
   "execution_count": null,
   "metadata": {},
   "outputs": [],
   "source": [
    "df = pd.read_csv('data/chocolate_bars.csv')\n",
    "\n",
    "bc = pd.read_csv('data/bean_continent.csv')\n",
    "df = pd.merge(df, bc, on=[\"bean_origin\", \"bean_origin\"])\n",
    "\n",
    "cc = pd.read_csv('data/company_continent.csv')\n",
    "df = pd.merge(df, cc, on=[\"company_location\", \"company_location\"])\n",
    "\n",
    "df = df.loc[~df['ingredients'].isnull()]\n",
    "\n",
    "df.year_reviewed = df.year_reviewed/max(df.year_reviewed)\n",
    "\n",
    "df.reset_index(inplace=True)\n",
    "df.set_index('index', inplace=True)\n",
    "df.head()"
   ]
  },
  {
   "cell_type": "code",
   "execution_count": null,
   "metadata": {},
   "outputs": [],
   "source": [
    "df.columns"
   ]
  },
  {
   "cell_type": "code",
   "execution_count": null,
   "metadata": {},
   "outputs": [],
   "source": [
    "# keep = ['id', 'manufacturer', 'company_location', 'year_reviewed',\n",
    "#        'bean_origin', 'bar_name', 'cocoa_percent', 'num_ingredients',\n",
    "#        'ingredients', 'review', 'rating', 'bean_origin_continent',\n",
    "#        'company_location_continent']\n",
    "\n",
    "keep = ['manufacturer', 'year_reviewed','cocoa_percent',\n",
    "       'ingredients', 'review', 'rating', 'bean_origin_continent',\n",
    "       'company_location_continent']\n",
    "\n",
    "df = df[keep]\n",
    "\n",
    "ingredients = {\n",
    "    'B': 'Beans',\n",
    "    'S': 'Sugar',\n",
    "    'S*': 'Sweetner',\n",
    "    'C': 'Cocoa_Butter',\n",
    "    'V': 'Vanilla',\n",
    "    'L': 'Lecithin',\n",
    "    'Sa': 'Salt'\n",
    "}\n",
    "for i in ingredients: \n",
    "    df[ingredients[i]] = 0\n",
    "\n",
    "for idx, row in df.iterrows():\n",
    "    for r in row['ingredients'].split(','):\n",
    "        df.loc[idx, ingredients[r]] = 1\n",
    "        \n",
    "df['cocoa_percent'] = df['cocoa_percent']/100\n",
    "\n",
    "df.drop('ingredients', axis=1, inplace=True)\n",
    "\n",
    "df = pd.get_dummies(df)\n",
    "\n",
    "df['rate_cat'] = df['rating'].astype(str) + '_cat'\n",
    "df.drop('rating', inplace=True, axis=1)\n",
    "\n",
    "df.head()"
   ]
  },
  {
   "cell_type": "code",
   "execution_count": null,
   "metadata": {},
   "outputs": [],
   "source": [
    "X = df.drop(['rate_cat'], axis = 1)\n",
    "y = df['rate_cat']\n",
    "\n",
    "X_test, X_train, y_test, y_train = train_test_split(X, y, test_size = .2)\n",
    "\n",
    "# Create a Random Forest Classifier with specified criterion\n",
    "rf_class = RandomForestClassifier()\n",
    "\n",
    "# Create the parameter grid\n",
    "param_grid = {\n",
    "    'n_estimators': [1100, 1200, 1300],\n",
    "    'max_depth': [10, 12, 14]\n",
    "    } \n",
    "\n",
    "# Create a GridSearchCV object\n",
    "grid_rf_class = GridSearchCV(\n",
    "    estimator=rf_class,\n",
    "    param_grid=param_grid,\n",
    "    scoring='accuracy',\n",
    "    n_jobs=4,\n",
    "    cv=5,\n",
    "    refit=True, \n",
    "    return_train_score=True\n",
    ")\n",
    "\n",
    "predictions = grid_rf_class.fit(X_train, y_train).predict(X_test)\n",
    "\n",
    "# Now create a confusion matrix \n",
    "print(\"Confusion Matrix \\n\", confusion_matrix(y_test, predictions))\n",
    "\n",
    "# Get the Accuracy score\n",
    "print(\"Accuracy Score: \\n\", accuracy_score(y_test, predictions))\n",
    "\n",
    "print(\"Best Estimator: \\n\", grid_rf_class.best_estimator_)"
   ]
  },
  {
   "cell_type": "code",
   "execution_count": null,
   "metadata": {},
   "outputs": [],
   "source": [
    "pd.crosstab(y_test, predictions, rownames=['Actual Rating'], colnames=['Predicted Rating'])\n"
   ]
  },
  {
   "cell_type": "code",
   "execution_count": null,
   "metadata": {},
   "outputs": [],
   "source": [
    "# Create a pd.Series of features importances\n",
    "importances = pd.Series(data=clf.feature_importances_,\n",
    "                        index= X_train.columns)\n",
    "\n",
    "# Sort importances\n",
    "importances_sorted = importances.sort_values()\n",
    "\n",
    "# Draw a horizontal barplot of importances_sorted\n",
    "importances_sorted.plot(kind='barh', color='lightgreen')\n",
    "plt.title('Features Importances')\n",
    "plt.show()"
   ]
  }
 ],
 "metadata": {
  "interpreter": {
   "hash": "08e595c52ca3b9470036b1110e67b559e55f367cabc363f2e28d35631ed95060"
  },
  "kernelspec": {
   "display_name": "Python 3.9.7 64-bit",
   "language": "python",
   "name": "python3"
  },
  "language_info": {
   "codemirror_mode": {
    "name": "ipython",
    "version": 3
   },
   "file_extension": ".py",
   "mimetype": "text/x-python",
   "name": "python",
   "nbconvert_exporter": "python",
   "pygments_lexer": "ipython3",
   "version": "3.9.7"
  },
  "orig_nbformat": 4
 },
 "nbformat": 4,
 "nbformat_minor": 2
}
