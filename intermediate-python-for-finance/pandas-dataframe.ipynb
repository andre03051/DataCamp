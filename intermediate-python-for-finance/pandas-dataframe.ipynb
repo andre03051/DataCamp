{
 "cells": [
  {
   "cell_type": "code",
   "execution_count": null,
   "metadata": {},
   "outputs": [],
   "source": [
    "import pandas as pd"
   ]
  },
  {
   "cell_type": "code",
   "execution_count": null,
   "metadata": {},
   "outputs": [],
   "source": [
    "# Create dict holding the data\n",
    "data = {'Sym': ['APPL', 'APPL', 'APPL'],\n",
    "        'Price': [105.00, 117.05, 289.80],\n",
    "        'Date': ['2015/12/31', '2017/12/01', '2019/12/27']}\n",
    "\n",
    "# Create DataFrame from the data\n",
    "positions = pd.DataFrame(data=data)\n",
    "print(positions)\n",
    "\n",
    "# Make list of dictionaries\n",
    "data = [{'Sym': 'APPL', 'Price': 105.00, 'Date': '2015/12/31'},\n",
    "        {'Sym': 'APPL', 'Price': 117.05, 'Date': '2017/12/01'},\n",
    "        {'Sym': 'APPL', 'Price': 289.80, 'Date': '2019/12/27'}]\n",
    "\n",
    "# Create DataFrame from the list\n",
    "positions = pd.DataFrame(data=data)\n",
    "print(positions)\n",
    "\n",
    "# Create a list of lists\n",
    "data = [['APPL', 105.00, '2015/12/31'],\n",
    "        ['APPL', 117.05, '2017/12/01'],\n",
    "        ['APPL', 289.80, '2019/12/27']]\n",
    "\n",
    "# Define the column names\n",
    "columns = ['Sym', 'Price', 'Date']\n",
    "\n",
    "# Create a DataFrame with the data and column names\n",
    "df = pd.DataFrame(data=data, columns=columns)\n",
    "print(df)"
   ]
  },
  {
   "cell_type": "code",
   "execution_count": null,
   "metadata": {},
   "outputs": [],
   "source": [
    "# Read the data\n",
    "stocks = pd.read_csv('data/HistoricalQuotes.csv', index_col='date')\n",
    "\n",
    "# Look at the data\n",
    "print(stocks.head())"
   ]
  },
  {
   "cell_type": "code",
   "execution_count": null,
   "metadata": {},
   "outputs": [],
   "source": [
    "# Create a list of lists\n",
    "data = [['2020-10-01', 0.0, -300.0, 1222.0],\n",
    "        ['2020-10-02', 200.0, -200.0, 1322.0],\n",
    "        ['2020-10-03', -100.0, 700.0, 1922.0]]\n",
    "\n",
    "# Define the column names\n",
    "columns = ['Date', 'Cash','Securities','Balance']\n",
    "\n",
    "# Create a DataFrame with the data and column names\n",
    "ledger = pd.DataFrame(data=data, columns=columns)\n",
    "ledger.set_index('Date', inplace=True)\n",
    "\n",
    "# Select the Balance for October 2nd\n",
    "print(ledger.loc['2020-10-02', 'Balance'])\n",
    "\n",
    "# Select the Balance for October 3rd\n",
    "print(ledger.loc['2020-10-03', 'Balance'])\n",
    "\n",
    "# Cash and Securities for October 3rd\n",
    "print(ledger.loc['2020-10-03', ['Cash', 'Securities']])\n",
    "       \n",
    "# Balance for October 1st and 3rd\n",
    "print(ledger.loc[['2020-10-01','2020-10-03'], 'Balance'])\n",
    "\n",
    "# All columns for October 1st\n",
    "print(ledger.loc['2020-10-01', :])\n",
    "\n",
    "# Balance for all dates\n",
    "print(ledger.loc[:, 'Balance'])"
   ]
  },
  {
   "cell_type": "code",
   "execution_count": null,
   "metadata": {},
   "outputs": [],
   "source": [
    "# Cell first row, Price column\n",
    "print(positions.iloc[0, 3])\n",
    "\n",
    "# Cell last row, Symbol column\n",
    "print(positions.iloc[-1, 0])\n",
    "\n",
    "# Oldest two purchase dates\n",
    "print(positions.iloc[[0,1], 1])\n",
    "\n",
    "# Newest purchase and quantity\n",
    "print(positions.iloc[2, [1,2]])\n",
    "\n",
    "# Set 2020 quantity\n",
    "positions.iloc[2, 2] = 15\n",
    "\n",
    "print(positions)\n",
    "\n",
    "# Set quantity\n",
    "positions.iloc[0:, 2] = 0\n",
    "\n",
    "print(positions)"
   ]
  },
  {
   "cell_type": "code",
   "execution_count": null,
   "metadata": {},
   "outputs": [],
   "source": [
    "# Get the median of the opening prices\n",
    "med_open = prices.loc[:, 'OPEN'].median()\n",
    "\n",
    "# Get the median of the closing prices\n",
    "med_close = prices.loc[:, 'CLOSE'].median()\n",
    "\n",
    "if med_open < med_close :\n",
    "    print(\"Trending down.\")"
   ]
  }
 ],
 "metadata": {
  "interpreter": {
   "hash": "468f25ad0239460415b7e6b7483d5c8f7213894121f6fb96c4cb6ef93fffe534"
  },
  "kernelspec": {
   "display_name": "Python 3.9.7 64-bit",
   "language": "python",
   "name": "python3"
  },
  "language_info": {
   "codemirror_mode": {
    "name": "ipython",
    "version": 3
   },
   "file_extension": ".py",
   "mimetype": "text/x-python",
   "name": "python",
   "nbconvert_exporter": "python",
   "pygments_lexer": "ipython3",
   "version": "3.9.7"
  },
  "orig_nbformat": 4
 },
 "nbformat": 4,
 "nbformat_minor": 2
}
