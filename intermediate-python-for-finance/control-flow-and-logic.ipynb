{
 "cells": [
  {
   "cell_type": "code",
   "execution_count": 1,
   "metadata": {},
   "outputs": [
    {
     "name": "stdout",
     "output_type": "stream",
     "text": [
      "False\n",
      "True\n"
     ]
    }
   ],
   "source": [
    "# Assign a value to cash.\n",
    "non_cash = 20.33\n",
    "cash = 19.11\n",
    "\n",
    "# Check if cash is equal to non-cash\n",
    "print(cash == non_cash)\n",
    "\n",
    "# Assign the value of cash to be equal non-cash\n",
    "cash = non_cash\n",
    "\n",
    "# Check if cash is equal to non-cash\n",
    "print(cash == non_cash)"
   ]
  },
  {
   "cell_type": "code",
   "execution_count": 2,
   "metadata": {},
   "outputs": [
    {
     "name": "stdout",
     "output_type": "stream",
     "text": [
      "True\n",
      "False\n",
      "True\n",
      "True\n"
     ]
    }
   ],
   "source": [
    "d1 = 323\n",
    "d2 = 489\n",
    "\n",
    "# Check dividend is greater than zero\n",
    "print(d2 > 0)\n",
    "\n",
    "# Is dividend 1 is greater than dividend 2?\n",
    "print(d1 > d2)\n",
    "\n",
    "# Check dividend 1 is at least 100\n",
    "print(d1 >= 100)\n",
    "\n",
    "# Check dividend 2 is at least as much dividend 1\n",
    "print(d1 <= d2)"
   ]
  },
  {
   "cell_type": "code",
   "execution_count": 3,
   "metadata": {},
   "outputs": [
    {
     "name": "stdout",
     "output_type": "stream",
     "text": [
      "True\n",
      "True\n",
      "True\n"
     ]
    }
   ],
   "source": [
    "is_investment_account = True\n",
    "balance_positive = True\n",
    "\n",
    "# Print the given variables\n",
    "print(is_investment_account)\n",
    "print(balance_positive)\n",
    "\n",
    "# Decide if this account is cantidate for trading advice\n",
    "potential_trade = is_investment_account and balance_positive\n",
    "\n",
    "# Print if this represents a potential trade\n",
    "print(potential_trade)"
   ]
  },
  {
   "cell_type": "code",
   "execution_count": 5,
   "metadata": {},
   "outputs": [
    {
     "name": "stdout",
     "output_type": "stream",
     "text": [
      "Hold\n",
      "False\n"
     ]
    }
   ],
   "source": [
    "input_action = ''\n",
    "is_trading_day = False\n",
    "\n",
    "# Assign a default action if no input\n",
    "action = input_action or \"Hold\"\n",
    "\n",
    "# Print the action\n",
    "print(action)\n",
    "\n",
    "# Assign action only if trades can be made\n",
    "do_action = is_trading_day and action\n",
    "\n",
    "# Print the action to do\n",
    "print(do_action)"
   ]
  },
  {
   "cell_type": "code",
   "execution_count": 6,
   "metadata": {},
   "outputs": [
    {
     "name": "stdout",
     "output_type": "stream",
     "text": [
      "[]\n",
      "True\n",
      "True\n"
     ]
    }
   ],
   "source": [
    "closing_prices = []\n",
    "market_closed = False\n",
    "\n",
    "print(closing_prices)\n",
    "\n",
    "# Assigning True if we need to get the prices\n",
    "not_prices = not closing_prices\n",
    "\n",
    "print(not_prices)\n",
    "\n",
    "# Get prices if market is closed and we don't have prices\n",
    "get_prices = not (market_closed and not_prices)\n",
    "\n",
    "print(get_prices)"
   ]
  },
  {
   "cell_type": "code",
   "execution_count": 7,
   "metadata": {},
   "outputs": [
    {
     "name": "stdout",
     "output_type": "stream",
     "text": [
      "No sales or purchases\n"
     ]
    }
   ],
   "source": [
    "purchases = []\n",
    "sales = []\n",
    "\n",
    "# Get number of purchases\n",
    "num_purchases = len(purchases)\n",
    "# Get number of sales\n",
    "num_sales = len(sales)\n",
    "\n",
    "# Check if more sales than purchases\n",
    "if num_purchases < num_sales:\n",
    "    print('buy more')\n",
    "\n",
    "# Get number of purchases\n",
    "num_purchases = len(purchases)\n",
    "# Get number of sales\n",
    "num_sales = len(sales)\n",
    "\n",
    "# Check if fewer sales than purchases\n",
    "if num_sales < num_purchases:\n",
    "    print('sell more')\n",
    "\n",
    "# Get number of purchases\n",
    "num_purchases = len(purchases)\n",
    "# Get number of sales\n",
    "num_sales = len(sales)\n",
    "\n",
    "# Check if both lists are empty\n",
    "if not (purchases or sales):\n",
    "    print('No sales or purchases')"
   ]
  },
  {
   "cell_type": "code",
   "execution_count": 9,
   "metadata": {},
   "outputs": [
    {
     "name": "stdout",
     "output_type": "stream",
     "text": [
      "Buying AAPL\n",
      "Buying ORCL\n",
      "Buying CSCO\n",
      "-101\n",
      "Buying AAPL\n",
      "Unable to finish buys\n",
      "-101\n"
     ]
    }
   ],
   "source": [
    "buys = [{'symbol': 'AAPL', 'total_cost': 900},\n",
    " {'symbol': 'ORCL', 'total_cost': 300},\n",
    " {'symbol': 'CSCO', 'total_cost': 200}]\n",
    "\n",
    "balance = 1299\n",
    "\n",
    "# Loop through buys\n",
    "for buy in buys:\n",
    "    print('Buying ' + buy['symbol'])\n",
    "    new_balance = balance - buy['total_cost']\n",
    "    balance = new_balance\n",
    "\n",
    "print(balance)\n",
    "\n",
    "for buy in buys:\n",
    "    print('Buying ' + buy['symbol'])\n",
    "    new_balance = balance - buy['total_cost']\n",
    "    if new_balance < 0:\n",
    "        print('Unable to finish buys')\n",
    "        break\n",
    "    balance = new_balance\n",
    "\n",
    "print(balance)"
   ]
  }
 ],
 "metadata": {
  "interpreter": {
   "hash": "468f25ad0239460415b7e6b7483d5c8f7213894121f6fb96c4cb6ef93fffe534"
  },
  "kernelspec": {
   "display_name": "Python 3.9.7 64-bit",
   "language": "python",
   "name": "python3"
  },
  "language_info": {
   "codemirror_mode": {
    "name": "ipython",
    "version": 3
   },
   "file_extension": ".py",
   "mimetype": "text/x-python",
   "name": "python",
   "nbconvert_exporter": "python",
   "pygments_lexer": "ipython3",
   "version": "3.9.7"
  },
  "orig_nbformat": 4
 },
 "nbformat": 4,
 "nbformat_minor": 2
}
