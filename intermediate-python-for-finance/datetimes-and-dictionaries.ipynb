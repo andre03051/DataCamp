{
 "cells": [
  {
   "cell_type": "code",
   "execution_count": 17,
   "metadata": {},
   "outputs": [],
   "source": [
    "import datetime \n",
    "from datetime import timedelta"
   ]
  },
  {
   "cell_type": "code",
   "execution_count": 18,
   "metadata": {},
   "outputs": [
    {
     "name": "stdout",
     "output_type": "stream",
     "text": [
      "2022-05-05 21:27:28.317793\n",
      "1962-05-28 00:00:00\n",
      "1987-10-19 00:00:00\n"
     ]
    }
   ],
   "source": [
    "# Date and time now\n",
    "now = datetime.datetime.now()\n",
    "print(now)\n",
    "\n",
    "# Flash crash May 28, 1962\n",
    "flash_crash = datetime.datetime(1962, 5, 28)\n",
    "print(flash_crash)\n",
    "\n",
    "# Black Monday Oct 19, 1987\n",
    "black_monday = datetime.datetime(1987, 10, 19)\n",
    "print(black_monday)"
   ]
  },
  {
   "cell_type": "code",
   "execution_count": 19,
   "metadata": {},
   "outputs": [
    {
     "name": "stdout",
     "output_type": "stream",
     "text": [
      "1989-10-13 00:00:00\n",
      "1990-07-03 00:00:00\n"
     ]
    }
   ],
   "source": [
    "crash_text = \"Friday the 13th, Oct, 1989\"\n",
    "\n",
    "# Create a format string mapping the text\n",
    "crash_format_str = \"%A the %dth, %b, %Y\"\n",
    "min_crash = datetime.datetime.strptime(crash_text, crash_format_str)\n",
    "print(min_crash)\n",
    "\n",
    "recession_text = \"07/03/90\"\n",
    "\n",
    "# Create format string\n",
    "recession_format_str = \"%m/%d/%y\"\n",
    "\n",
    "# Create datetime from text using format string\n",
    "nineties_rec = datetime.datetime.strptime(recession_text, recession_format_str)\n",
    "print(nineties_rec)"
   ]
  },
  {
   "cell_type": "code",
   "execution_count": 20,
   "metadata": {},
   "outputs": [
    {
     "name": "stdout",
     "output_type": "stream",
     "text": [
      "1992-09-16 00:00:00\n",
      "Wednesday, September 16, 1992\n"
     ]
    }
   ],
   "source": [
    "org_text = \"Sep 16 1992\"\n",
    "\n",
    "# Format string for original text\n",
    "org_format = \"%b %d %Y\"\n",
    "\n",
    "# Create datetime for Black Wednesday\n",
    "black_wednesday = datetime.datetime.strptime(org_text, org_format)\n",
    "print(black_wednesday)\n",
    "\n",
    "# New format: 'Wednesday, September 16, 1992'\n",
    "new_format = \"%A, %B %d, %Y\"\n",
    "\n",
    "# String in new format\n",
    "new_text = black_wednesday.strftime(new_format)\n",
    "print(new_text)"
   ]
  },
  {
   "cell_type": "code",
   "execution_count": 21,
   "metadata": {},
   "outputs": [
    {
     "name": "stdout",
     "output_type": "stream",
     "text": [
      "Year: 2000, Month: 3, Day: 10\n"
     ]
    }
   ],
   "source": [
    "# March 10, 2000 Tech Bubble Crash\n",
    "tech_bubble = datetime.datetime(2000, 3, 10)\n",
    "\n",
    "# Access the year\n",
    "yr  = tech_bubble.year\n",
    "\n",
    "# Access the month\n",
    "mth = tech_bubble.month\n",
    "\n",
    "# Access the day\n",
    "day = tech_bubble.day\n",
    "\n",
    "print(f\"Year: {yr}, Month: {mth}, Day: {day}\")"
   ]
  },
  {
   "cell_type": "code",
   "execution_count": 22,
   "metadata": {},
   "outputs": [
    {
     "name": "stdout",
     "output_type": "stream",
     "text": [
      "It is True that Lehman Brothers declared bankruptcy first.\n",
      "It is False that TARP was approved first.\n",
      "It is True that Morgan Stanley and Goldman Sachs acted simultaneously\n"
     ]
    }
   ],
   "source": [
    "lehman = datetime.datetime(2008, 9, 15, 0, 0)\n",
    "morgan_stanley = datetime.datetime(2008, 9, 22, 0, 0)\n",
    "goldman_sachs = datetime.datetime(2008, 9, 22, 0, 0)\n",
    "tarp = datetime.datetime(2008, 10, 3, 0, 0)\n",
    "\n",
    "# Lehman Brothers before Morgan Stanley?\n",
    "lehman_first = lehman < morgan_stanley\n",
    "print(f\"It is {lehman_first} that Lehman Brothers declared bankruptcy first.\") \n",
    "\n",
    "# Goldman Sachs after TARP?\n",
    "tarp_first = goldman_sachs > tarp\n",
    "print(f\"It is {tarp_first} that TARP was approved first.\")\n",
    "\n",
    "# Goldman Sachs and Morgan Stanley same day?\n",
    "same_time = goldman_sachs == morgan_stanley\n",
    "print(f\"It is {same_time} that Morgan Stanley and Goldman Sachs acted simultaneously\")"
   ]
  },
  {
   "cell_type": "code",
   "execution_count": 24,
   "metadata": {},
   "outputs": [
    {
     "name": "stdout",
     "output_type": "stream",
     "text": [
      "2008-09-26 00:00:00\n",
      "2008-10-10 00:00:00\n",
      "2009-10-02 00:00:00\n"
     ]
    }
   ],
   "source": [
    "# TARP passed Oct 3 2008\n",
    "tarp = datetime.datetime(2008, 10, 3)\n",
    "\n",
    "# Seven days before TARP\n",
    "week_before = tarp - timedelta(days = 7)\n",
    "\n",
    "# Print week_before\n",
    "print(week_before)\n",
    "\n",
    "# TARP passed Oct 3 2008\n",
    "tarp = datetime.datetime(2008, 10, 3)\n",
    "\n",
    "# One week after TARP\n",
    "week_after = tarp + timedelta(weeks = 1)\n",
    "\n",
    "# Print week_after\n",
    "print(week_after)\n",
    "\n",
    "# TARP passed Oct 3 2008\n",
    "tarp = datetime.datetime(2008, 10, 3)\n",
    "\n",
    "# One year after TARP\n",
    "year_after = tarp + timedelta(weeks = 52)\n",
    "\n",
    "# Print year_after\n",
    "print(year_after)"
   ]
  },
  {
   "cell_type": "code",
   "execution_count": 25,
   "metadata": {},
   "outputs": [
    {
     "data": {
      "text/plain": [
       "'AAPL'"
      ]
     },
     "execution_count": 25,
     "metadata": {},
     "output_type": "execute_result"
    }
   ],
   "source": [
    "cusip_lookup = {}\n",
    "\n",
    "# Alphabet\n",
    "cusip_lookup['38259P706'] = 'GOOG'\n",
    "\n",
    "# Apple\n",
    "cusip_lookup['037833100'] = 'AAPL'\n",
    "\n",
    "# Lookup Apple\n",
    "cusip_lookup['037833100']"
   ]
  },
  {
   "cell_type": "code",
   "execution_count": 26,
   "metadata": {},
   "outputs": [
    {
     "name": "stdout",
     "output_type": "stream",
     "text": [
      "1211.78\n",
      "Missing\n",
      "{datetime.datetime(2019, 8, 2, 0, 0): 1196.32, datetime.datetime(2019, 8, 1, 0, 0): 1211.78, datetime.datetime(2019, 7, 31, 0, 0): 1218.2, datetime.datetime(2019, 7, 30, 0, 0): 1228}\n",
      "{datetime.datetime(2019, 8, 1, 0, 0): 1211.78, datetime.datetime(2019, 7, 31, 0, 0): 1218.2, datetime.datetime(2019, 7, 30, 0, 0): 1228}\n"
     ]
    }
   ],
   "source": [
    "closing_price_date = datetime.datetime(2019, 8, 2, 0, 0)\n",
    "alphabet_hist = {\n",
    "    datetime.datetime(2019, 8, 2, 0, 0): 1196.32,\n",
    "    datetime.datetime(2019, 8, 1, 0, 0): 1211.78,\n",
    "    datetime.datetime(2019, 7, 31, 0, 0): 1218.2,\n",
    "    datetime.datetime(2019, 7, 30, 0, 0): 1228\n",
    "}\n",
    "\n",
    "# Closing price for day before\n",
    "day_before_closing_price_date = closing_price_date - timedelta(days=1)\n",
    "\n",
    "# Safely print closing price day before or None if it's missing\n",
    "print(alphabet_hist.get(day_before_closing_price_date))\n",
    "\n",
    "# Get day eight weeks in future\n",
    "future_closing_price_date = closing_price_date + timedelta(weeks=8)\n",
    "\n",
    "# Safely get value for the future date or the string 'Missing'\n",
    "print(alphabet_hist.get(future_closing_price_date, 'Missing'))\n",
    "\n",
    "# Print with key\n",
    "print(alphabet_hist)\n",
    "\n",
    "# Remove entry\n",
    "del(alphabet_hist[closing_price_date])\n",
    "\n",
    "# Print with key deleted\n",
    "print(alphabet_hist)"
   ]
  }
 ],
 "metadata": {
  "interpreter": {
   "hash": "468f25ad0239460415b7e6b7483d5c8f7213894121f6fb96c4cb6ef93fffe534"
  },
  "kernelspec": {
   "display_name": "Python 3.9.7 64-bit",
   "language": "python",
   "name": "python3"
  },
  "language_info": {
   "codemirror_mode": {
    "name": "ipython",
    "version": 3
   },
   "file_extension": ".py",
   "mimetype": "text/x-python",
   "name": "python",
   "nbconvert_exporter": "python",
   "pygments_lexer": "ipython3",
   "version": "3.9.7"
  },
  "orig_nbformat": 4
 },
 "nbformat": 4,
 "nbformat_minor": 2
}
