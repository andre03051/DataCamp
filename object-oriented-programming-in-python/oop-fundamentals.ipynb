{
 "cells": [
  {
   "cell_type": "code",
   "execution_count": 1,
   "metadata": {},
   "outputs": [],
   "source": [
    "class Customer:\n",
    "    def set_name(self, new_name):\n",
    "        self.name = new_name\n",
    "    \n",
    "    # User .name from the object it*self*\n",
    "    def identify(self):\n",
    "        print(\"I am Customer\" + self.name)"
   ]
  },
  {
   "cell_type": "code",
   "execution_count": 7,
   "metadata": {},
   "outputs": [
    {
     "name": "stdout",
     "output_type": "stream",
     "text": [
      "Invalid salary!\n",
      "4166.666666666667\n"
     ]
    }
   ],
   "source": [
    "from datetime import datetime\n",
    "class Employee:\n",
    "  def __init__(self, name, salary=0):\n",
    "        self.name = name\n",
    "        if salary > 0:\n",
    "          self.salary = salary\n",
    "        else:\n",
    "          self.salary = 0\n",
    "          print(\"Invalid salary!\")\n",
    "          \n",
    "        # Add the hire_date attribute and set it to today's date\n",
    "        self.hire_date = datetime.today()\n",
    "\n",
    "  def set_name(self, new_name):\n",
    "      self.name = new_name\n",
    "\n",
    "  def set_salary(self, new_salary):\n",
    "      self.salary = new_salary \n",
    "\n",
    "  def give_raise(self, amount):\n",
    "      self.salary = self.salary + amount\n",
    "\n",
    "  # Add monthly_salary method that returns 1/12th of salary attribute\n",
    "  def monthly_salary(self):\n",
    "      return self.salary/12\n",
    "\n",
    "    \n",
    "emp = Employee(\"Korel Rossi\", -1000)\n",
    "emp.set_name('Korel Rossi')\n",
    "emp.set_salary(50000)\n",
    "\n",
    "# Get monthly salary of emp and assign to mon_sal\n",
    "mon_sal = emp.monthly_salary()\n",
    "\n",
    "# Print mon_sal\n",
    "print(mon_sal)"
   ]
  },
  {
   "cell_type": "code",
   "execution_count": 8,
   "metadata": {},
   "outputs": [
    {
     "name": "stdout",
     "output_type": "stream",
     "text": [
      "(-3.0, 0.0)\n",
      "5.0\n"
     ]
    }
   ],
   "source": [
    "# Import numpy\n",
    "import numpy as np\n",
    "\n",
    "# Write the class Point as outlined in the instructions\n",
    "class Point:\n",
    "    def __init__(self, x = 0.0, y = 0.0):\n",
    "        self.x = x\n",
    "        self.y = y\n",
    "\n",
    "    def distance_to_origin(self):\n",
    "        return np.sqrt(self.x**2 + self.y**2)\n",
    "\n",
    "    def reflect(self, axis):\n",
    "        if (axis == \"x\"):\n",
    "            self.y = -self.y\n",
    "        elif (axis == \"y\"):\n",
    "            self.x = -self.x\n",
    "        else:\n",
    "            print(\"Invlaid Axis!\")\n",
    "\n",
    "\n",
    "pt = Point(x=3.0)\n",
    "pt.reflect(\"y\")\n",
    "print((pt.x, pt.y))\n",
    "pt.y = 4.0\n",
    "print(pt.distance_to_origin())"
   ]
  }
 ],
 "metadata": {
  "interpreter": {
   "hash": "468f25ad0239460415b7e6b7483d5c8f7213894121f6fb96c4cb6ef93fffe534"
  },
  "kernelspec": {
   "display_name": "Python 3.9.7 64-bit",
   "language": "python",
   "name": "python3"
  },
  "language_info": {
   "codemirror_mode": {
    "name": "ipython",
    "version": 3
   },
   "file_extension": ".py",
   "mimetype": "text/x-python",
   "name": "python",
   "nbconvert_exporter": "python",
   "pygments_lexer": "ipython3",
   "version": "3.9.7"
  },
  "orig_nbformat": 4
 },
 "nbformat": 4,
 "nbformat_minor": 2
}
