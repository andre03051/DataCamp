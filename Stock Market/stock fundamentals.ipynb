{
 "cells": [
  {
   "cell_type": "code",
   "execution_count": null,
   "metadata": {},
   "outputs": [],
   "source": [
    "import yahoo_fin.stock_info as si\n",
    "import yfinance as yf\n",
    "import pandas as pd\n",
    "import matplotlib.pyplot as plt"
   ]
  },
  {
   "cell_type": "code",
   "execution_count": null,
   "metadata": {},
   "outputs": [],
   "source": [
    "ticker = 'vzio'"
   ]
  },
  {
   "cell_type": "code",
   "execution_count": 352,
   "metadata": {},
   "outputs": [
    {
     "data": {
      "text/html": [
       "<div>\n",
       "<style scoped>\n",
       "    .dataframe tbody tr th:only-of-type {\n",
       "        vertical-align: middle;\n",
       "    }\n",
       "\n",
       "    .dataframe tbody tr th {\n",
       "        vertical-align: top;\n",
       "    }\n",
       "\n",
       "    .dataframe thead th {\n",
       "        text-align: right;\n",
       "    }\n",
       "</style>\n",
       "<table border=\"1\" class=\"dataframe\">\n",
       "  <thead>\n",
       "    <tr style=\"text-align: right;\">\n",
       "      <th></th>\n",
       "      <th>Value</th>\n",
       "    </tr>\n",
       "    <tr>\n",
       "      <th>Breakdown</th>\n",
       "      <th></th>\n",
       "    </tr>\n",
       "  </thead>\n",
       "  <tbody>\n",
       "    <tr>\n",
       "      <th>zip</th>\n",
       "      <td>94080</td>\n",
       "    </tr>\n",
       "    <tr>\n",
       "      <th>sector</th>\n",
       "      <td>Healthcare</td>\n",
       "    </tr>\n",
       "    <tr>\n",
       "      <th>fullTimeEmployees</th>\n",
       "      <td>106</td>\n",
       "    </tr>\n",
       "    <tr>\n",
       "      <th>longBusinessSummary</th>\n",
       "      <td>Tenaya Therapeutics, Inc., a biotechnology com...</td>\n",
       "    </tr>\n",
       "    <tr>\n",
       "      <th>city</th>\n",
       "      <td>South San Francisco</td>\n",
       "    </tr>\n",
       "    <tr>\n",
       "      <th>phone</th>\n",
       "      <td>650 825 6900</td>\n",
       "    </tr>\n",
       "    <tr>\n",
       "      <th>state</th>\n",
       "      <td>CA</td>\n",
       "    </tr>\n",
       "    <tr>\n",
       "      <th>compensationAsOfEpochDate</th>\n",
       "      <td>1609372800</td>\n",
       "    </tr>\n",
       "    <tr>\n",
       "      <th>country</th>\n",
       "      <td>United States</td>\n",
       "    </tr>\n",
       "    <tr>\n",
       "      <th>website</th>\n",
       "      <td>https://www.tenayatherapeutics.com</td>\n",
       "    </tr>\n",
       "    <tr>\n",
       "      <th>maxAge</th>\n",
       "      <td>86400</td>\n",
       "    </tr>\n",
       "    <tr>\n",
       "      <th>address1</th>\n",
       "      <td>171 Oyster Point Boulevard</td>\n",
       "    </tr>\n",
       "    <tr>\n",
       "      <th>industry</th>\n",
       "      <td>Biotechnology</td>\n",
       "    </tr>\n",
       "    <tr>\n",
       "      <th>address2</th>\n",
       "      <td>5th Floor Suite 500</td>\n",
       "    </tr>\n",
       "  </tbody>\n",
       "</table>\n",
       "</div>"
      ],
      "text/plain": [
       "                                                                       Value\n",
       "Breakdown                                                                   \n",
       "zip                                                                    94080\n",
       "sector                                                            Healthcare\n",
       "fullTimeEmployees                                                        106\n",
       "longBusinessSummary        Tenaya Therapeutics, Inc., a biotechnology com...\n",
       "city                                                     South San Francisco\n",
       "phone                                                           650 825 6900\n",
       "state                                                                     CA\n",
       "compensationAsOfEpochDate                                         1609372800\n",
       "country                                                        United States\n",
       "website                                   https://www.tenayatherapeutics.com\n",
       "maxAge                                                                 86400\n",
       "address1                                          171 Oyster Point Boulevard\n",
       "industry                                                       Biotechnology\n",
       "address2                                                 5th Floor Suite 500"
      ]
     },
     "execution_count": 352,
     "metadata": {},
     "output_type": "execute_result"
    }
   ],
   "source": [
    "si.get_company_info(ticker)"
   ]
  },
  {
   "cell_type": "code",
   "execution_count": null,
   "metadata": {},
   "outputs": [],
   "source": [
    "quote = si.get_quote_table(ticker)\n",
    "quote"
   ]
  },
  {
   "cell_type": "code",
   "execution_count": null,
   "metadata": {},
   "outputs": [],
   "source": [
    "valuation = si.get_stats_valuation(ticker)\n",
    "valuation"
   ]
  },
  {
   "cell_type": "code",
   "execution_count": null,
   "metadata": {},
   "outputs": [],
   "source": [
    "balance = si.get_balance_sheet(ticker)\n"
   ]
  },
  {
   "cell_type": "code",
   "execution_count": 350,
   "metadata": {},
   "outputs": [
    {
     "data": {
      "image/png": "[encoded data removed]",
      "text/plain": [
       "<Figure size 432x288 with 1 Axes>"
      ]
     },
     "metadata": {
      "needs_background": "light"
     },
     "output_type": "display_data"
    }
   ],
   "source": [
    "balance.loc[['cash']].melt().set_index('endDate').plot()\n",
    "plt.show()"
   ]
  },
  {
   "cell_type": "code",
   "execution_count": null,
   "metadata": {},
   "outputs": [],
   "source": [
    "analyst = si.get_analysts_info(ticker)\n",
    "analyst"
   ]
  },
  {
   "cell_type": "code",
   "execution_count": null,
   "metadata": {},
   "outputs": [],
   "source": [
    "data = si.get_data(ticker)\n",
    "data['close'].plot()\n",
    "plt.show()"
   ]
  },
  {
   "cell_type": "code",
   "execution_count": null,
   "metadata": {},
   "outputs": [],
   "source": []
  },
  {
   "cell_type": "code",
   "execution_count": null,
   "metadata": {},
   "outputs": [],
   "source": [
    "ticker = 'tsla'\n",
    "\n",
    "# Get Cash FLow Data\n",
    "cash = si.get_cash_flow(ticker)\n",
    "\n",
    "# Stack the data\n",
    "cash_stacked = pd.DataFrame()\n",
    "for idx in cash.index:\n",
    "    temp = cash.loc[[idx]].melt()\n",
    "    temp['breakdown'] = idx\n",
    "    cash_stacked = pd.concat([temp, cash_stacked], ignore_index=True)\n",
    "\n",
    "# cash_stacked.to_csv('data/wrap_cash.csv', index=False)\n",
    "\n",
    "market = yf.download(\n",
    "    ticker, \n",
    "    start=cash_stacked['endDate'].min(), \n",
    "    end=cash_stacked['endDate'].max(), \n",
    "    progress=False\n",
    ")\n",
    "# data.to_csv('data/stock_data.csv')\n",
    "market_change = market[['Adj Close']].reset_index()\n",
    "market_change['year'] = market_change['Date'].dt.year\n",
    "\n",
    "# Find the change within the cash reporting periods\n",
    "adj_close = []\n",
    "for yr in market_change.year.unique():\n",
    "    temp = market_change.loc[market_change.year == yr]\n",
    "    adj_close.append(\n",
    "        temp.loc[temp.Date == temp.Date.max(), 'Adj Close'].values.item() - \\\n",
    "            temp.loc[temp.Date == temp.Date.min(), 'Adj Close'].values.item()\n",
    "    )\n",
    "\n",
    "df = cash_stacked.pivot(index = 'endDate', columns='breakdown', values = 'value')\n",
    "df['adj_close'] = adj_close\n",
    "df['date'] = df.index\n",
    "df.reset_index(drop=True, inplace=True)\n",
    "df"
   ]
  },
  {
   "cell_type": "code",
   "execution_count": null,
   "metadata": {},
   "outputs": [],
   "source": [
    "df = cash_stacked.pivot(index = 'endDate', columns='breakdown', values = 'value')\n",
    "df['adj_close'] = adj_close\n",
    "df['date'] = df.index\n",
    "df.reset_index(drop=True, inplace=True)\n",
    "df"
   ]
  }
 ],
 "metadata": {
  "interpreter": {
   "hash": "468f25ad0239460415b7e6b7483d5c8f7213894121f6fb96c4cb6ef93fffe534"
  },
  "kernelspec": {
   "display_name": "Python 3.9.7 64-bit",
   "language": "python",
   "name": "python3"
  },
  "language_info": {
   "codemirror_mode": {
    "name": "ipython",
    "version": 3
   },
   "file_extension": ".py",
   "mimetype": "text/x-python",
   "name": "python",
   "nbconvert_exporter": "python",
   "pygments_lexer": "ipython3",
   "version": "3.9.7"
  },
  "orig_nbformat": 4
 },
 "nbformat": 4,
 "nbformat_minor": 2
}
