{
 "cells": [
  {
   "cell_type": "code",
   "execution_count": 75,
   "metadata": {},
   "outputs": [],
   "source": [
    "import pandas as pd\n",
    "import yfinance as yf\n",
    "import datetime\n",
    "from datetime import date, timedelta\n",
    "from dateutil.relativedelta import relativedelta\n",
    "today = date.today()\n",
    "import matplotlib.pyplot as plt\n",
    "import seaborn as sns\n",
    "import numpy as np\n"
   ]
  },
  {
   "cell_type": "code",
   "execution_count": 4,
   "metadata": {},
   "outputs": [
    {
     "data": {
      "text/html": [
       "<div>\n",
       "<style scoped>\n",
       "    .dataframe tbody tr th:only-of-type {\n",
       "        vertical-align: middle;\n",
       "    }\n",
       "\n",
       "    .dataframe tbody tr th {\n",
       "        vertical-align: top;\n",
       "    }\n",
       "\n",
       "    .dataframe thead th {\n",
       "        text-align: right;\n",
       "    }\n",
       "</style>\n",
       "<table border=\"1\" class=\"dataframe\">\n",
       "  <thead>\n",
       "    <tr style=\"text-align: right;\">\n",
       "      <th></th>\n",
       "      <th>Description</th>\n",
       "      <th>Ticker</th>\n",
       "      <th>Action</th>\n",
       "      <th>Shares</th>\n",
       "      <th>Amount</th>\n",
       "      <th>Amount</th>\n",
       "      <th>Commission</th>\n",
       "      <th>Reg Fee</th>\n",
       "      <th>Details</th>\n",
       "    </tr>\n",
       "    <tr>\n",
       "      <th>Date</th>\n",
       "      <th></th>\n",
       "      <th></th>\n",
       "      <th></th>\n",
       "      <th></th>\n",
       "      <th></th>\n",
       "      <th></th>\n",
       "      <th></th>\n",
       "      <th></th>\n",
       "      <th></th>\n",
       "    </tr>\n",
       "  </thead>\n",
       "  <tbody>\n",
       "    <tr>\n",
       "      <th>26 Apr 2022</th>\n",
       "      <td>Bought 4 FSI @ 3.02</td>\n",
       "      <td>FSI</td>\n",
       "      <td>Buy</td>\n",
       "      <td>4</td>\n",
       "      <td>$(3.02)</td>\n",
       "      <td>$(12.08)</td>\n",
       "      <td>0</td>\n",
       "      <td>0</td>\n",
       "      <td>NaN</td>\n",
       "    </tr>\n",
       "    <tr>\n",
       "      <th>26 Apr 2022</th>\n",
       "      <td>Bought 5 LIQT @ 1.7</td>\n",
       "      <td>LIQT</td>\n",
       "      <td>Buy</td>\n",
       "      <td>5</td>\n",
       "      <td>$(1.70)</td>\n",
       "      <td>$(8.50)</td>\n",
       "      <td>0</td>\n",
       "      <td>0</td>\n",
       "      <td>NaN</td>\n",
       "    </tr>\n",
       "    <tr>\n",
       "      <th>26 Apr 2022</th>\n",
       "      <td>Bought 3 GEVO @ 3.82</td>\n",
       "      <td>GEVO</td>\n",
       "      <td>Buy</td>\n",
       "      <td>3</td>\n",
       "      <td>$(3.82)</td>\n",
       "      <td>$(11.46)</td>\n",
       "      <td>0</td>\n",
       "      <td>0</td>\n",
       "      <td>NaN</td>\n",
       "    </tr>\n",
       "    <tr>\n",
       "      <th>26 Apr 2022</th>\n",
       "      <td>Bought 5 WRAP @ 2.85</td>\n",
       "      <td>WRAP</td>\n",
       "      <td>Buy</td>\n",
       "      <td>5</td>\n",
       "      <td>$(2.85)</td>\n",
       "      <td>$(14.25)</td>\n",
       "      <td>0</td>\n",
       "      <td>0</td>\n",
       "      <td>NaN</td>\n",
       "    </tr>\n",
       "    <tr>\n",
       "      <th>29 Apr 2022</th>\n",
       "      <td>Bought 5 USDP @ 6.79</td>\n",
       "      <td>USDP</td>\n",
       "      <td>Buy</td>\n",
       "      <td>5</td>\n",
       "      <td>$(6.79)</td>\n",
       "      <td>$(33.95)</td>\n",
       "      <td>0</td>\n",
       "      <td>0</td>\n",
       "      <td>NaN</td>\n",
       "    </tr>\n",
       "  </tbody>\n",
       "</table>\n",
       "</div>"
      ],
      "text/plain": [
       "                      Description Ticker Action  Shares   Amount    Amount    \\\n",
       "Date                                                                           \n",
       "26 Apr 2022   Bought 4 FSI @ 3.02    FSI    Buy       4   $(3.02)   $(12.08)   \n",
       "26 Apr 2022   Bought 5 LIQT @ 1.7   LIQT    Buy       5   $(1.70)    $(8.50)   \n",
       "26 Apr 2022  Bought 3 GEVO @ 3.82   GEVO    Buy       3   $(3.82)   $(11.46)   \n",
       "26 Apr 2022  Bought 5 WRAP @ 2.85   WRAP    Buy       5   $(2.85)   $(14.25)   \n",
       "29 Apr 2022  Bought 5 USDP @ 6.79   USDP    Buy       5   $(6.79)   $(33.95)   \n",
       "\n",
       "             Commission   Reg Fee   Details  \n",
       "Date                                         \n",
       "26 Apr 2022            0         0      NaN  \n",
       "26 Apr 2022            0         0      NaN  \n",
       "26 Apr 2022            0         0      NaN  \n",
       "26 Apr 2022            0         0      NaN  \n",
       "29 Apr 2022            0         0      NaN  "
      ]
     },
     "execution_count": 4,
     "metadata": {},
     "output_type": "execute_result"
    }
   ],
   "source": [
    "currPort = pd.read_csv('data/Current Portfolio.csv', index_col='Date')\n",
    "currPort.head()"
   ]
  },
  {
   "cell_type": "code",
   "execution_count": 110,
   "metadata": {},
   "outputs": [
    {
     "data": {
      "text/plain": [
       "['FSI', 'LIQT', 'GEVO', 'USDP', 'SLDP', 'ACHR', 'LTHM', 'MNTS', 'PCT']"
      ]
     },
     "execution_count": 110,
     "metadata": {},
     "output_type": "execute_result"
    }
   ],
   "source": [
    "tickers = []\n",
    "for tick in currPort.Ticker.unique().tolist():\n",
    "    if currPort.groupby('Ticker').sum().loc[tick, 'Shares']:\n",
    "        tickers.append(tick)"
   ]
  },
  {
   "cell_type": "code",
   "execution_count": 85,
   "metadata": {},
   "outputs": [
    {
     "data": {
      "text/plain": [
       "'2017-05-10'"
      ]
     },
     "execution_count": 85,
     "metadata": {},
     "output_type": "execute_result"
    }
   ],
   "source": [
    "d1 = today.strftime(\"%Y-%m-%d\")\n",
    "end_date = d1\n",
    "d2 = date.today() - relativedelta(years=5)\n",
    "d2 = d2.strftime(\"%Y-%m-%d\")\n",
    "start_date = d2\n",
    "start_date"
   ]
  },
  {
   "cell_type": "code",
   "execution_count": 116,
   "metadata": {},
   "outputs": [
    {
     "data": {
      "text/html": [
       "<div>\n",
       "<style scoped>\n",
       "    .dataframe tbody tr th:only-of-type {\n",
       "        vertical-align: middle;\n",
       "    }\n",
       "\n",
       "    .dataframe tbody tr th {\n",
       "        vertical-align: top;\n",
       "    }\n",
       "\n",
       "    .dataframe thead th {\n",
       "        text-align: right;\n",
       "    }\n",
       "</style>\n",
       "<table border=\"1\" class=\"dataframe\">\n",
       "  <thead>\n",
       "    <tr style=\"text-align: right;\">\n",
       "      <th></th>\n",
       "      <th>Open</th>\n",
       "      <th>High</th>\n",
       "      <th>Low</th>\n",
       "      <th>Close</th>\n",
       "      <th>Adj Close</th>\n",
       "      <th>Volume</th>\n",
       "      <th>Ticker</th>\n",
       "    </tr>\n",
       "    <tr>\n",
       "      <th>Date</th>\n",
       "      <th></th>\n",
       "      <th></th>\n",
       "      <th></th>\n",
       "      <th></th>\n",
       "      <th></th>\n",
       "      <th></th>\n",
       "      <th></th>\n",
       "    </tr>\n",
       "  </thead>\n",
       "  <tbody>\n",
       "    <tr>\n",
       "      <th>2017-05-10</th>\n",
       "      <td>1.54</td>\n",
       "      <td>1.64</td>\n",
       "      <td>1.54</td>\n",
       "      <td>1.567</td>\n",
       "      <td>1.429430</td>\n",
       "      <td>40700</td>\n",
       "      <td>FSI</td>\n",
       "    </tr>\n",
       "    <tr>\n",
       "      <th>2017-05-11</th>\n",
       "      <td>1.59</td>\n",
       "      <td>1.62</td>\n",
       "      <td>1.55</td>\n",
       "      <td>1.590</td>\n",
       "      <td>1.450411</td>\n",
       "      <td>26400</td>\n",
       "      <td>FSI</td>\n",
       "    </tr>\n",
       "    <tr>\n",
       "      <th>2017-05-12</th>\n",
       "      <td>1.61</td>\n",
       "      <td>1.67</td>\n",
       "      <td>1.56</td>\n",
       "      <td>1.670</td>\n",
       "      <td>1.523388</td>\n",
       "      <td>75300</td>\n",
       "      <td>FSI</td>\n",
       "    </tr>\n",
       "    <tr>\n",
       "      <th>2017-05-15</th>\n",
       "      <td>1.67</td>\n",
       "      <td>1.77</td>\n",
       "      <td>1.67</td>\n",
       "      <td>1.730</td>\n",
       "      <td>1.578120</td>\n",
       "      <td>66300</td>\n",
       "      <td>FSI</td>\n",
       "    </tr>\n",
       "    <tr>\n",
       "      <th>2017-05-16</th>\n",
       "      <td>1.77</td>\n",
       "      <td>1.77</td>\n",
       "      <td>1.75</td>\n",
       "      <td>1.750</td>\n",
       "      <td>1.596364</td>\n",
       "      <td>35600</td>\n",
       "      <td>FSI</td>\n",
       "    </tr>\n",
       "  </tbody>\n",
       "</table>\n",
       "</div>"
      ],
      "text/plain": [
       "            Open  High   Low  Close  Adj Close  Volume Ticker\n",
       "Date                                                         \n",
       "2017-05-10  1.54  1.64  1.54  1.567   1.429430   40700    FSI\n",
       "2017-05-11  1.59  1.62  1.55  1.590   1.450411   26400    FSI\n",
       "2017-05-12  1.61  1.67  1.56  1.670   1.523388   75300    FSI\n",
       "2017-05-15  1.67  1.77  1.67  1.730   1.578120   66300    FSI\n",
       "2017-05-16  1.77  1.77  1.75  1.750   1.596364   35600    FSI"
      ]
     },
     "execution_count": 116,
     "metadata": {},
     "output_type": "execute_result"
    }
   ],
   "source": [
    "data = pd.DataFrame()\n",
    "for tick in tickers:        \n",
    "    temp = yf.download(\n",
    "        tick, \n",
    "        start=start_date, \n",
    "        end=end_date, \n",
    "        progress=False\n",
    "    )\n",
    "    temp['Ticker'] = tick\n",
    "    data = pd.concat([data, temp])\n",
    "\n",
    "data.head()"
   ]
  },
  {
   "cell_type": "code",
   "execution_count": 117,
   "metadata": {},
   "outputs": [],
   "source": [
    "data.to_csv('data/Current Portfolio Historic Data.csv')"
   ]
  }
 ],
 "metadata": {
  "interpreter": {
   "hash": "468f25ad0239460415b7e6b7483d5c8f7213894121f6fb96c4cb6ef93fffe534"
  },
  "kernelspec": {
   "display_name": "Python 3.9.7 64-bit",
   "language": "python",
   "name": "python3"
  },
  "language_info": {
   "codemirror_mode": {
    "name": "ipython",
    "version": 3
   },
   "file_extension": ".py",
   "mimetype": "text/x-python",
   "name": "python",
   "nbconvert_exporter": "python",
   "pygments_lexer": "ipython3",
   "version": "3.9.7"
  },
  "orig_nbformat": 4
 },
 "nbformat": 4,
 "nbformat_minor": 2
}
