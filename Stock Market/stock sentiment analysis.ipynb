{
 "cells": [
  {
   "cell_type": "code",
   "execution_count": null,
   "metadata": {},
   "outputs": [],
   "source": [
    "import os\n",
    "import matplotlib.pyplot as plt\n",
    "from bs4 import BeautifulSoup\n",
    "import pandas as pd\n",
    "from urllib.request import urlopen, Request\n",
    "from nltk.sentiment.vader import SentimentIntensityAnalyzer\n"
   ]
  },
  {
   "cell_type": "code",
   "execution_count": null,
   "metadata": {},
   "outputs": [],
   "source": [
    "web_url = 'https://finviz.com/quote.ashx?t='\n",
    "\n",
    "news_tables = {}\n",
    "news_list = []\n",
    "tickers = ['SLDP', 'USDP', 'ACHR', 'WRAP', 'FSI', 'GEVO', 'LIQT']\n",
    "\n",
    "for tick in tickers:\n",
    "    url = web_url + tick\n",
    "    req = Request(url=url,headers={\"User-Agent\": \"Chrome\"}) \n",
    "    response = urlopen(req)    \n",
    "    html = BeautifulSoup(response,\"html.parser\")\n",
    "    news_table = html.find(id='news-table')\n",
    "    news_tables[tick] = news_table\n",
    "\n",
    "for file_name, news_table in news_tables.items():\n",
    "    for i in news_table.findAll('tr'):\n",
    "        \n",
    "        text = i.a.get_text()         \n",
    "        date_scrape = i.td.text.split()\n",
    "\n",
    "        if len(date_scrape) == 1:\n",
    "            time = date_scrape[0]\n",
    "            \n",
    "        else:\n",
    "            date = date_scrape[0]\n",
    "            time = date_scrape[1]\n",
    "\n",
    "        tick = file_name.split('_')[0]        \n",
    "        news_list.append([tick, date, time, text])\n",
    "\n",
    "\n",
    "vader = SentimentIntensityAnalyzer()\n",
    "columns = ['ticker', 'date', 'time', 'headline']\n",
    "news_df = pd.DataFrame(news_list, columns=columns)\n",
    "scores = news_df['headline'].apply(vader.polarity_scores).tolist()\n",
    "scores_df = pd.DataFrame(scores)\n",
    "news_df = news_df.join(scores_df, rsuffix='_right')\n",
    "news_df['date'] = pd.to_datetime(news_df.date).dt.date\n",
    "news_df.to_csv('data/stock_sentiment.csv', index=False)"
   ]
  }
 ],
 "metadata": {
  "interpreter": {
   "hash": "468f25ad0239460415b7e6b7483d5c8f7213894121f6fb96c4cb6ef93fffe534"
  },
  "kernelspec": {
   "display_name": "Python 3.9.7 64-bit",
   "language": "python",
   "name": "python3"
  },
  "language_info": {
   "codemirror_mode": {
    "name": "ipython",
    "version": 3
   },
   "file_extension": ".py",
   "mimetype": "text/x-python",
   "name": "python",
   "nbconvert_exporter": "python",
   "pygments_lexer": "ipython3",
   "version": "3.9.7"
  },
  "orig_nbformat": 4
 },
 "nbformat": 4,
 "nbformat_minor": 2
}
