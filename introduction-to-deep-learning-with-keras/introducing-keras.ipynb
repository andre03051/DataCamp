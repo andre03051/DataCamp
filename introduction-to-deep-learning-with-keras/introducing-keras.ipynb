{
 "cells": [
  {
   "cell_type": "code",
   "execution_count": 1,
   "metadata": {},
   "outputs": [
    {
     "name": "stdout",
     "output_type": "stream",
     "text": [
      "Model: \"sequential\"\n",
      "_________________________________________________________________\n",
      " Layer (type)                Output Shape              Param #   \n",
      "=================================================================\n",
      " dense (Dense)               (None, 10)                30        \n",
      "                                                                 \n",
      " dense_1 (Dense)             (None, 1)                 11        \n",
      "                                                                 \n",
      "=================================================================\n",
      "Total params: 41\n",
      "Trainable params: 41\n",
      "Non-trainable params: 0\n",
      "_________________________________________________________________\n"
     ]
    }
   ],
   "source": [
    "# Import the Sequential model and Dense layer\n",
    "from keras.models import Sequential\n",
    "from keras.layers import Dense\n",
    "\n",
    "# Create a Sequential model\n",
    "model = Sequential()\n",
    "\n",
    "# Add an input layer and a hidden layer with 10 neurons\n",
    "model.add(Dense(10, input_shape=(2,), activation=\"relu\"))\n",
    "\n",
    "# Add a 1-neuron output layer\n",
    "model.add(Dense(1))\n",
    "\n",
    "# Summarise your model\n",
    "model.summary()"
   ]
  },
  {
   "cell_type": "code",
   "execution_count": 18,
   "metadata": {},
   "outputs": [],
   "source": [
    "import numpy as np \n",
    "\n",
    "time_steps = np.linspace(-10, 10, 10000)\n",
    "y_positions = time_steps**2"
   ]
  },
  {
   "cell_type": "code",
   "execution_count": 19,
   "metadata": {},
   "outputs": [
    {
     "name": "stdout",
     "output_type": "stream",
     "text": [
      "Training started..., this can take a while:\n",
      "Epoch 1/30\n",
      "313/313 [==============================] - 2s 3ms/step - loss: 395.2488\n",
      "Epoch 2/30\n",
      "313/313 [==============================] - 1s 2ms/step - loss: 25.3977\n",
      "Epoch 3/30\n",
      "313/313 [==============================] - 1s 2ms/step - loss: 1.9841\n",
      "Epoch 4/30\n",
      "313/313 [==============================] - 1s 2ms/step - loss: 0.5246\n",
      "Epoch 5/30\n",
      "313/313 [==============================] - 1s 2ms/step - loss: 0.1941\n",
      "Epoch 6/30\n",
      "313/313 [==============================] - 1s 2ms/step - loss: 0.1249\n",
      "Epoch 7/30\n",
      "313/313 [==============================] - 1s 2ms/step - loss: 0.0837\n",
      "Epoch 8/30\n",
      "313/313 [==============================] - 1s 2ms/step - loss: 0.0493\n",
      "Epoch 9/30\n",
      "313/313 [==============================] - 1s 2ms/step - loss: 0.0617\n",
      "Epoch 10/30\n",
      "313/313 [==============================] - 1s 2ms/step - loss: 0.0565\n",
      "Epoch 11/30\n",
      "313/313 [==============================] - 1s 2ms/step - loss: 0.0502\n",
      "Epoch 12/30\n",
      "313/313 [==============================] - 1s 2ms/step - loss: 0.0516\n",
      "Epoch 13/30\n",
      "313/313 [==============================] - 1s 2ms/step - loss: 0.0433\n",
      "Epoch 14/30\n",
      "313/313 [==============================] - 1s 2ms/step - loss: 0.1025\n",
      "Epoch 15/30\n",
      "313/313 [==============================] - 1s 2ms/step - loss: 0.0935\n",
      "Epoch 16/30\n",
      "313/313 [==============================] - 1s 2ms/step - loss: 0.0309\n",
      "Epoch 17/30\n",
      "313/313 [==============================] - 1s 2ms/step - loss: 0.0538\n",
      "Epoch 18/30\n",
      "313/313 [==============================] - 1s 2ms/step - loss: 0.0364\n",
      "Epoch 19/30\n",
      "313/313 [==============================] - 1s 2ms/step - loss: 0.0614\n",
      "Epoch 20/30\n",
      "313/313 [==============================] - 1s 2ms/step - loss: 0.0590\n",
      "Epoch 21/30\n",
      "313/313 [==============================] - 1s 2ms/step - loss: 0.0969\n",
      "Epoch 22/30\n",
      "313/313 [==============================] - 1s 2ms/step - loss: 0.0313\n",
      "Epoch 23/30\n",
      "313/313 [==============================] - 1s 2ms/step - loss: 0.0773\n",
      "Epoch 24/30\n",
      "313/313 [==============================] - 1s 2ms/step - loss: 0.0344\n",
      "Epoch 25/30\n",
      "313/313 [==============================] - 1s 2ms/step - loss: 0.2027\n",
      "Epoch 26/30\n",
      "313/313 [==============================] - 1s 2ms/step - loss: 0.0800\n",
      "Epoch 27/30\n",
      "313/313 [==============================] - 1s 2ms/step - loss: 0.0213\n",
      "Epoch 28/30\n",
      "313/313 [==============================] - 1s 2ms/step - loss: 0.0630\n",
      "Epoch 29/30\n",
      "313/313 [==============================] - 1s 2ms/step - loss: 0.0270\n",
      "Epoch 30/30\n",
      "313/313 [==============================] - 1s 2ms/step - loss: 0.0558\n",
      "WARNING:tensorflow:5 out of the last 5 calls to <function Model.make_test_function.<locals>.test_function at 0x000001A7DF2BD4C0> triggered tf.function retracing. Tracing is expensive and the excessive number of tracings could be due to (1) creating @tf.function repeatedly in a loop, (2) passing tensors with different shapes, (3) passing Python objects instead of tensors. For (1), please define your @tf.function outside of the loop. For (2), @tf.function has experimental_relax_shapes=True option that relaxes argument shapes that can avoid unnecessary retracing. For (3), please refer to https://www.tensorflow.org/guide/function#controlling_retracing and https://www.tensorflow.org/api_docs/python/tf/function for  more details.\n",
      "313/313 [==============================] - 1s 1ms/step - loss: 0.0105\n",
      "Final loss value: 0.01045333594083786\n"
     ]
    }
   ],
   "source": [
    "\n",
    "# Instantiate a Sequential model\n",
    "model = Sequential()\n",
    "\n",
    "# Add a Dense layer with 50 neurons and an input of 1 neuron\n",
    "model.add(Dense(50, input_shape=(1,), activation='relu'))\n",
    "\n",
    "# Add two Dense layers with 50 neurons and relu activation\n",
    "model.add(Dense(50,activation='relu'))\n",
    "model.add(Dense(50,activation='relu'))\n",
    "\n",
    "# End your model with a Dense layer and no activation\n",
    "model.add(Dense(1))\n",
    "\n",
    "# Compile your model\n",
    "model.compile(optimizer = 'adam', loss = 'mse')\n",
    "\n",
    "print(\"Training started..., this can take a while:\")\n",
    "\n",
    "# Fit your model on your data for 30 epochs\n",
    "model.fit(time_steps,y_positions, epochs = 30)\n",
    "\n",
    "# Evaluate your model \n",
    "print(\"Final loss value:\",model.evaluate(time_steps,y_positions))\n",
    "\n"
   ]
  },
  {
   "cell_type": "code",
   "execution_count": 21,
   "metadata": {},
   "outputs": [
    {
     "data": {
      "image/png": "[encoded data removed]",
      "text/plain": [
       "<Figure size 432x288 with 1 Axes>"
      ]
     },
     "metadata": {
      "needs_background": "light"
     },
     "output_type": "display_data"
    }
   ],
   "source": [
    "import matplotlib.pyplot as plt\n",
    "\n",
    "def plot_orbit(model_preds):\n",
    "  axeslim = int(len(model_preds)/2)\n",
    "  plt.plot(np.arange(-axeslim, axeslim + 1),np.arange(-axeslim, axeslim + 1)**2,color=\"mediumslateblue\")\n",
    "  plt.plot(np.arange(-axeslim, axeslim + 1),model_preds,color=\"orange\")\n",
    "  plt.axis([-40, 41, -5, 550])\n",
    "  plt.legend([\"Scientist's Orbit\", 'Your orbit'],loc=\"lower left\")\n",
    "  plt.title(\"Predicted orbit vs Scientist's Orbit\")\n",
    "  plt.show()\n",
    "\n",
    "# Predict the eighty minute orbit\n",
    "eighty_min_orbit = model.predict(np.arange(-40, 41))\n",
    "\n",
    "# Plot the eighty minute orbit \n",
    "plot_orbit(eighty_min_orbit)"
   ]
  }
 ],
 "metadata": {
  "interpreter": {
   "hash": "468f25ad0239460415b7e6b7483d5c8f7213894121f6fb96c4cb6ef93fffe534"
  },
  "kernelspec": {
   "display_name": "Python 3.9.7 64-bit",
   "language": "python",
   "name": "python3"
  },
  "language_info": {
   "codemirror_mode": {
    "name": "ipython",
    "version": 3
   },
   "file_extension": ".py",
   "mimetype": "text/x-python",
   "name": "python",
   "nbconvert_exporter": "python",
   "pygments_lexer": "ipython3",
   "version": "3.9.7"
  },
  "orig_nbformat": 4
 },
 "nbformat": 4,
 "nbformat_minor": 2
}
