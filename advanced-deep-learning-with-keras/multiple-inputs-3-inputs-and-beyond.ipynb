{
 "cells": [
  {
   "cell_type": "code",
   "execution_count": 5,
   "metadata": {},
   "outputs": [],
   "source": [
    "# Imports\n",
    "from numpy import unique\n",
    "import pandas as pd\n",
    "from keras.layers import Input, Concatenate, Dense, Embedding, Flatten\n",
    "from keras.models import Model"
   ]
  },
  {
   "cell_type": "code",
   "execution_count": 6,
   "metadata": {},
   "outputs": [],
   "source": [
    "games_season = pd.read_csv('data/basketball_data/games_season.csv')\n",
    "games_tourney = pd.read_csv('data/basketball_data/games_tourney.csv')"
   ]
  },
  {
   "cell_type": "code",
   "execution_count": 7,
   "metadata": {},
   "outputs": [],
   "source": [
    "# Count the unique number of teams\n",
    "n_teams = unique(games_season['team_1']).shape[0]\n",
    "\n",
    "# Create an embedding layer\n",
    "team_lookup = Embedding(input_dim=n_teams,\n",
    "                        output_dim=1,\n",
    "                        input_length=1,\n",
    "                        name='Team-Strength')"
   ]
  },
  {
   "cell_type": "code",
   "execution_count": 8,
   "metadata": {},
   "outputs": [],
   "source": [
    "# Create an input layer for the team ID\n",
    "teamid_in = Input(shape=(1,))\n",
    "\n",
    "# Lookup the input in the team strength embedding layer\n",
    "strength_lookup = team_lookup(teamid_in)\n",
    "\n",
    "# Flatten the output\n",
    "strength_lookup_flat = Flatten()(strength_lookup)\n",
    "\n",
    "# Combine the operations into a single, re-usable model\n",
    "team_strength_model = Model(teamid_in, strength_lookup_flat, name='Team-Strength-Model')"
   ]
  },
  {
   "cell_type": "code",
   "execution_count": 9,
   "metadata": {},
   "outputs": [],
   "source": [
    "\n",
    "# Create an Input for each team\n",
    "team_in_1 = Input(shape=(1,), name='Team-1-In')\n",
    "team_in_2 = Input(shape=(1,), name='Team-2-In')\n",
    "\n",
    "# Create an input for home vs away\n",
    "home_in = Input(shape=(1,), name='Home-In')\n",
    "\n",
    "# Lookup the team inputs in the team strength model\n",
    "team_1_strength = team_strength_model(team_in_1)\n",
    "team_2_strength = team_strength_model(team_in_2)\n",
    "\n",
    "# Combine the team strengths with the home input using a Concatenate layer, then add a Dense layer\n",
    "out = Concatenate()([team_1_strength, team_2_strength, home_in])\n",
    "out = Dense(1)(out)"
   ]
  },
  {
   "cell_type": "code",
   "execution_count": 10,
   "metadata": {},
   "outputs": [],
   "source": [
    "# Make a Model\n",
    "model = Model([team_in_1, team_in_2, home_in], out)\n",
    "\n",
    "# Compile the model\n",
    "model.compile(optimizer='adam', loss='mean_absolute_error')"
   ]
  },
  {
   "cell_type": "code",
   "execution_count": 11,
   "metadata": {},
   "outputs": [
    {
     "name": "stdout",
     "output_type": "stream",
     "text": [
      "138/138 [==============================] - 2s 10ms/step - loss: 11.9700 - val_loss: 12.4265\n",
      "11.684514045715332\n"
     ]
    }
   ],
   "source": [
    "# Fit the model to the games_season dataset\n",
    "model.fit([games_season['team_1'], games_season['team_2'], games_season['home']],\n",
    "          games_season['score_diff'],\n",
    "          epochs=1,\n",
    "          verbose=True,\n",
    "          validation_split=.1,\n",
    "          batch_size=2048)\n",
    "\n",
    "# Evaluate the model on the games_tourney dataset\n",
    "print(model.evaluate(\n",
    "    [games_tourney['team_1'], games_tourney['team_2'], games_tourney['home']], \n",
    "    games_tourney['score_diff'], \n",
    "    verbose=False\n",
    "))"
   ]
  },
  {
   "cell_type": "code",
   "execution_count": 12,
   "metadata": {},
   "outputs": [],
   "source": [
    "# Predict\n",
    "games_tourney['pred'] = model.predict(\n",
    "    [\n",
    "        games_tourney['team_1'],\n",
    "        games_tourney['team_2'],\n",
    "        games_tourney['home']\n",
    "    ]\n",
    ")"
   ]
  },
  {
   "cell_type": "code",
   "execution_count": 13,
   "metadata": {},
   "outputs": [],
   "source": [
    "# Create an input layer with 3 columns\n",
    "input_tensor = Input((3,))\n",
    "\n",
    "# Pass it to a Dense layer with 1 unit\n",
    "output_tensor = Dense(1)(input_tensor)\n",
    "\n",
    "# Create a model\n",
    "model = Model(input_tensor, output_tensor)\n",
    "\n",
    "# Compile the model\n",
    "model.compile(optimizer='adam', loss='mean_absolute_error')"
   ]
  },
  {
   "cell_type": "code",
   "execution_count": 14,
   "metadata": {},
   "outputs": [],
   "source": [
    "games_tourney_train = games_tourney.loc[games_tourney['season'] < 2017]\n",
    "games_tourney_test = games_tourney.loc[games_tourney['season'] == 2017]"
   ]
  },
  {
   "cell_type": "code",
   "execution_count": 15,
   "metadata": {},
   "outputs": [
    {
     "name": "stdout",
     "output_type": "stream",
     "text": [
      "129/129 [==============================] - 1s 3ms/step - loss: 12.2966\n"
     ]
    },
    {
     "data": {
      "text/plain": [
       "<keras.callbacks.History at 0x1f6824e6ac0>"
      ]
     },
     "execution_count": 15,
     "metadata": {},
     "output_type": "execute_result"
    }
   ],
   "source": [
    "# Fit the model\n",
    "model.fit(games_tourney_train[['home', 'seed_diff', 'pred']],\n",
    "          games_tourney_train['score_diff'],\n",
    "          epochs=1,\n",
    "          verbose=True)"
   ]
  },
  {
   "cell_type": "code",
   "execution_count": 17,
   "metadata": {},
   "outputs": [
    {
     "name": "stdout",
     "output_type": "stream",
     "text": [
      "11.233369827270508\n"
     ]
    }
   ],
   "source": [
    "# Evaluate the model on the games_tourney_test dataset\n",
    "print(model.evaluate(games_tourney_test[['home', 'seed_diff','pred']],\n",
    "               games_tourney_test['score_diff'], verbose=False))"
   ]
  }
 ],
 "metadata": {
  "interpreter": {
   "hash": "468f25ad0239460415b7e6b7483d5c8f7213894121f6fb96c4cb6ef93fffe534"
  },
  "kernelspec": {
   "display_name": "Python 3.9.7 64-bit",
   "language": "python",
   "name": "python3"
  },
  "language_info": {
   "codemirror_mode": {
    "name": "ipython",
    "version": 3
   },
   "file_extension": ".py",
   "mimetype": "text/x-python",
   "name": "python",
   "nbconvert_exporter": "python",
   "pygments_lexer": "ipython3",
   "version": "3.9.7"
  },
  "orig_nbformat": 4
 },
 "nbformat": 4,
 "nbformat_minor": 2
}
