{
 "cells": [
  {
   "cell_type": "code",
   "execution_count": 1,
   "metadata": {},
   "outputs": [
    {
     "name": "stdout",
     "output_type": "stream",
     "text": [
      "(169, 269, 3)\n"
     ]
    }
   ],
   "source": [
    "# Import image class of matplotlib\n",
    "import matplotlib.image as img\n",
    "\n",
    "# Read batman image and print dimensions\n",
    "batman_image = img.imread('data/batman.jpg')\n",
    "print(batman_image.shape)\n",
    "\n",
    "# Create empty lists of colors to fill\n",
    "r=[]\n",
    "g=[]\n",
    "b=[]\n",
    "\n",
    "# Store RGB values of all pixels in lists r, g and b\n",
    "for pixel in batman_image:\n",
    "    for temp_r, temp_g, temp_b in pixel:\n",
    "        r.append(temp_r)\n",
    "        g.append(temp_g)\n",
    "        b.append(temp_b)"
   ]
  },
  {
   "cell_type": "code",
   "execution_count": 4,
   "metadata": {},
   "outputs": [
    {
     "data": {
      "text/html": [
       "<div>\n",
       "<style scoped>\n",
       "    .dataframe tbody tr th:only-of-type {\n",
       "        vertical-align: middle;\n",
       "    }\n",
       "\n",
       "    .dataframe tbody tr th {\n",
       "        vertical-align: top;\n",
       "    }\n",
       "\n",
       "    .dataframe thead th {\n",
       "        text-align: right;\n",
       "    }\n",
       "</style>\n",
       "<table border=\"1\" class=\"dataframe\">\n",
       "  <thead>\n",
       "    <tr style=\"text-align: right;\">\n",
       "      <th></th>\n",
       "      <th>r</th>\n",
       "      <th>b</th>\n",
       "      <th>g</th>\n",
       "    </tr>\n",
       "  </thead>\n",
       "  <tbody>\n",
       "    <tr>\n",
       "      <th>0</th>\n",
       "      <td>37</td>\n",
       "      <td>25</td>\n",
       "      <td>27</td>\n",
       "    </tr>\n",
       "    <tr>\n",
       "      <th>1</th>\n",
       "      <td>36</td>\n",
       "      <td>19</td>\n",
       "      <td>22</td>\n",
       "    </tr>\n",
       "    <tr>\n",
       "      <th>2</th>\n",
       "      <td>48</td>\n",
       "      <td>23</td>\n",
       "      <td>22</td>\n",
       "    </tr>\n",
       "    <tr>\n",
       "      <th>3</th>\n",
       "      <td>54</td>\n",
       "      <td>30</td>\n",
       "      <td>30</td>\n",
       "    </tr>\n",
       "    <tr>\n",
       "      <th>4</th>\n",
       "      <td>32</td>\n",
       "      <td>22</td>\n",
       "      <td>17</td>\n",
       "    </tr>\n",
       "  </tbody>\n",
       "</table>\n",
       "</div>"
      ],
      "text/plain": [
       "    r   b   g\n",
       "0  37  25  27\n",
       "1  36  19  22\n",
       "2  48  23  22\n",
       "3  54  30  30\n",
       "4  32  22  17"
      ]
     },
     "execution_count": 4,
     "metadata": {},
     "output_type": "execute_result"
    }
   ],
   "source": [
    "# Import libraries\n",
    "import pandas as pd\n",
    "\n",
    "# Create dataframe of pixel colors\n",
    "pixels = pd.DataFrame({\n",
    "    'r':r,\n",
    "    'b':b,\n",
    "    'g':g\n",
    "})\n",
    "pixels.head()"
   ]
  },
  {
   "cell_type": "code",
   "execution_count": 9,
   "metadata": {},
   "outputs": [
    {
     "data": {
      "image/png": "[encoded data removed]",
      "text/plain": [
       "<Figure size 792x432 with 1 Axes>"
      ]
     },
     "metadata": {
      "needs_background": "light"
     },
     "output_type": "display_data"
    }
   ],
   "source": [
    "# Import libraries\n",
    "from scipy.cluster.vq import whiten\n",
    "from scipy.cluster.vq import kmeans\n",
    "import seaborn as sns\n",
    "import matplotlib.pyplot as plt\n",
    "\n",
    "# Sclae red, blue, green pixels\n",
    "pixels['scaled_r'] = whiten(pixels['r'])\n",
    "pixels['scaled_b'] = whiten(pixels['b'])\n",
    "pixels['scaled_g'] = whiten(pixels['g'])\n",
    "\n",
    "# Create empty distortiosn list to fill\n",
    "distortions = []\n",
    "\n",
    "# Guessing the clusters to plot over for the elbow plot\n",
    "num_clusters = range(1, 11)\n",
    "\n",
    "# Create a list of distortions from the kmeans method\n",
    "for i in num_clusters:\n",
    "    cluster_centers, distortion = kmeans(pixels[['scaled_r','scaled_b','scaled_g']], i)\n",
    "    distortions.append(distortion)\n",
    "\n",
    "# Creat a dataframe with two lists - number of clusters and distortions\n",
    "elbow_plot = pd.DataFrame({\n",
    "    'num_clusters':num_clusters,\n",
    "    'distortions':distortions\n",
    "})\n",
    "\n",
    "# Create a figure \n",
    "plt.figure(figsize = (11,6))\n",
    "\n",
    "# Create a line plot of num_clusters and distortions\n",
    "sns.lineplot(\n",
    "    x = 'num_clusters',\n",
    "    y = 'distortions',\n",
    "    data = elbow_plot\n",
    ")\n",
    "plt.xticks(num_clusters)\n",
    "plt.show()"
   ]
  },
  {
   "cell_type": "code",
   "execution_count": 17,
   "metadata": {},
   "outputs": [
    {
     "name": "stderr",
     "output_type": "stream",
     "text": [
      "Clipping input data to the valid range for imshow with RGB data ([0..1] for floats or [0..255] for integers).\n"
     ]
    },
    {
     "data": {
      "text/plain": [
       "<matplotlib.image.AxesImage at 0x1747b85bfd0>"
      ]
     },
     "execution_count": 17,
     "metadata": {},
     "output_type": "execute_result"
    },
    {
     "data": {
      "image/png": "[encoded data removed]",
      "text/plain": [
       "<Figure size 792x432 with 1 Axes>"
      ]
     },
     "metadata": {
      "needs_background": "light"
     },
     "output_type": "display_data"
    }
   ],
   "source": [
    "# Get the cluster centers using the optimal number of clusters\n",
    "cluster_centers, distortion = kmeans(pixels[['scaled_r','scaled_b','scaled_g']], 3)\n",
    "\n",
    "# Get standard deviations of each color\n",
    "r_std, b_std, g_std = pixels[['r', 'b', 'g']].std()\n",
    "\n",
    "# Create an empty list to fill in through for loop\n",
    "colors = []\n",
    "\n",
    "for cluster_center in cluster_centers:\n",
    "    scaled_r, scaled_g, scaled_b = cluster_center\n",
    "    # Convert each standardized value to scaled value\n",
    "    colors.append((\n",
    "        scaled_r * r_std / 255,\n",
    "        scaled_g * g_std / 255,\n",
    "        scaled_b * b_std / 255\n",
    "    ))\n",
    "\n",
    "# Create a figure \n",
    "plt.figure(figsize = (11,6))\n",
    "\n",
    "# Show the color centers\n",
    "plt.imshow([colors])"
   ]
  }
 ],
 "metadata": {
  "interpreter": {
   "hash": "468f25ad0239460415b7e6b7483d5c8f7213894121f6fb96c4cb6ef93fffe534"
  },
  "kernelspec": {
   "display_name": "Python 3.9.7 64-bit",
   "language": "python",
   "name": "python3"
  },
  "language_info": {
   "codemirror_mode": {
    "name": "ipython",
    "version": 3
   },
   "file_extension": ".py",
   "mimetype": "text/x-python",
   "name": "python",
   "nbconvert_exporter": "python",
   "pygments_lexer": "ipython3",
   "version": "3.9.7"
  },
  "orig_nbformat": 4
 },
 "nbformat": 4,
 "nbformat_minor": 2
}
