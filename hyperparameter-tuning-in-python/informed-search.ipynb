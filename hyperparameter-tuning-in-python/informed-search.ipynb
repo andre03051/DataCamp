{
 "cells": [
  {
   "cell_type": "code",
   "execution_count": 11,
   "metadata": {},
   "outputs": [
    {
     "name": "stderr",
     "output_type": "stream",
     "text": [
      "C:\\Users\\andre\\AppData\\Local\\Programs\\Python\\Python39\\lib\\site-packages\\tpot\\builtins\\__init__.py:36: UserWarning: Warning: optional dependency `torch` is not available. - skipping import of NN models.\n",
      "  warnings.warn(\"Warning: optional dependency `torch` is not available. - skipping import of NN models.\")\n"
     ]
    }
   ],
   "source": [
    "import pandas as pd\n",
    "import numpy as np\n",
    "from itertools import product\n",
    "import random\n",
    "import matplotlib.pyplot as plt\n",
    "\n",
    "from sklearn.model_selection import train_test_split, cross_val_score\n",
    "from sklearn.ensemble import GradientBoostingClassifier\n",
    "\n",
    "import hyperopt.hp as hp\n",
    "import hyperopt.fmin as fmin\n",
    "import hyperopt.tpe as tpe\n",
    "\n",
    "from tpot import TPOTClassifier\n"
   ]
  },
  {
   "cell_type": "code",
   "execution_count": 3,
   "metadata": {},
   "outputs": [],
   "source": [
    "data = pd.read_csv('data/credit-card-full.csv', index_col='ID')\n",
    "X = data.drop(axis=1, columns='default payment next month')\n",
    "y = data['default payment next month']\n",
    "X_train, X_test, y_train, y_test = train_test_split(X, y, train_size=.75)"
   ]
  },
  {
   "cell_type": "code",
   "execution_count": 10,
   "metadata": {},
   "outputs": [
    {
     "name": "stdout",
     "output_type": "stream",
     "text": [
      "100%|██████████| 40/40 [06:09<00:00,  9.23s/trial, best loss: 0.17666666666666664]\n",
      "{'learning_rate': 0.038093061276450534, 'max_depth': 2.0}\n"
     ]
    }
   ],
   "source": [
    "# Set up space dictionary with specified hyperparameters\n",
    "space = {\n",
    "    'max_depth': hp.quniform('max_depth', 2, 10, 2),\n",
    "    'learning_rate': hp.uniform('learning_rate', 0.001 ,0.9)\n",
    "}\n",
    "\n",
    "# Set up objective function\n",
    "def objective(params):\n",
    "    params = {\n",
    "        'max_depth': int(params['max_depth']),\n",
    "        'learning_rate': params['learning_rate']\n",
    "    }\n",
    "    gbm_clf = GradientBoostingClassifier(n_estimators=100, **params) \n",
    "    best_score = cross_val_score(\n",
    "        gbm_clf, \n",
    "        X_train, \n",
    "        y_train, \n",
    "        scoring='accuracy', \n",
    "        cv=2, \n",
    "        n_jobs=4\n",
    "    ).mean()\n",
    "    loss = 1 - best_score\n",
    "    return loss\n",
    "\n",
    "# Run the algorithm\n",
    "best = fmin(\n",
    "    fn=objective,\n",
    "    space=space, \n",
    "    max_evals=40, \n",
    "    rstate=np.random.default_rng(42), \n",
    "    algo=tpe.suggest,\n",
    "    loss_threshold = .05\n",
    ")\n",
    "print(best)"
   ]
  },
  {
   "cell_type": "code",
   "execution_count": 13,
   "metadata": {},
   "outputs": [
    {
     "name": "stdout",
     "output_type": "stream",
     "text": [
      "                                                                           \n",
      "Generation 1 - Current best internal CV score: 0.8231555555555556\n",
      "                                                                            \n",
      "Generation 2 - Current best internal CV score: 0.8231555555555556\n",
      "                                                                            \n",
      "Generation 3 - Current best internal CV score: 0.8231999999999999\n",
      "                                                                            \n",
      "Best pipeline: RandomForestClassifier(input_matrix, bootstrap=True, criterion=gini, max_features=0.6000000000000001, min_samples_leaf=13, min_samples_split=6, n_estimators=100)\n",
      "0.8137333333333333\n"
     ]
    }
   ],
   "source": [
    "# Create the tpot classifier\n",
    "tpot_clf = TPOTClassifier(\n",
    "    generations=3, \n",
    "    population_size=4,\n",
    "    offspring_size=3, \n",
    "    scoring='accuracy',\n",
    "    verbosity=2, \n",
    "    random_state=92, \n",
    "    cv=2\n",
    ")\n",
    "\n",
    "# Fit the classifier to the training data\n",
    "tpot_clf.fit(X_train, y_train)\n",
    "\n",
    "# Score on the test set\n",
    "print(tpot_clf.score(X_test, y_test))"
   ]
  }
 ],
 "metadata": {
  "interpreter": {
   "hash": "468f25ad0239460415b7e6b7483d5c8f7213894121f6fb96c4cb6ef93fffe534"
  },
  "kernelspec": {
   "display_name": "Python 3.9.7 64-bit",
   "language": "python",
   "name": "python3"
  },
  "language_info": {
   "codemirror_mode": {
    "name": "ipython",
    "version": 3
   },
   "file_extension": ".py",
   "mimetype": "text/x-python",
   "name": "python",
   "nbconvert_exporter": "python",
   "pygments_lexer": "ipython3",
   "version": "3.9.7"
  },
  "orig_nbformat": 4
 },
 "nbformat": 4,
 "nbformat_minor": 2
}
