{
 "cells": [
  {
   "cell_type": "code",
   "execution_count": null,
   "metadata": {},
   "outputs": [],
   "source": [
    "import matplotlib.pyplot as plt\n",
    "import numpy as np\n",
    "from matplotlib import image"
   ]
  },
  {
   "cell_type": "code",
   "execution_count": null,
   "metadata": {},
   "outputs": [],
   "source": [
    "def show_image(image, title='Image', cmap_type='gray'):\n",
    "    plt.subplots(figsize=(16, 12), sharex=True, sharey=True)\n",
    "    plt.imshow(image, cmap = cmap_type)\n",
    "    plt.title(title)\n",
    "    plt.axis('off')\n",
    "    plt.show\n",
    "\n",
    "def plot_comparison(original, filtered, title_filtered):\n",
    "    fig, (ax1, ax2) = plt.subplots(ncols=2, figsize=(16, 12), sharex=True, sharey=True)\n",
    "\n",
    "    ax1.imshow(original, cmap=plt.cm.gray)\n",
    "    ax1.set_title('original')\n",
    "    ax1.axis('off')\n",
    "\n",
    "    ax2.imshow(filtered, cmap=plt.cm.gray)\n",
    "    ax2.set_title(title_filtered)\n",
    "    ax2.axis('off')\n",
    "    \n",
    "def show_image_contour(image, contours):\n",
    "    plt.figure()\n",
    "    for n, contour in enumerate(contours):\n",
    "        plt.plot(contour[:, 1], contour[:, 0], linewidth=5, color='green')\n",
    "        plt.imshow(image, interpolation='nearest', cmap='gray')\n",
    "        plt.title('Contours')\n",
    "        plt.axis('off')\n",
    "        plt.show()\n"
   ]
  },
  {
   "cell_type": "code",
   "execution_count": null,
   "metadata": {},
   "outputs": [],
   "source": [
    "# Import the module from restoration\n",
    "from skimage.restoration import inpaint\n",
    "\n",
    "image_with_logo = image.imread(r'data\\chapter 3\\4.2.06_w_logo_2_2.png')\n",
    "\n",
    "# Initialize the mask\n",
    "mask = np.zeros(image_with_logo.shape[:-1])\n",
    "\n",
    "# Set the pixels where the logo is to 1\n",
    "mask[210:290, 360:425] = 1\n",
    "\n",
    "# Apply inpainting to remove the logo\n",
    "image_logo_removed = inpaint.inpaint_biharmonic(image_with_logo,\n",
    "                                  mask,\n",
    "                                  multichannel=True)\n",
    "\n",
    "# Show the original and logo removed images\n",
    "plot_comparison(image_with_logo, image_logo_removed, 'Resulting image')"
   ]
  },
  {
   "cell_type": "code",
   "execution_count": null,
   "metadata": {},
   "outputs": [],
   "source": [
    "# Import the module and function\n",
    "from skimage.util import random_noise\n",
    "\n",
    "fruit_image = image.imread('data/chapter 3/fruits_square.jpg')\n",
    "\n",
    "# Add noise to the image\n",
    "noisy_image = random_noise(fruit_image)\n",
    "\n",
    "# Show original and resulting image\n",
    "plot_comparison(fruit_image, noisy_image, 'Noisy Image')"
   ]
  },
  {
   "cell_type": "code",
   "execution_count": null,
   "metadata": {},
   "outputs": [],
   "source": [
    "# Import the module and function\n",
    "from skimage.restoration import denoise_tv_chambolle\n",
    "\n",
    "noisy_image = image.imread('data/chapter 3/noise-noisy-nature.jpg')\n",
    "\n",
    "# Apply total variation filter denoising\n",
    "denoised_image = denoise_tv_chambolle(noisy_image, \n",
    "                                      multichannel=True)\n",
    "\n",
    "# Show the noisy and denoised images\n",
    "plot_comparison(noisy_image, denoised_image, 'Denoised Image')"
   ]
  },
  {
   "cell_type": "code",
   "execution_count": null,
   "metadata": {},
   "outputs": [],
   "source": [
    "# Import bilateral denoising function\n",
    "from skimage.restoration import denoise_bilateral\n",
    "\n",
    "# Import image\n",
    "landscape_image = image.imread('data/chapter 3/noise-noisy-nature.jpg')\n",
    "\n",
    "# Apply bilateral filter denoising\n",
    "denoised_image = denoise_bilateral(landscape_image, \n",
    "                                   multichannel=True)\n",
    "\n",
    "# Show original and resulting images\n",
    "show_image(landscape_image, 'Noisy image')\n",
    "show_image(denoised_image, 'Denoised image')\n",
    "plot_comparison(landscape_image, denoised_image, 'Denoised Image')"
   ]
  },
  {
   "cell_type": "code",
   "execution_count": null,
   "metadata": {},
   "outputs": [],
   "source": [
    "# Import the slic function from segmentation module\n",
    "from skimage.segmentation import slic\n",
    "\n",
    "# Import the label2rgb function from color module\n",
    "from skimage.color import label2rgb\n",
    "\n",
    "# Import image\n",
    "face_image = image.imread('data/chapter 3/chinese.jpg')\n",
    "\n",
    "# Obtain the segmentation with 400 regions\n",
    "segments = slic(face_image, n_segments=400)\n",
    "\n",
    "# Put segments on top of original image to compare\n",
    "segmented_image = label2rgb(segments, face_image, kind='avg')\n",
    "\n",
    "# Show the segmented image\n",
    "plot_comparison(face_image, segmented_image, 'Segmented Image')"
   ]
  },
  {
   "cell_type": "code",
   "execution_count": null,
   "metadata": {},
   "outputs": [],
   "source": [
    "# Import the modules\n",
    "from skimage import measure, data\n",
    "\n",
    "# Obtain the horse image\n",
    "horse_image = data.horse()\n",
    "\n",
    "# Find the contours with a constant level value of 0.8\n",
    "contours = measure.find_contours(horse_image, .8)\n",
    "\n",
    "# Shows the image with contours found\n",
    "plot_comparison(horse_image, contours, 'Contours')"
   ]
  },
  {
   "cell_type": "code",
   "execution_count": null,
   "metadata": {},
   "outputs": [],
   "source": [
    "from skimage import filters, color\n",
    "\n",
    "image_dice = image.imread('data/chapter 3/steps_contours.png')\n",
    "\n",
    "\n",
    "# Make the image grayscale\n",
    "image_dice = color.rgb2gray(image_dice)\n",
    "\n",
    "# Obtain the optimal thresh value\n",
    "thresh = filters.threshold_otsu(image_dice)\n",
    "\n",
    "# Apply thresholding\n",
    "binary = image_dice > thresh\n",
    "\n",
    "# Find contours at a constant value of 0.8\n",
    "contours = measure.find_contours(binary, .8)\n",
    "\n",
    "# Show the image\n",
    "show_image_contour(image_dice, contours)"
   ]
  },
  {
   "cell_type": "code",
   "execution_count": null,
   "metadata": {},
   "outputs": [],
   "source": [
    "# Import the canny edge detector \n",
    "from skimage.feature import canny\n",
    "\n",
    "# Convert image to grayscale\n",
    "grapefruit = color.rgb2gray(grapefruit)\n",
    "\n",
    "# Apply canny edge detector\n",
    "canny_edges = canny(grapefruit)\n",
    "\n",
    "# Show resulting image\n",
    "show_image(canny_edges, \"Edges with Canny\")"
   ]
  }
 ],
 "metadata": {
  "interpreter": {
   "hash": "468f25ad0239460415b7e6b7483d5c8f7213894121f6fb96c4cb6ef93fffe534"
  },
  "kernelspec": {
   "display_name": "Python 3.9.7 64-bit",
   "language": "python",
   "name": "python3"
  },
  "language_info": {
   "codemirror_mode": {
    "name": "ipython",
    "version": 3
   },
   "file_extension": ".py",
   "mimetype": "text/x-python",
   "name": "python",
   "nbconvert_exporter": "python",
   "pygments_lexer": "ipython3",
   "version": "3.9.7"
  },
  "orig_nbformat": 4
 },
 "nbformat": 4,
 "nbformat_minor": 2
}
