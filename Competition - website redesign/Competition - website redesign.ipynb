{
 "cells": [
  {
   "cell_type": "markdown",
   "metadata": {},
   "source": [
    "# Which version of the website should you use?\n",
    "\n",
    "## 📖 Background\n",
    "You work for an early-stage startup in Germany. Your team has been working on a redesign of the landing page. The team believes a new design will increase the number of people who click through and join your site. \n",
    "\n",
    "They have been testing the changes for a few weeks and now they want to measure the impact of the change and need you to determine if the increase can be due to random chance or if it is statistically significant."
   ]
  },
  {
   "cell_type": "markdown",
   "metadata": {},
   "source": [
    "## 💾 The data\n",
    "The team assembled the following file:\n",
    "\n",
    "#### Redesign test data\n",
    "- \"treatment\" - \"yes\" if the user saw the new version of the landing page, no otherwise.\n",
    "- \"new_images\" - \"yes\" if the page used a new set of images, no otherwise.\n",
    "- \"converted\" - 1 if the user joined the site, 0 otherwise.\n",
    "\n",
    "The control group is those users with \"no\" in both columns: the old version with the old set of images."
   ]
  },
  {
   "cell_type": "code",
   "execution_count": 90,
   "metadata": {},
   "outputs": [],
   "source": [
    "import pandas as pd\n",
    "import seaborn as sns\n",
    "import matplotlib.pyplot as plt\n",
    "import numpy as np\n",
    "from scipy import stats\n"
   ]
  },
  {
   "cell_type": "code",
   "execution_count": 92,
   "metadata": {},
   "outputs": [],
   "source": [
    "def get_pvalue(con_conv, test_conv, con_size, test_size):  \n",
    "    lift =  - abs(test_conv - con_conv)\n",
    "\n",
    "    scale_one = con_conv * (1 - con_conv) * (1 / con_size)\n",
    "    scale_two = test_conv * (1 - test_conv) * (1 / test_size)\n",
    "    scale_val = (scale_one + scale_two)**0.5\n",
    "\n",
    "    p_value = 2 * stats.norm.cdf(lift, loc = 0, scale = scale_val )\n",
    "\n",
    "    return p_value\n",
    "\n",
    "def get_ci(value, cl, sd):\n",
    "  loc = stats.norm.ppf(1 - cl/2)\n",
    "  rng_val = stats.norm.cdf(loc - value/sd)\n",
    "\n",
    "  lwr_bnd = value - rng_val\n",
    "  upr_bnd = value + rng_val \n",
    "\n",
    "  return_val = (lwr_bnd, upr_bnd)\n",
    "  return(return_val)"
   ]
  },
  {
   "cell_type": "code",
   "execution_count": 81,
   "metadata": {},
   "outputs": [
    {
     "data": {
      "text/html": [
       "<div>\n",
       "<style scoped>\n",
       "    .dataframe tbody tr th:only-of-type {\n",
       "        vertical-align: middle;\n",
       "    }\n",
       "\n",
       "    .dataframe tbody tr th {\n",
       "        vertical-align: top;\n",
       "    }\n",
       "\n",
       "    .dataframe thead th {\n",
       "        text-align: right;\n",
       "    }\n",
       "</style>\n",
       "<table border=\"1\" class=\"dataframe\">\n",
       "  <thead>\n",
       "    <tr style=\"text-align: right;\">\n",
       "      <th></th>\n",
       "      <th>treatment</th>\n",
       "      <th>new_images</th>\n",
       "      <th>converted</th>\n",
       "    </tr>\n",
       "  </thead>\n",
       "  <tbody>\n",
       "    <tr>\n",
       "      <th>0</th>\n",
       "      <td>yes</td>\n",
       "      <td>yes</td>\n",
       "      <td>0</td>\n",
       "    </tr>\n",
       "    <tr>\n",
       "      <th>1</th>\n",
       "      <td>yes</td>\n",
       "      <td>yes</td>\n",
       "      <td>0</td>\n",
       "    </tr>\n",
       "    <tr>\n",
       "      <th>2</th>\n",
       "      <td>yes</td>\n",
       "      <td>yes</td>\n",
       "      <td>0</td>\n",
       "    </tr>\n",
       "    <tr>\n",
       "      <th>3</th>\n",
       "      <td>yes</td>\n",
       "      <td>no</td>\n",
       "      <td>0</td>\n",
       "    </tr>\n",
       "    <tr>\n",
       "      <th>4</th>\n",
       "      <td>no</td>\n",
       "      <td>yes</td>\n",
       "      <td>0</td>\n",
       "    </tr>\n",
       "  </tbody>\n",
       "</table>\n",
       "</div>"
      ],
      "text/plain": [
       "  treatment new_images  converted\n",
       "0       yes        yes          0\n",
       "1       yes        yes          0\n",
       "2       yes        yes          0\n",
       "3       yes         no          0\n",
       "4        no        yes          0"
      ]
     },
     "execution_count": 81,
     "metadata": {},
     "output_type": "execute_result"
    }
   ],
   "source": [
    "df = pd.read_csv('data/redesign.csv')\n",
    "df.head()"
   ]
  },
  {
   "cell_type": "code",
   "execution_count": 91,
   "metadata": {},
   "outputs": [
    {
     "data": {
      "text/plain": [
       "Both                10121\n",
       "New Landing Page    10121\n",
       "New Images          10121\n",
       "Control             10121\n",
       "Name: group, dtype: int64"
      ]
     },
     "execution_count": 91,
     "metadata": {},
     "output_type": "execute_result"
    }
   ],
   "source": [
    "# Create a grouping variable\n",
    "df['group'] = \"Control\"\n",
    "df.loc[(df.treatment == \"yes\") & (df.new_images == \"no\"), \"group\"] = \"New Landing Page\"\n",
    "df.loc[(df.treatment == \"no\") & (df.new_images == \"yes\"), \"group\"] = \"New Images\"\n",
    "df.loc[(df.treatment == \"yes\") & (df.new_images == \"yes\"), \"group\"] = \"Both\"\n",
    "df['group'].value_counts()"
   ]
  },
  {
   "cell_type": "code",
   "execution_count": 132,
   "metadata": {},
   "outputs": [
    {
     "data": {
      "text/html": [
       "<div>\n",
       "<style scoped>\n",
       "    .dataframe tbody tr th:only-of-type {\n",
       "        vertical-align: middle;\n",
       "    }\n",
       "\n",
       "    .dataframe tbody tr th {\n",
       "        vertical-align: top;\n",
       "    }\n",
       "\n",
       "    .dataframe thead th {\n",
       "        text-align: right;\n",
       "    }\n",
       "</style>\n",
       "<table border=\"1\" class=\"dataframe\">\n",
       "  <thead>\n",
       "    <tr style=\"text-align: right;\">\n",
       "      <th></th>\n",
       "      <th>converted</th>\n",
       "      <th>p</th>\n",
       "      <th>result</th>\n",
       "    </tr>\n",
       "    <tr>\n",
       "      <th>group</th>\n",
       "      <th></th>\n",
       "      <th></th>\n",
       "      <th></th>\n",
       "    </tr>\n",
       "  </thead>\n",
       "  <tbody>\n",
       "    <tr>\n",
       "      <th>Both</th>\n",
       "      <td>0.113724</td>\n",
       "      <td>0.133</td>\n",
       "      <td>not significant</td>\n",
       "    </tr>\n",
       "    <tr>\n",
       "      <th>Control</th>\n",
       "      <td>0.107104</td>\n",
       "      <td>1.000</td>\n",
       "      <td>not significant</td>\n",
       "    </tr>\n",
       "    <tr>\n",
       "      <th>New Images</th>\n",
       "      <td>0.112538</td>\n",
       "      <td>0.216</td>\n",
       "      <td>not significant</td>\n",
       "    </tr>\n",
       "    <tr>\n",
       "      <th>New Landing Page</th>\n",
       "      <td>0.120047</td>\n",
       "      <td>0.004</td>\n",
       "      <td>significant</td>\n",
       "    </tr>\n",
       "  </tbody>\n",
       "</table>\n",
       "</div>"
      ],
      "text/plain": [
       "                  converted      p           result\n",
       "group                                              \n",
       "Both               0.113724  0.133  not significant\n",
       "Control            0.107104  1.000  not significant\n",
       "New Images         0.112538  0.216  not significant\n",
       "New Landing Page   0.120047  0.004      significant"
      ]
     },
     "execution_count": 132,
     "metadata": {},
     "output_type": "execute_result"
    }
   ],
   "source": [
    "test = df.groupby(['group'])[['converted']].mean()\n",
    "control = test.loc[test.index.get_level_values('group') == \"Control\", 'converted'].values\n",
    "p = []\n",
    "for idx, row in test.iterrows():\n",
    "    p.append(get_pvalue(control, row['converted'], 10121, 10121))\n",
    "test['p'] = [round(float(x), 3) for x in p]\n",
    "test['result'] = 'not significant'\n",
    "test.loc[test.p <= .05, 'result'] = 'significant'\n",
    "test"
   ]
  },
  {
   "cell_type": "markdown",
   "metadata": {},
   "source": [
    "The data looks good, we have an equal sample size for the four groups which will make comparing the groups simpler.\n",
    "\n",
    "The next step is to use the **Binomial proportion confidence interval** to determine the success rates based on the different enhancements.  TO determine the confidence interval of each group, the following formula will be used:  \n",
    "$p ± z \\sqrt{\\frac{(1-p)}n}$ "
   ]
  },
  {
   "cell_type": "code",
   "execution_count": 28,
   "metadata": {},
   "outputs": [
    {
     "data": {
      "text/html": [
       "<div>\n",
       "<style scoped>\n",
       "    .dataframe tbody tr th:only-of-type {\n",
       "        vertical-align: middle;\n",
       "    }\n",
       "\n",
       "    .dataframe tbody tr th {\n",
       "        vertical-align: top;\n",
       "    }\n",
       "\n",
       "    .dataframe thead th {\n",
       "        text-align: right;\n",
       "    }\n",
       "</style>\n",
       "<table border=\"1\" class=\"dataframe\">\n",
       "  <thead>\n",
       "    <tr style=\"text-align: right;\">\n",
       "      <th></th>\n",
       "      <th>p</th>\n",
       "      <th>n</th>\n",
       "      <th>lcl</th>\n",
       "      <th>ucl</th>\n",
       "    </tr>\n",
       "    <tr>\n",
       "      <th>group</th>\n",
       "      <th></th>\n",
       "      <th></th>\n",
       "      <th></th>\n",
       "      <th></th>\n",
       "    </tr>\n",
       "  </thead>\n",
       "  <tbody>\n",
       "    <tr>\n",
       "      <th>Both</th>\n",
       "      <td>0.113724</td>\n",
       "      <td>10121</td>\n",
       "      <td>0.107539</td>\n",
       "      <td>0.119909</td>\n",
       "    </tr>\n",
       "    <tr>\n",
       "      <th>Control</th>\n",
       "      <td>0.107104</td>\n",
       "      <td>10121</td>\n",
       "      <td>0.101079</td>\n",
       "      <td>0.113129</td>\n",
       "    </tr>\n",
       "    <tr>\n",
       "      <th>New Images</th>\n",
       "      <td>0.112538</td>\n",
       "      <td>10121</td>\n",
       "      <td>0.106381</td>\n",
       "      <td>0.118695</td>\n",
       "    </tr>\n",
       "    <tr>\n",
       "      <th>New Landing Page</th>\n",
       "      <td>0.120047</td>\n",
       "      <td>10121</td>\n",
       "      <td>0.113715</td>\n",
       "      <td>0.126380</td>\n",
       "    </tr>\n",
       "  </tbody>\n",
       "</table>\n",
       "</div>"
      ],
      "text/plain": [
       "                         p      n       lcl       ucl\n",
       "group                                                \n",
       "Both              0.113724  10121  0.107539  0.119909\n",
       "Control           0.107104  10121  0.101079  0.113129\n",
       "New Images        0.112538  10121  0.106381  0.118695\n",
       "New Landing Page  0.120047  10121  0.113715  0.126380"
      ]
     },
     "execution_count": 28,
     "metadata": {},
     "output_type": "execute_result"
    }
   ],
   "source": [
    "z = 1.96\n",
    "test = df.groupby(['group'])[['converted']].mean()\n",
    "test.columns = [\"p\"]\n",
    "test['n'] = df['group'].value_counts()\n",
    "\n",
    "lcl = []\n",
    "ucl = []\n",
    "for idx, row in test.iterrows():\n",
    "    lcl.append(row['p'] - z * np.sqrt((row['p']*(1 - row['p']))/row['n']))\n",
    "    ucl.append(row['p'] + z * np.sqrt((row['p']*(1 - row['p']))/row['n']))\n",
    "\n",
    "test['lcl'] = lcl\n",
    "test['ucl'] = ucl\n",
    "test"
   ]
  },
  {
   "cell_type": "markdown",
   "metadata": {},
   "source": [
    "The **New Landing Page** has a significant impact compared to the **Control**.  There's an interesting observation where the  **New Images** appears to fix the improvement from 10.7% to 11.3% decreasing the improved conversion rate with just a new landing page.  \n",
    "Lets visualize these results to make it clearer what's happening.  \n",
    "Using an *Interval Plot* we can visualize any significant differneces.  The tabulated data is using a 95% confidence interval which may be a bit conservative for A/B Testing.  The Interval Plot will use an 80% Confidence Interval."
   ]
  },
  {
   "cell_type": "code",
   "execution_count": 76,
   "metadata": {},
   "outputs": [
    {
     "name": "stderr",
     "output_type": "stream",
     "text": [
      "C:\\Users\\andre\\AppData\\Local\\Temp/ipykernel_2268/226051898.py:16: UserWarning: FixedFormatter should only be used together with FixedLocator\n",
      "  ax.set_xticklabels(['{:,.1f}'.format(x) + '%' for x in ax.get_xticks()*100])\n"
     ]
    },
    {
     "data": {
      "text/plain": [
       "Text(0.5, 1.0, 'Conversions from Website Enhancements')"
      ]
     },
     "execution_count": 76,
     "metadata": {},
     "output_type": "execute_result"
    },
    {
     "data": {
      "image/png": "[encoded data removed]",
      "text/plain": [
       "<Figure size 1080x648 with 1 Axes>"
      ]
     },
     "metadata": {},
     "output_type": "display_data"
    }
   ],
   "source": [
    "fig, ax = plt.subplots()\n",
    "sns.set(\n",
    "    font_scale=1.4\n",
    ")\n",
    "fig.set_size_inches([15,9])\n",
    "ax = sns.pointplot(\n",
    "    y = \"group\",\n",
    "    x = \"converted\",\n",
    "    data = df,\n",
    "    join = False,\n",
    "    order=[\"Control\", \"New Images\", \"New Landing Page\", \"Both\"],\n",
    "    ci = 80,\n",
    "    capsize=.2,\n",
    "    estimator=np.mean\n",
    ")\n",
    "ax.set_xticklabels(['{:,.1f}'.format(x) + '%' for x in ax.get_xticks()*100])\n",
    "ax.set_title(\n",
    "    \"Conversions from Website Enhancements\",\n",
    "    fontsize = 16, \n",
    "    fontweight = 'bold'\n",
    ")"
   ]
  },
  {
   "cell_type": "markdown",
   "metadata": {},
   "source": [
    "The Interval Plot shows a confirmation to what was tabulated.  There's a significant difference between using a New Landing Page and the Control.  It appears the New Landing Page is better left without images, but we don't have the same level of confidence in that statement as we do saying a new Landing Page will improve conversion rate.  \n",
    "Another interesting look is to create a heatmap of this visualization."
   ]
  },
  {
   "cell_type": "code",
   "execution_count": 72,
   "metadata": {},
   "outputs": [
    {
     "data": {
      "text/plain": [
       "Text(0.5, 44.5, 'New Images')"
      ]
     },
     "execution_count": 72,
     "metadata": {},
     "output_type": "execute_result"
    },
    {
     "data": {
      "image/png": "[encoded data removed]",
      "text/plain": [
       "<Figure size 1440x576 with 2 Axes>"
      ]
     },
     "metadata": {},
     "output_type": "display_data"
    }
   ],
   "source": [
    "plt.figure(figsize = (20,8))\n",
    "sns.set(\n",
    "    font_scale=1.4, \n",
    "    rc={\"lines.linewidth\": 3}\n",
    ")\n",
    "\n",
    "sns.heatmap(\n",
    "    df.pivot_table(\n",
    "        index =['treatment'],\n",
    "        columns=['new_images'],\n",
    "        values =['converted'],\n",
    "        aggfunc ='mean'        \n",
    "    ),\n",
    "    fmt = '0.4f',\n",
    "    annot=True,\n",
    "    annot_kws={\"size\": 14},\n",
    "    cmap = 'coolwarm',\n",
    "    linewidths=0.2, \n",
    "    linecolor='black',\n",
    "    xticklabels = ['No', 'Yes'],\n",
    "    yticklabels = ['No', 'Yes']\n",
    "    ) \n",
    "\n",
    "plt.title(\n",
    "    'Effects of Website Enhancements', \n",
    "    fontsize = 16, \n",
    "    fontweight = 'bold'\n",
    ")\n",
    "plt.ylabel(\n",
    "    'New Landing Pages', \n",
    "    fontsize = 14\n",
    ")\n",
    "plt.xlabel(\n",
    "    'New Images', \n",
    "    fontsize = 14\n",
    ")\n"
   ]
  },
  {
   "cell_type": "code",
   "execution_count": null,
   "metadata": {},
   "outputs": [],
   "source": []
  },
  {
   "cell_type": "markdown",
   "metadata": {},
   "source": [
    "The Heatmap tells the same story we're used to.  Adding new images seems to fix the improced conversion rate whereas leaving the old images and using a New Landing Page has a significant increase conversion rate. "
   ]
  }
 ],
 "metadata": {
  "interpreter": {
   "hash": "468f25ad0239460415b7e6b7483d5c8f7213894121f6fb96c4cb6ef93fffe534"
  },
  "kernelspec": {
   "display_name": "Python 3.9.7 64-bit",
   "language": "python",
   "name": "python3"
  },
  "language_info": {
   "codemirror_mode": {
    "name": "ipython",
    "version": 3
   },
   "file_extension": ".py",
   "mimetype": "text/x-python",
   "name": "python",
   "nbconvert_exporter": "python",
   "pygments_lexer": "ipython3",
   "version": "3.9.7"
  },
  "orig_nbformat": 4
 },
 "nbformat": 4,
 "nbformat_minor": 2
}
