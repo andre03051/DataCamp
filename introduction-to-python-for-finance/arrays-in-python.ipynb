{
 "cells": [
  {
   "cell_type": "code",
   "execution_count": null,
   "metadata": {},
   "outputs": [],
   "source": [
    "# Import numpy as np\n",
    "import numpy as np\n",
    "\n",
    "# Lists\n",
    "prices = [170.12, 93.29, 55.28, 145.30, 171.81, 59.50, 100.50]\n",
    "earnings = [9.2, 5.31, 2.41, 5.91, 15.42, 2.51, 6.79]\n",
    "\n",
    "# NumPy arrays\n",
    "prices_array = np.array(prices)\n",
    "earnings_array = np.array(earnings)\n",
    "\n",
    "# Print the arrays\n",
    "print(prices_array)\n",
    "print(earnings_array)\n",
    "\n",
    "# Create PE ratio array\n",
    "pe_array = prices_array/earnings_array\n",
    "\n",
    "# Print pe_array\n",
    "print(pe_array)"
   ]
  },
  {
   "cell_type": "code",
   "execution_count": null,
   "metadata": {},
   "outputs": [],
   "source": [
    "# Subset the first three elements\n",
    "prices_subset_1 = prices_array[0:3]\n",
    "print(prices_subset_1)\n",
    "\n",
    "# Subset last three elements \n",
    "prices_subset_2 = prices_array[-3:]\n",
    "print(prices_subset_2)\n",
    "\n",
    "# Subset every third element\n",
    "prices_subset_3 = prices_array[0:7:3]\n",
    "print(prices_subset_3)"
   ]
  },
  {
   "cell_type": "code",
   "execution_count": null,
   "metadata": {},
   "outputs": [],
   "source": [
    "# Create a 2D array of prices and earnings\n",
    "stock_array = np.array([prices, earnings])\n",
    "print(stock_array)\n",
    "\n",
    "# Print the shape of stock_array\n",
    "print(stock_array.shape)\n",
    "\n",
    "# Print the size of stock_array\n",
    "print(stock_array.size)\n",
    "\n",
    "# Transpose stock_array\n",
    "stock_array_transposed = np.transpose(stock_array)\n",
    "print(stock_array_transposed)\n",
    "\n",
    "# Print the shape of stock_array\n",
    "print(stock_array_transposed.shape)\n",
    "\n",
    "# Print the size of stock_array\n",
    "print(stock_array_transposed.size)"
   ]
  },
  {
   "cell_type": "code",
   "execution_count": null,
   "metadata": {},
   "outputs": [],
   "source": [
    "# Subset prices from stock_array_transposed\n",
    "prices = stock_array_transposed[:, 0]\n",
    "print(prices)\n",
    "\n",
    "# Subset earnings from stock_array_transposed\n",
    "earnings = stock_array_transposed[:,1]\n",
    "print(earnings)\n",
    "\n",
    "# Subset the price and earning for first company\n",
    "company_1 = stock_array_transposed[0,:]\n",
    "print(company_1)"
   ]
  },
  {
   "cell_type": "code",
   "execution_count": null,
   "metadata": {},
   "outputs": [],
   "source": [
    "# Calculate the mean \n",
    "prices_mean = np.mean(prices)\n",
    "print(prices_mean)\n",
    "\n",
    "# Calculate the standard deviation \n",
    "prices_std = np.std(prices)\n",
    "print(prices_std)"
   ]
  },
  {
   "cell_type": "code",
   "execution_count": null,
   "metadata": {},
   "outputs": [],
   "source": [
    "# Create and print company IDs\n",
    "company_ids = np.arange(1, 8, 1)\n",
    "print(company_ids)\n",
    "\n",
    "# Use array slicing to select specific company IDs\n",
    "company_ids_odd = np.arange(1, 8, 2)\n",
    "print(company_ids_odd)"
   ]
  },
  {
   "cell_type": "code",
   "execution_count": null,
   "metadata": {},
   "outputs": [],
   "source": [
    "# Find the mean\n",
    "price_mean = np.mean(prices)\n",
    "\n",
    "# Create boolean array\n",
    "boolean_array = (prices > price_mean)\n",
    "print(boolean_array)\n",
    "\n",
    "# Select prices that are greater than average\n",
    "above_avg = prices[boolean_array]\n",
    "print(above_avg)"
   ]
  },
  {
   "cell_type": "code",
   "execution_count": null,
   "metadata": {},
   "outputs": [],
   "source": [
    "# Create boolean array\n",
    "boolean_array = (sectors == 'Health Care')\n",
    "print(boolean_array)\n",
    "\n",
    "# Print only health care companies\n",
    "health_care = names[boolean_array]\n",
    "print(health_care)"
   ]
  }
 ],
 "metadata": {
  "language_info": {
   "name": "python"
  },
  "orig_nbformat": 4
 },
 "nbformat": 4,
 "nbformat_minor": 2
}
