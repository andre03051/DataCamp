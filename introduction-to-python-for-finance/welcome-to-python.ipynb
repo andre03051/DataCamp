{
 "cells": [
  {
   "cell_type": "code",
   "execution_count": null,
   "metadata": {},
   "outputs": [],
   "source": [
    "# Example 1, do not modify!\n",
    "print(8 / 2)\n",
    "\n",
    "# Example 2, do not modify!\n",
    "print(2**2)\n",
    "\n",
    "# Addition, no print output\n",
    "print(10+2)\n",
    "\n",
    "# Create the variable total and print the total revenue\n",
    "revenue_1 = 229.23\n",
    "revenue_2 = 177.86\n",
    "revenue_3 = 89.95\n",
    "total = revenue_1+revenue_2+revenue_3\n",
    "print(total)\n",
    "\n",
    "# Create company_1\n",
    "company_1 = 'Apple'\n",
    "print(company_1)\n",
    "\n",
    "# Type of company_1\n",
    "print(type(company_1))\n",
    "\n",
    "# Type of year_1\n",
    "year_1 = 2017\n",
    "print(type(year_1))\n",
    "\n",
    "# Type of revenue_1\n",
    "print(type(revenue_1))\n",
    "\n",
    "# Test equality\n",
    "test_company = 'apple'\n",
    "print(company_1 == test_company)\n",
    "\n",
    "# Compare revenue_1 and revenue_2\n",
    "print(revenue_1 > revenue_2)\n",
    "\n",
    "# Update data types\n",
    "year_1_str = str(year_1)\n",
    "revenue_1_str = str(revenue_1)\n",
    "\n",
    "# Create a complete sentence combining only the string data types\n",
    "sentence = 'The revenue of ' + company_1 + ' in ' + year_1_str + ' was $' + revenue_1_str + ' billion.'\n",
    "\n",
    "# Print sentence\n",
    "print(sentence)"
   ]
  },
  {
   "cell_type": "code",
   "execution_count": null,
   "metadata": {},
   "outputs": [],
   "source": []
  }
 ],
 "metadata": {
  "language_info": {
   "name": "python"
  },
  "orig_nbformat": 4
 },
 "nbformat": 4,
 "nbformat_minor": 2
}
