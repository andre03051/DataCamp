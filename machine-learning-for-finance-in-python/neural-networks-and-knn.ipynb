{
 "cells": [
  {
   "cell_type": "code",
   "execution_count": 46,
   "metadata": {},
   "outputs": [],
   "source": [
    "import pandas as pd\n",
    "import matplotlib.pyplot as plt\n",
    "import talib\n",
    "import seaborn as sns\n",
    "import numpy as np\n",
    "\n",
    "import yfinance as yf\n",
    "import datetime\n",
    "from datetime import date, timedelta\n",
    "today = date.today()\n",
    "\n",
    "import statsmodels.api as sm\n",
    "\n",
    "from sklearn.tree import DecisionTreeRegressor\n",
    "from sklearn.ensemble import GradientBoostingRegressor\n",
    "from sklearn.preprocessing import scale"
   ]
  },
  {
   "cell_type": "code",
   "execution_count": 47,
   "metadata": {},
   "outputs": [
    {
     "name": "stdout",
     "output_type": "stream",
     "text": [
      "(138, 10) (117, 10) (21, 10)\n"
     ]
    },
    {
     "data": {
      "image/png": "[encoded data removed]",
      "text/plain": [
       "<Figure size 432x288 with 1 Axes>"
      ]
     },
     "metadata": {
      "needs_background": "light"
     },
     "output_type": "display_data"
    }
   ],
   "source": [
    "ticker = 'ACHR'\n",
    "d1 = today.strftime(\"%Y-%m-%d\")\n",
    "end_date = d1\n",
    "d2 = date.today() - timedelta(days=365*5)\n",
    "d2 = d2.strftime(\"%Y-%m-%d\")\n",
    "start_date = d2\n",
    "\n",
    "data = yf.download(\n",
    "    ticker, \n",
    "    start=start_date, \n",
    "    end=end_date, \n",
    "    progress=False\n",
    ")\n",
    "\n",
    "lng_df = data[['Adj Close', 'Volume']].reset_index()\n",
    "lng_df.rename(columns={'Adj Close': 'Adj_Close', 'Volume':'Adj_Volume'}, inplace=True)\n",
    "\n",
    "# Create 5-day % changes of Adj_Close for the current day, and 5 days in the future\n",
    "lng_df['5d_future_close'] = lng_df['Adj_Close'].shift(-5)\n",
    "lng_df['5d_close_future_pct'] = lng_df['5d_future_close'].pct_change(5)\n",
    "lng_df['5d_close_pct'] = lng_df['Adj_Close'].pct_change(5)\n",
    "\n",
    "feature_names = ['5d_close_pct']  # a list of the feature names for later\n",
    "\n",
    "# Create moving averages and rsi for timeperiods of 14, 30, 50, and 200\n",
    "for n in [14, 30, 50, 200]:\n",
    "\n",
    "    # Create the moving average indicator and divide by Adj_Close\n",
    "    lng_df['ma' + str(n)] = talib.SMA(lng_df['Adj_Close'].values,\n",
    "                              timeperiod=n) / lng_df['Adj_Close']\n",
    "    # Create the RSI indicator\n",
    "    lng_df['rsi' + str(n)] = talib.RSI(lng_df['Adj_Close'].values, timeperiod=n)\n",
    "    \n",
    "    # Add rsi and moving average to the feature name list\n",
    "    feature_names = feature_names + ['ma' + str(n), 'rsi' + str(n)]\n",
    "\n",
    "# Drop all na values\n",
    "lng_df = lng_df.dropna()\n",
    "\n",
    "# Create features and targets\n",
    "# use feature_names for features; '5d_close_future_pct' for targets\n",
    "features = lng_df[feature_names]\n",
    "targets = lng_df['5d_close_future_pct']\n",
    "\n",
    "# Create DataFrame from target column and feature columns\n",
    "feature_and_target_cols = ['5d_close_future_pct'] + feature_names\n",
    "feat_targ_df = lng_df[feature_and_target_cols]\n",
    "\n",
    "# Create 2 new volume features, 1-day % change and 5-day SMA of the % change\n",
    "new_features = ['Adj_Volume_1d_change', 'Adj_Volume_1d_change_SMA']\n",
    "feature_names.extend(new_features)\n",
    "lng_df['Adj_Volume_1d_change'] = lng_df['Adj_Volume'].pct_change()\n",
    "lng_df = lng_df.dropna()\n",
    "\n",
    "lng_df['Adj_Volume_1d_change_SMA'] = talib.SMA(lng_df['Adj_Volume_1d_change'].values, timeperiod=5)\n",
    "\n",
    "# Plot histogram of volume % change data\n",
    "lng_df[new_features].plot(kind='hist', sharex=False, bins=50)\n",
    "\n",
    "lng_df.set_index('Date', inplace=True)\n",
    "# Use pandas' get_dummies function to get dummies for day of the week\n",
    "days_of_week = pd.get_dummies(\n",
    "    lng_df.index.dayofweek,\n",
    "    prefix='weekday',\n",
    "    drop_first=True\n",
    ")\n",
    "\n",
    "# Set the index as the original dataframe index for merging\n",
    "days_of_week.index = lng_df.index\n",
    "\n",
    "# Join the dataframe with the days of week dataframe\n",
    "lng_df = pd.concat([lng_df, days_of_week], axis=1)\n",
    "\n",
    "# Add days of week to feature names\n",
    "feature_names.extend(['weekday_' + str(i) for i in range(1, 5)])\n",
    "lng_df.dropna(inplace=True)  # drop missing values in-place\n",
    "\n",
    "# Add a constant to the features\n",
    "linear_features = sm.add_constant(features)\n",
    "\n",
    "# Create a size for the training set that is 85% of the total number of samples\n",
    "train_size = int(0.85 * targets.shape[0])\n",
    "train_features = linear_features[:train_size]\n",
    "train_targets = targets[:train_size]\n",
    "test_features = linear_features[train_size:]\n",
    "test_targets = targets[train_size:]\n",
    "print(linear_features.shape, train_features.shape, test_features.shape)"
   ]
  },
  {
   "cell_type": "code",
   "execution_count": 48,
   "metadata": {},
   "outputs": [
    {
     "data": {
      "image/png": "[encoded data removed]",
      "text/plain": [
       "<Figure size 432x288 with 2 Axes>"
      ]
     },
     "metadata": {
      "needs_background": "light"
     },
     "output_type": "display_data"
    }
   ],
   "source": [
    "# Standardize the train and test features\n",
    "scaled_train_features = scale(train_features)\n",
    "scaled_test_features = scale(test_features)\n",
    "\n",
    "# Plot histograms of the 14-day SMA RSI before and after scaling\n",
    "f, ax = plt.subplots(nrows=2, ncols=1)\n",
    "train_features.iloc[:, 2].hist(ax=ax[0])\n",
    "ax[1].hist(scaled_train_features[:, 2])\n",
    "plt.show()"
   ]
  },
  {
   "cell_type": "code",
   "execution_count": 49,
   "metadata": {},
   "outputs": [
    {
     "name": "stdout",
     "output_type": "stream",
     "text": [
      "Epoch 1/25\n",
      "4/4 [==============================] - 1s 2ms/step - loss: 0.0895\n",
      "Epoch 2/25\n",
      "4/4 [==============================] - 0s 4ms/step - loss: 0.0389\n",
      "Epoch 3/25\n",
      "4/4 [==============================] - 0s 5ms/step - loss: 0.0267\n",
      "Epoch 4/25\n",
      "4/4 [==============================] - 0s 4ms/step - loss: 0.0194\n",
      "Epoch 5/25\n",
      "4/4 [==============================] - 0s 5ms/step - loss: 0.0146\n",
      "Epoch 6/25\n",
      "4/4 [==============================] - 0s 5ms/step - loss: 0.0107\n",
      "Epoch 7/25\n",
      "4/4 [==============================] - 0s 4ms/step - loss: 0.0093\n",
      "Epoch 8/25\n",
      "4/4 [==============================] - 0s 4ms/step - loss: 0.0081\n",
      "Epoch 9/25\n",
      "4/4 [==============================] - 0s 3ms/step - loss: 0.0070\n",
      "Epoch 10/25\n",
      "4/4 [==============================] - 0s 5ms/step - loss: 0.0065\n",
      "Epoch 11/25\n",
      "4/4 [==============================] - 0s 4ms/step - loss: 0.0061\n",
      "Epoch 12/25\n",
      "4/4 [==============================] - 0s 4ms/step - loss: 0.0055\n",
      "Epoch 13/25\n",
      "4/4 [==============================] - 0s 4ms/step - loss: 0.0052\n",
      "Epoch 14/25\n",
      "4/4 [==============================] - 0s 5ms/step - loss: 0.0050\n",
      "Epoch 15/25\n",
      "4/4 [==============================] - 0s 4ms/step - loss: 0.0049\n",
      "Epoch 16/25\n",
      "4/4 [==============================] - 0s 8ms/step - loss: 0.0046\n",
      "Epoch 17/25\n",
      "4/4 [==============================] - 0s 5ms/step - loss: 0.0045\n",
      "Epoch 18/25\n",
      "4/4 [==============================] - 0s 5ms/step - loss: 0.0042\n",
      "Epoch 19/25\n",
      "4/4 [==============================] - 0s 4ms/step - loss: 0.0042\n",
      "Epoch 20/25\n",
      "4/4 [==============================] - 0s 4ms/step - loss: 0.0040\n",
      "Epoch 21/25\n",
      "4/4 [==============================] - 0s 4ms/step - loss: 0.0039\n",
      "Epoch 22/25\n",
      "4/4 [==============================] - 0s 3ms/step - loss: 0.0037\n",
      "Epoch 23/25\n",
      "4/4 [==============================] - 0s 4ms/step - loss: 0.0036\n",
      "Epoch 24/25\n",
      "4/4 [==============================] - 0s 5ms/step - loss: 0.0035\n",
      "Epoch 25/25\n",
      "4/4 [==============================] - 0s 4ms/step - loss: 0.0034\n"
     ]
    },
    {
     "data": {
      "image/png": "[encoded data removed]",
      "text/plain": [
       "<Figure size 432x288 with 1 Axes>"
      ]
     },
     "metadata": {
      "needs_background": "light"
     },
     "output_type": "display_data"
    }
   ],
   "source": [
    "from keras.models import Sequential\n",
    "from keras.layers import Dense\n",
    "\n",
    "# Create the model\n",
    "model_1 = Sequential()\n",
    "model_1.add(Dense(100, input_dim=scaled_train_features.shape[1], activation='relu'))\n",
    "model_1.add(Dense(20, activation='relu'))\n",
    "model_1.add(Dense(1, activation='linear'))\n",
    "\n",
    "# Fit the model\n",
    "model_1.compile(optimizer='adam', loss='mse')\n",
    "history = model_1.fit(scaled_train_features, train_targets, epochs=25)\n",
    "\n",
    "# Plot the losses from the fit\n",
    "plt.plot(history.history['loss'])\n",
    "\n",
    "# Use the last loss as the title\n",
    "plt.title('loss:' + str(round(history.history['loss'][-1], 6)))\n",
    "plt.show()"
   ]
  },
  {
   "cell_type": "code",
   "execution_count": 50,
   "metadata": {},
   "outputs": [
    {
     "name": "stdout",
     "output_type": "stream",
     "text": [
      "0.8180783375720017\n",
      "-0.6340502527565941\n"
     ]
    },
    {
     "data": {
      "image/png": "[encoded data removed]",
      "text/plain": [
       "<Figure size 432x288 with 1 Axes>"
      ]
     },
     "metadata": {
      "needs_background": "light"
     },
     "output_type": "display_data"
    }
   ],
   "source": [
    "from sklearn.metrics import r2_score\n",
    "\n",
    "# Calculate R^2 score\n",
    "train_preds = model_1.predict(scaled_train_features)\n",
    "test_preds = model_1.predict(scaled_test_features)\n",
    "print(r2_score(train_targets, train_preds))\n",
    "print(r2_score(test_targets, test_preds))\n",
    "\n",
    "# Plot predictions vs actual\n",
    "plt.scatter(train_preds, train_targets, label='train')\n",
    "plt.scatter(test_preds, test_targets, label='test')\n",
    "plt.legend()\n",
    "plt.show()"
   ]
  },
  {
   "cell_type": "code",
   "execution_count": 51,
   "metadata": {},
   "outputs": [
    {
     "name": "stdout",
     "output_type": "stream",
     "text": [
      "Epoch 1/25\n",
      "4/4 [==============================] - 1s 4ms/step - loss: 6.1217\n",
      "Epoch 2/25\n",
      "4/4 [==============================] - 0s 5ms/step - loss: 2.4042\n",
      "Epoch 3/25\n",
      "4/4 [==============================] - 0s 7ms/step - loss: 1.2686\n",
      "Epoch 4/25\n",
      "4/4 [==============================] - 0s 5ms/step - loss: 0.7513\n",
      "Epoch 5/25\n",
      "4/4 [==============================] - 0s 5ms/step - loss: 0.6395\n",
      "Epoch 6/25\n",
      "4/4 [==============================] - 0s 4ms/step - loss: 0.3677\n",
      "Epoch 7/25\n",
      "4/4 [==============================] - 0s 4ms/step - loss: 0.2923\n",
      "Epoch 8/25\n",
      "4/4 [==============================] - 0s 6ms/step - loss: 0.1711\n",
      "Epoch 9/25\n",
      "4/4 [==============================] - 0s 4ms/step - loss: 0.1450\n",
      "Epoch 10/25\n",
      "4/4 [==============================] - 0s 5ms/step - loss: 0.2514\n",
      "Epoch 11/25\n",
      "4/4 [==============================] - 0s 5ms/step - loss: 0.1796\n",
      "Epoch 12/25\n",
      "4/4 [==============================] - 0s 4ms/step - loss: 0.1397\n",
      "Epoch 13/25\n",
      "4/4 [==============================] - 0s 5ms/step - loss: 0.0810\n",
      "Epoch 14/25\n",
      "4/4 [==============================] - 0s 5ms/step - loss: 0.1051\n",
      "Epoch 15/25\n",
      "4/4 [==============================] - 0s 4ms/step - loss: 0.0726\n",
      "Epoch 16/25\n",
      "4/4 [==============================] - 0s 7ms/step - loss: 0.0592\n",
      "Epoch 17/25\n",
      "4/4 [==============================] - 0s 6ms/step - loss: 0.0499\n",
      "Epoch 18/25\n",
      "4/4 [==============================] - 0s 5ms/step - loss: 0.0735\n",
      "Epoch 19/25\n",
      "4/4 [==============================] - 0s 6ms/step - loss: 0.0529\n",
      "Epoch 20/25\n",
      "4/4 [==============================] - 0s 5ms/step - loss: 0.0411\n",
      "Epoch 21/25\n",
      "4/4 [==============================] - 0s 4ms/step - loss: 0.0501\n",
      "Epoch 22/25\n",
      "4/4 [==============================] - 0s 5ms/step - loss: 0.0369\n",
      "Epoch 23/25\n",
      "4/4 [==============================] - 0s 5ms/step - loss: 0.0342\n",
      "Epoch 24/25\n",
      "4/4 [==============================] - 0s 4ms/step - loss: 0.0207\n",
      "Epoch 25/25\n",
      "4/4 [==============================] - 0s 5ms/step - loss: 0.0308\n"
     ]
    },
    {
     "data": {
      "image/png": "[encoded data removed]",
      "text/plain": [
       "<Figure size 432x288 with 1 Axes>"
      ]
     },
     "metadata": {
      "needs_background": "light"
     },
     "output_type": "display_data"
    }
   ],
   "source": [
    "import keras.losses\n",
    "import tensorflow as tf\n",
    "\n",
    "# Create loss function\n",
    "def sign_penalty(y_true, y_pred):\n",
    "    penalty = 100.\n",
    "    loss = tf.where(tf.less(y_true * y_pred, 0), \\\n",
    "                     penalty * tf.square(y_true - y_pred), \\\n",
    "                     tf.square(y_true - y_pred))\n",
    "\n",
    "    return tf.reduce_mean(loss, axis=-1)\n",
    "\n",
    "keras.losses.sign_penalty = sign_penalty  # enable use of loss with keras\n",
    "\n",
    "# Create the model\n",
    "model_2 = Sequential()\n",
    "model_2.add(Dense(100, input_dim=scaled_train_features.shape[1], activation='relu'))\n",
    "model_2.add(Dense(20, activation='relu'))\n",
    "model_2.add(Dense(1, activation='linear'))\n",
    "\n",
    "# Fit the model with our custom 'sign_penalty' loss function\n",
    "model_2.compile(optimizer='adam', loss=sign_penalty)\n",
    "history = model_2.fit(scaled_train_features, train_targets, epochs=25)\n",
    "plt.plot(history.history['loss'])\n",
    "plt.title('loss:' + str(round(history.history['loss'][-1], 6)))\n",
    "plt.show()"
   ]
  },
  {
   "cell_type": "code",
   "execution_count": 52,
   "metadata": {},
   "outputs": [
    {
     "name": "stdout",
     "output_type": "stream",
     "text": [
      "WARNING:tensorflow:5 out of the last 43 calls to <function Model.make_predict_function.<locals>.predict_function at 0x00000282C711F4C0> triggered tf.function retracing. Tracing is expensive and the excessive number of tracings could be due to (1) creating @tf.function repeatedly in a loop, (2) passing tensors with different shapes, (3) passing Python objects instead of tensors. For (1), please define your @tf.function outside of the loop. For (2), @tf.function has experimental_relax_shapes=True option that relaxes argument shapes that can avoid unnecessary retracing. For (3), please refer to https://www.tensorflow.org/guide/function#controlling_retracing and https://www.tensorflow.org/api_docs/python/tf/function for  more details.\n",
      "0.3659711069683833\n",
      "-0.16828122007456892\n"
     ]
    },
    {
     "data": {
      "image/png": "[encoded data removed]",
      "text/plain": [
       "<Figure size 432x288 with 1 Axes>"
      ]
     },
     "metadata": {
      "needs_background": "light"
     },
     "output_type": "display_data"
    }
   ],
   "source": [
    "# Evaluate R^2 scores\n",
    "train_preds = model_2.predict(scaled_train_features)\n",
    "test_preds = model_2.predict(scaled_test_features)\n",
    "print(r2_score(train_targets, train_preds))\n",
    "print(r2_score(test_targets, test_preds))\n",
    "\n",
    "# Scatter the predictions vs actual -- this one is interesting!\n",
    "plt.scatter(train_preds, train_targets, label='train')\n",
    "plt.scatter(test_preds, test_targets, label='test')  # plot test set\n",
    "plt.legend(); plt.show()"
   ]
  },
  {
   "cell_type": "code",
   "execution_count": 53,
   "metadata": {},
   "outputs": [
    {
     "name": "stdout",
     "output_type": "stream",
     "text": [
      "Epoch 1/25\n",
      "4/4 [==============================] - 1s 6ms/step - loss: 0.1122\n",
      "Epoch 2/25\n",
      "4/4 [==============================] - 0s 9ms/step - loss: 0.0644\n",
      "Epoch 3/25\n",
      "4/4 [==============================] - 0s 5ms/step - loss: 0.0395\n",
      "Epoch 4/25\n",
      "4/4 [==============================] - 0s 5ms/step - loss: 0.0306\n",
      "Epoch 5/25\n",
      "4/4 [==============================] - 0s 5ms/step - loss: 0.0303\n",
      "Epoch 6/25\n",
      "4/4 [==============================] - 0s 5ms/step - loss: 0.0287\n",
      "Epoch 7/25\n",
      "4/4 [==============================] - 0s 5ms/step - loss: 0.0220\n",
      "Epoch 8/25\n",
      "4/4 [==============================] - 0s 5ms/step - loss: 0.0177\n",
      "Epoch 9/25\n",
      "4/4 [==============================] - 0s 6ms/step - loss: 0.0184\n",
      "Epoch 10/25\n",
      "4/4 [==============================] - 0s 5ms/step - loss: 0.0171\n",
      "Epoch 11/25\n",
      "4/4 [==============================] - 0s 5ms/step - loss: 0.0200\n",
      "Epoch 12/25\n",
      "4/4 [==============================] - 0s 4ms/step - loss: 0.0174\n",
      "Epoch 13/25\n",
      "4/4 [==============================] - 0s 6ms/step - loss: 0.0179\n",
      "Epoch 14/25\n",
      "4/4 [==============================] - 0s 6ms/step - loss: 0.0171\n",
      "Epoch 15/25\n",
      "4/4 [==============================] - 0s 6ms/step - loss: 0.0140\n",
      "Epoch 16/25\n",
      "4/4 [==============================] - 0s 4ms/step - loss: 0.0136\n",
      "Epoch 17/25\n",
      "4/4 [==============================] - 0s 6ms/step - loss: 0.0139\n",
      "Epoch 18/25\n",
      "4/4 [==============================] - 0s 5ms/step - loss: 0.0137\n",
      "Epoch 19/25\n",
      "4/4 [==============================] - 0s 7ms/step - loss: 0.0125\n",
      "Epoch 20/25\n",
      "4/4 [==============================] - 0s 5ms/step - loss: 0.0116\n",
      "Epoch 21/25\n",
      "4/4 [==============================] - 0s 6ms/step - loss: 0.0174\n",
      "Epoch 22/25\n",
      "4/4 [==============================] - 0s 5ms/step - loss: 0.0111\n",
      "Epoch 23/25\n",
      "4/4 [==============================] - 0s 5ms/step - loss: 0.0145\n",
      "Epoch 24/25\n",
      "4/4 [==============================] - 0s 5ms/step - loss: 0.0116\n",
      "Epoch 25/25\n",
      "4/4 [==============================] - 0s 4ms/step - loss: 0.0103\n"
     ]
    },
    {
     "data": {
      "image/png": "[encoded data removed]",
      "text/plain": [
       "<Figure size 432x288 with 1 Axes>"
      ]
     },
     "metadata": {
      "needs_background": "light"
     },
     "output_type": "display_data"
    }
   ],
   "source": [
    "from keras.layers import Dropout\n",
    "\n",
    "# Create model with dropout\n",
    "model_3 = Sequential()\n",
    "model_3.add(Dense(100, input_dim=scaled_train_features.shape[1], activation='relu'))\n",
    "model_3.add(Dropout(.2))\n",
    "model_3.add(Dense(20, activation='relu'))\n",
    "model_3.add(Dense(1, activation='linear'))\n",
    "\n",
    "# Fit model with mean squared error loss function\n",
    "model_3.compile(optimizer='adam', loss='mse')\n",
    "history = model_3.fit(scaled_train_features, train_targets, epochs=25)\n",
    "plt.plot(history.history['loss'])\n",
    "plt.title('loss:' + str(round(history.history['loss'][-1], 6)))\n",
    "plt.show()"
   ]
  },
  {
   "cell_type": "code",
   "execution_count": 54,
   "metadata": {},
   "outputs": [
    {
     "name": "stdout",
     "output_type": "stream",
     "text": [
      "[ 0.02419862 -0.00716095 -0.02635898  0.01898162  0.02269541]\n",
      "0.6680867247778712\n",
      "-0.09174598403268841\n"
     ]
    },
    {
     "data": {
      "image/png": "[encoded data removed]",
      "text/plain": [
       "<Figure size 432x288 with 1 Axes>"
      ]
     },
     "metadata": {
      "needs_background": "light"
     },
     "output_type": "display_data"
    }
   ],
   "source": [
    "# Make predictions from the 3 neural net models\n",
    "train_pred1 = model_1.predict(scaled_train_features)\n",
    "test_pred1 = model_1.predict(scaled_test_features)\n",
    "\n",
    "train_pred2 = model_2.predict(scaled_train_features)\n",
    "test_pred2 = model_2.predict(scaled_test_features)\n",
    "\n",
    "train_pred3 = model_3.predict(scaled_train_features)\n",
    "test_pred3 = model_3.predict(scaled_test_features)\n",
    "\n",
    "# Horizontally stack predictions and take the average across rows\n",
    "train_preds = np.mean(np.hstack((train_pred1, train_pred2, train_pred3)), axis=1)\n",
    "test_preds = np.mean(np.hstack((test_pred1, test_pred2, test_pred3)), axis=1)\n",
    "print(test_preds[-5:])\n",
    "\n",
    "from sklearn.metrics import r2_score\n",
    "\n",
    "# Evaluate the R^2 scores\n",
    "print(r2_score(train_targets, train_preds))\n",
    "print(r2_score(test_targets, test_preds))\n",
    "\n",
    "# Scatter the predictions vs actual -- this one is interesting!\n",
    "plt.scatter(train_preds, train_targets, label='train')\n",
    "plt.scatter(test_preds, test_targets, label='test')\n",
    "plt.legend(); plt.show()"
   ]
  }
 ],
 "metadata": {
  "interpreter": {
   "hash": "468f25ad0239460415b7e6b7483d5c8f7213894121f6fb96c4cb6ef93fffe534"
  },
  "kernelspec": {
   "display_name": "Python 3.9.7 64-bit",
   "language": "python",
   "name": "python3"
  },
  "language_info": {
   "codemirror_mode": {
    "name": "ipython",
    "version": 3
   },
   "file_extension": ".py",
   "mimetype": "text/x-python",
   "name": "python",
   "nbconvert_exporter": "python",
   "pygments_lexer": "ipython3",
   "version": "3.9.7"
  },
  "orig_nbformat": 4
 },
 "nbformat": 4,
 "nbformat_minor": 2
}
