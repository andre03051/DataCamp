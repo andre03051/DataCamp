{
 "cells": [
  {
   "cell_type": "code",
   "execution_count": 40,
   "metadata": {},
   "outputs": [],
   "source": [
    "import pandas as pd\n",
    "import matplotlib.pyplot as plt\n",
    "import talib\n",
    "import seaborn as sns\n",
    "import numpy as np\n",
    "\n",
    "import yfinance as yf\n",
    "import datetime\n",
    "from datetime import date, timedelta\n",
    "today = date.today()"
   ]
  },
  {
   "cell_type": "code",
   "execution_count": 41,
   "metadata": {},
   "outputs": [
    {
     "data": {
      "text/html": [
       "<div>\n",
       "<style scoped>\n",
       "    .dataframe tbody tr th:only-of-type {\n",
       "        vertical-align: middle;\n",
       "    }\n",
       "\n",
       "    .dataframe tbody tr th {\n",
       "        vertical-align: top;\n",
       "    }\n",
       "\n",
       "    .dataframe thead th {\n",
       "        text-align: right;\n",
       "    }\n",
       "</style>\n",
       "<table border=\"1\" class=\"dataframe\">\n",
       "  <thead>\n",
       "    <tr style=\"text-align: right;\">\n",
       "      <th></th>\n",
       "      <th>ACHR</th>\n",
       "      <th>LIQT</th>\n",
       "      <th>USDP</th>\n",
       "      <th>FSI</th>\n",
       "      <th>GEVO</th>\n",
       "      <th>QQQ</th>\n",
       "    </tr>\n",
       "    <tr>\n",
       "      <th>Date</th>\n",
       "      <th></th>\n",
       "      <th></th>\n",
       "      <th></th>\n",
       "      <th></th>\n",
       "      <th></th>\n",
       "      <th></th>\n",
       "    </tr>\n",
       "  </thead>\n",
       "  <tbody>\n",
       "    <tr>\n",
       "      <th>2020-12-18</th>\n",
       "      <td>9.97</td>\n",
       "      <td>8.54</td>\n",
       "      <td>3.333923</td>\n",
       "      <td>2.470</td>\n",
       "      <td>2.39</td>\n",
       "      <td>307.634827</td>\n",
       "    </tr>\n",
       "    <tr>\n",
       "      <th>2020-12-21</th>\n",
       "      <td>10.07</td>\n",
       "      <td>8.35</td>\n",
       "      <td>3.270333</td>\n",
       "      <td>2.460</td>\n",
       "      <td>2.86</td>\n",
       "      <td>307.059326</td>\n",
       "    </tr>\n",
       "    <tr>\n",
       "      <th>2020-12-22</th>\n",
       "      <td>10.02</td>\n",
       "      <td>8.25</td>\n",
       "      <td>3.270333</td>\n",
       "      <td>2.440</td>\n",
       "      <td>2.87</td>\n",
       "      <td>307.894226</td>\n",
       "    </tr>\n",
       "    <tr>\n",
       "      <th>2020-12-23</th>\n",
       "      <td>10.06</td>\n",
       "      <td>8.14</td>\n",
       "      <td>3.279417</td>\n",
       "      <td>2.460</td>\n",
       "      <td>2.91</td>\n",
       "      <td>306.343658</td>\n",
       "    </tr>\n",
       "    <tr>\n",
       "      <th>2020-12-24</th>\n",
       "      <td>10.03</td>\n",
       "      <td>8.29</td>\n",
       "      <td>3.311212</td>\n",
       "      <td>2.485</td>\n",
       "      <td>3.70</td>\n",
       "      <td>307.695404</td>\n",
       "    </tr>\n",
       "  </tbody>\n",
       "</table>\n",
       "</div>"
      ],
      "text/plain": [
       "             ACHR  LIQT      USDP    FSI  GEVO         QQQ\n",
       "Date                                                      \n",
       "2020-12-18   9.97  8.54  3.333923  2.470  2.39  307.634827\n",
       "2020-12-21  10.07  8.35  3.270333  2.460  2.86  307.059326\n",
       "2020-12-22  10.02  8.25  3.270333  2.440  2.87  307.894226\n",
       "2020-12-23  10.06  8.14  3.279417  2.460  2.91  306.343658\n",
       "2020-12-24  10.03  8.29  3.311212  2.485  3.70  307.695404"
      ]
     },
     "execution_count": 41,
     "metadata": {},
     "output_type": "execute_result"
    }
   ],
   "source": [
    "tickers = ['ACHR', 'LIQT', 'USDP', 'FSI', 'GEVO', 'QQQ']\n",
    "d1 = today.strftime(\"%Y-%m-%d\")\n",
    "end_date = d1\n",
    "d2 = date.today() - timedelta(days=365*5)\n",
    "d2 = d2.strftime(\"%Y-%m-%d\")\n",
    "start_date = d2\n",
    "\n",
    "i = 1\n",
    "for ticker in tickers:        \n",
    "    if i == 1:\n",
    "        full_df = yf.download(\n",
    "            ticker, \n",
    "            start=start_date, \n",
    "            end=end_date, \n",
    "            progress=False\n",
    "        )\n",
    "        full_df = full_df[['Adj Close']].reset_index()\n",
    "        full_df.rename(columns={'Adj Close': ticker}, inplace=True)\n",
    "        full_df.set_index('Date', inplace=True)\n",
    "        i+=1\n",
    "    else:\n",
    "        temp = yf.download(\n",
    "            ticker, \n",
    "            start=start_date, \n",
    "            end=end_date, \n",
    "            progress=False\n",
    "        )\n",
    "        temp = temp[['Adj Close']].reset_index()\n",
    "        temp.rename(columns={'Adj Close': ticker}, inplace=True)\n",
    "        temp.set_index('Date', inplace=True)\n",
    "\n",
    "        full_df = pd.concat([full_df, temp], axis=1)\n",
    "        i+=1\n",
    "\n",
    "full_df.dropna(inplace=True)\n",
    "full_df.head()"
   ]
  },
  {
   "cell_type": "code",
   "execution_count": 42,
   "metadata": {},
   "outputs": [
    {
     "name": "stdout",
     "output_type": "stream",
     "text": [
      "[0.0397705  0.03343636 0.35790858 0.12158728 0.22734935 0.21994794]\n"
     ]
    },
    {
     "data": {
      "image/png": "[encoded data removed]",
      "text/plain": [
       "<Figure size 432x288 with 1 Axes>"
      ]
     },
     "metadata": {
      "needs_background": "light"
     },
     "output_type": "display_data"
    }
   ],
   "source": [
    "# Resample the full dataframe to monthly timeframe\n",
    "monthly_df = full_df.resample('BMS').first()\n",
    "\n",
    "# Calculate daily returns of stocks\n",
    "returns_daily = full_df.pct_change()\n",
    "\n",
    "# Calculate monthly returns of the stocks\n",
    "returns_monthly = monthly_df.pct_change().dropna()\n",
    "\n",
    "# Daily covariance of stocks (for each monthly period)\n",
    "covariances = {}\n",
    "rtd_idx = returns_daily.index\n",
    "for i in returns_monthly.index:    \n",
    "    # Mask daily returns for each month and year, and calculate covariance\n",
    "    mask = (rtd_idx.month == i.month) & (rtd_idx.year == i.year)\n",
    "    \n",
    "    # Use the mask to get daily returns for the current month and year of monthy returns index\n",
    "    covariances[i] = returns_daily[mask].cov()\n",
    "\n",
    "portfolio_returns, portfolio_volatility, portfolio_weights = {}, {}, {}\n",
    "\n",
    "# Get portfolio performances at each month\n",
    "for d in sorted(covariances.keys()):\n",
    "    cov = covariances[d]\n",
    "    for portfolio in range(10):\n",
    "        weights = np.random.random(len(tickers))\n",
    "        weights /= np.sum(weights) # /= divides weights by their sum to normalize\n",
    "        returns = np.dot(weights, returns_monthly.loc[d])\n",
    "        volatility = np.sqrt(np.dot(weights.T, np.dot(cov, weights)))\n",
    "        portfolio_returns.setdefault(d, []).append(returns)\n",
    "        portfolio_volatility.setdefault(d, []).append(volatility)\n",
    "        portfolio_weights.setdefault(d, []).append(weights)\n",
    "        \n",
    "print(portfolio_weights[d][0])\n",
    "\n",
    "# Get latest date of available data\n",
    "d = sorted(covariances.keys())[-1]  \n",
    "\n",
    "# Plot efficient frontier\n",
    "# warning: this can take at least 10s for the plot to execute...\n",
    "plt.scatter(\n",
    "    x=portfolio_volatility[d],\n",
    "    y=portfolio_returns[d],\n",
    "    alpha=0.8\n",
    ")\n",
    "plt.xlabel('Volatility')\n",
    "plt.ylabel('Returns')\n",
    "plt.show()"
   ]
  },
  {
   "cell_type": "code",
   "execution_count": 43,
   "metadata": {},
   "outputs": [
    {
     "data": {
      "image/png": "[encoded data removed]",
      "text/plain": [
       "<Figure size 432x288 with 1 Axes>"
      ]
     },
     "metadata": {
      "needs_background": "light"
     },
     "output_type": "display_data"
    }
   ],
   "source": [
    "# Empty dictionaries for sharpe ratios and best sharpe indexes by date\n",
    "sharpe_ratio, max_sharpe_idxs = {}, {}\n",
    "\n",
    "# Loop through dates and get sharpe ratio for each portfolio\n",
    "for date in portfolio_returns.keys():\n",
    "    for i, ret in enumerate(portfolio_returns[date]):\n",
    "    \n",
    "        # Divide returns by the volatility for the date and index, i\n",
    "        sharpe_ratio.setdefault(date, []).append(ret / portfolio_volatility[date][i])\n",
    "\n",
    "    # Get the index of the best sharpe ratio for each date\n",
    "    max_sharpe_idxs[date] = np.argmax(sharpe_ratio[date])\n",
    "\n",
    "# Calculate exponentially-weighted moving average of daily returns\n",
    "ewma_daily = returns_daily.ewm(span=30).mean()\n",
    "\n",
    "# Resample daily returns to first business day of the month with the first day for that month\n",
    "ewma_monthly = ewma_daily.resample('BMS').first()\n",
    "\n",
    "# Shift ewma for the month by 1 month forward so we can use it as a feature for future predictions \n",
    "ewma_monthly = ewma_monthly.shift(1).dropna()\n",
    "\n",
    "targets, features = [], []\n",
    "\n",
    "# Create features from price history and targets as ideal portfolio\n",
    "for d, ewma in ewma_monthly.iterrows():\n",
    "\n",
    "    # Get the index of the best sharpe ratio\n",
    "    best_idx = max_sharpe_idxs[d]\n",
    "    targets.append(portfolio_weights[d][best_idx])\n",
    "    features.append(ewma)  # add ewma to features\n",
    "\n",
    "targets = np.array(targets)\n",
    "features = np.array(features)\n",
    "\n",
    "# Get most recent (current) returns and volatility\n",
    "d = sorted(covariances.keys())[-1]\n",
    "cur_returns = portfolio_returns[d]\n",
    "cur_volatility = portfolio_volatility[d]\n",
    "\n",
    "# Plot efficient frontier with sharpe as point\n",
    "plt.scatter(\n",
    "    x=cur_volatility, \n",
    "    y=cur_returns, \n",
    "    alpha=0.1, \n",
    "    color='blue'\n",
    ")\n",
    "best_idx = max_sharpe_idxs[d]\n",
    "\n",
    "# Place an orange \"X\" on the point with the best Sharpe ratio\n",
    "plt.scatter(\n",
    "    x=cur_volatility[best_idx], \n",
    "    y=cur_returns[best_idx], \n",
    "    marker='x', \n",
    "    color='orange'\n",
    ")\n",
    "plt.xlabel('Volatility')\n",
    "plt.ylabel('Returns')\n",
    "plt.show()"
   ]
  },
  {
   "cell_type": "code",
   "execution_count": 46,
   "metadata": {},
   "outputs": [
    {
     "name": "stdout",
     "output_type": "stream",
     "text": [
      "0.8497651302500658\n",
      "-139.33952298418268\n"
     ]
    },
    {
     "data": {
      "image/png": "[encoded data removed]",
      "text/plain": [
       "<Figure size 432x288 with 1 Axes>"
      ]
     },
     "metadata": {
      "needs_background": "light"
     },
     "output_type": "display_data"
    }
   ],
   "source": [
    "from sklearn.ensemble import RandomForestRegressor\n",
    "\n",
    "# Make train and test features\n",
    "train_size = int(0.9 * features.shape[0])\n",
    "train_features = features[:train_size]\n",
    "test_features = features[train_size:]\n",
    "train_targets = targets[:train_size]\n",
    "test_targets = targets[train_size:]\n",
    "\n",
    "# Fit the model and check scores on train and test\n",
    "rfr = RandomForestRegressor(n_estimators=300, random_state=42)\n",
    "rfr.fit(train_features, train_targets)\n",
    "print(rfr.score(train_features, train_targets))\n",
    "print(rfr.score(test_features, test_targets))\n",
    "\n",
    "# Get predictions from model on train and test\n",
    "train_predictions = rfr.predict(train_features)\n",
    "test_predictions = rfr.predict(test_features)\n",
    "\n",
    "# Calculate and plot returns from our RF predictions and the SPY returns\n",
    "test_returns = np.sum(returns_monthly.iloc[train_size:] * test_predictions, axis=1)\n",
    "plt.plot(test_returns, label='algo')\n",
    "plt.plot(returns_monthly['QQQ'].iloc[train_size:], label='QQQ')\n",
    "plt.legend()\n",
    "plt.show()"
   ]
  },
  {
   "cell_type": "code",
   "execution_count": 49,
   "metadata": {},
   "outputs": [
    {
     "name": "stdout",
     "output_type": "stream",
     "text": [
      "algo returns: 0.12698601512892196\n",
      "FSI returns: 0.15789472216567718\n"
     ]
    },
    {
     "data": {
      "image/png": "[encoded data removed]",
      "text/plain": [
       "<Figure size 432x288 with 1 Axes>"
      ]
     },
     "metadata": {
      "needs_background": "light"
     },
     "output_type": "display_data"
    }
   ],
   "source": [
    "# Calculate the effect of our portfolio selection on a hypothetical $1k investment\n",
    "cash = 1000\n",
    "algo_cash, fsi_cash = [cash], [cash]  # set equal starting cash amounts\n",
    "for r in test_returns:\n",
    "    cash *= 1 + r\n",
    "    algo_cash.append(cash)\n",
    "\n",
    "# Calculate performance for SPY\n",
    "cash = 1000  # reset cash amount\n",
    "for r in returns_monthly['FSI'].iloc[train_size:]:\n",
    "    cash *= 1 + r\n",
    "    fsi_cash.append(cash)\n",
    "\n",
    "print('algo returns:', (algo_cash[-1] - algo_cash[0]) / algo_cash[0])\n",
    "print('FSI returns:', (fsi_cash[-1] - fsi_cash[0]) / fsi_cash[0])\n",
    "\n",
    "# Plot the algo_cash and fsi_cash to compare overall returns\n",
    "plt.plot(algo_cash, label='algo')\n",
    "plt.plot(fsi_cash, label='FSI')\n",
    "plt.legend()  # show the legend\n",
    "plt.show()"
   ]
  }
 ],
 "metadata": {
  "interpreter": {
   "hash": "468f25ad0239460415b7e6b7483d5c8f7213894121f6fb96c4cb6ef93fffe534"
  },
  "kernelspec": {
   "display_name": "Python 3.9.7 64-bit",
   "language": "python",
   "name": "python3"
  },
  "language_info": {
   "codemirror_mode": {
    "name": "ipython",
    "version": 3
   },
   "file_extension": ".py",
   "mimetype": "text/x-python",
   "name": "python",
   "nbconvert_exporter": "python",
   "pygments_lexer": "ipython3",
   "version": "3.9.7"
  },
  "orig_nbformat": 4
 },
 "nbformat": 4,
 "nbformat_minor": 2
}
